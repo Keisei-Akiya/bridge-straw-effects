{
 "cells": [
  {
   "cell_type": "markdown",
   "metadata": {},
   "source": [
    "# GLMM"
   ]
  },
  {
   "cell_type": "code",
   "execution_count": 2,
   "metadata": {},
   "outputs": [],
   "source": [
    "import pandas as pd\n",
    "import numpy as np\n",
    "import matplotlib.pyplot as plt\n",
    "import seaborn as sns\n",
    "import gpboost as gpb\n",
    "from patsy import dmatrix"
   ]
  },
  {
   "cell_type": "code",
   "execution_count": 4,
   "metadata": {},
   "outputs": [
    {
     "name": "stderr",
     "output_type": "stream",
     "text": [
      "/tmp/ipykernel_3274/332922789.py:3: FutureWarning: The default fill_method='ffill' in SeriesGroupBy.pct_change is deprecated and will be removed in a future version. Either fill in any non-leading NA values prior to calling pct_change or specify 'fill_method=None' to not fill NA values.\n",
      "  df['population_change_rate'] = df.groupby('island_id')['population'].pct_change()\n"
     ]
    }
   ],
   "source": [
    "filepath = '../../../../data/processed/df_filtered_5years.xlsx'\n",
    "df = pd.read_excel(filepath).drop(columns='special')\n",
    "df['population_change_rate'] = df.groupby('island_id')['population'].pct_change()\n",
    "df['log_income'] = np.log(df['income'])\n",
    "df.dropna(inplace=True)\n",
    "\n",
    "# 四分位範囲（IQR）を計算\n",
    "Q1 = df['population_change_rate'].quantile(0.25)\n",
    "Q3 = df['population_change_rate'].quantile(0.75)\n",
    "IQR = Q3 - Q1\n",
    "\n",
    "# 外れ値の定義\n",
    "lower_bound = Q1 - 1.5 * IQR\n",
    "upper_bound = Q3 + 1.5 * IQR\n",
    "\n",
    "# 外れ値を除外\n",
    "df_filtered = df[(df['population_change_rate'] >= lower_bound) & (df['population_change_rate'] <= upper_bound)]"
   ]
  },
  {
   "cell_type": "code",
   "execution_count": 5,
   "metadata": {},
   "outputs": [
    {
     "name": "stdout",
     "output_type": "stream",
     "text": [
      "=====================================================\n",
      "Model summary:\n",
      " Log-lik      AIC     BIC\n",
      "  510.05 -1008.11 -982.11\n",
      "Nb. observations: 563\n",
      "Nb. groups: 151 (island_id), 8 (year)\n",
      "-----------------------------------------------------\n",
      "Covariance parameters (random effects):\n",
      "            Param.  Std. dev.\n",
      "Error_term  0.0083     0.0006\n",
      "island_id   0.0013     0.0004\n",
      "year        0.0013     0.0008\n",
      "-----------------------------------------------------\n",
      "Linear regression coefficients (fixed effects):\n",
      "                           Param.  Std. dev.  z value  P(>|z|)\n",
      "Intercept                 -0.0658     0.0281  -2.3393   0.0193\n",
      "dummy_after_bridge_opened  0.0265     0.0111   2.3906   0.0168\n",
      "log_income                -0.0093     0.0029  -3.2073   0.0013\n",
      "=====================================================\n",
      "<gpboost.basic.GPModel object at 0x7f7794b88d00>\n"
     ]
    }
   ],
   "source": [
    "group = df_filtered[['island_id', 'year']]\n",
    "y = df_filtered['population_change_rate']\n",
    "X = dmatrix('dummy_after_bridge_opened + log_income', data=df_filtered, return_type='dataframe')\n",
    "\n",
    "model = gpb.GPModel(group_data=group, likelihood='gaussian') # 正規分布\n",
    "model.fit(y=y, X=X, params={'std_dev': True})\n",
    "\n",
    "pred = model.predict(X_pred=X, group_data_pred=group)['mu']\n",
    "residuals = y - pred\n",
    "\n",
    "print(model.summary())"
   ]
  }
 ],
 "metadata": {
  "kernelspec": {
   "display_name": ".venv",
   "language": "python",
   "name": "python3"
  },
  "language_info": {
   "codemirror_mode": {
    "name": "ipython",
    "version": 3
   },
   "file_extension": ".py",
   "mimetype": "text/x-python",
   "name": "python",
   "nbconvert_exporter": "python",
   "pygments_lexer": "ipython3",
   "version": "3.10.15"
  }
 },
 "nbformat": 4,
 "nbformat_minor": 2
}
