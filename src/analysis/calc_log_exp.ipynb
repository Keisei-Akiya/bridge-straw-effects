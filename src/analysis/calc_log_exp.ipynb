{
 "cells": [
  {
   "cell_type": "markdown",
   "metadata": {},
   "source": [
    "# 対数と指数の計算"
   ]
  },
  {
   "cell_type": "code",
   "execution_count": 3,
   "metadata": {},
   "outputs": [],
   "source": [
    "import numpy as np"
   ]
  },
  {
   "cell_type": "code",
   "execution_count": 4,
   "metadata": {},
   "outputs": [],
   "source": [
    "def get_effect(num_log):\n",
    "    num_exp = np.exp(num_log)\n",
    "    effect = num_exp -1\n",
    "    return effect\n",
    "\n",
    "mean = get_effect(0.165)\n",
    "sd = get_effect(0.021)\n",
    "lower = get_effect(0.126)\n",
    "upper = get_effect(0.210)"
   ]
  },
  {
   "cell_type": "code",
   "execution_count": 5,
   "metadata": {},
   "outputs": [
    {
     "name": "stdout",
     "output_type": "stream",
     "text": [
      "平均 17.94%, (13.43%, 23.37%)\n"
     ]
    }
   ],
   "source": [
    "print(f'平均 {mean:.2%}, ({lower:.2%}, {upper:.2%})')"
   ]
  },
  {
   "cell_type": "code",
   "execution_count": null,
   "metadata": {},
   "outputs": [],
   "source": [
    "def get_effect(num_log):\n",
    "    num_exp = np.exp(num_log)\n",
    "    effect = num_exp -1\n",
    "    return effect\n",
    "\n",
    "mean = get_effect(0.476)\n",
    "sd = get_effect(0.128)\n",
    "lower = get_effect(0.210)\n",
    "upper = get_effect(0.720)"
   ]
  },
  {
   "cell_type": "code",
   "execution_count": null,
   "metadata": {},
   "outputs": [
    {
     "name": "stdout",
     "output_type": "stream",
     "text": [
      "平均 60.96%, (23.37%, 105.44%)\n"
     ]
    }
   ],
   "source": [
    "print(f'平均 {mean:.2%}, ({lower:.2%}, {upper:.2%})')"
   ]
  },
  {
   "cell_type": "code",
   "execution_count": 21,
   "metadata": {},
   "outputs": [],
   "source": [
    "def get_effect(num_log):\n",
    "    num_exp = np.exp(num_log)\n",
    "    effect = num_exp -1\n",
    "    return effect\n",
    "\n",
    "mean = get_effect(0.408)\n",
    "sd = get_effect(0.081)\n",
    "lower = get_effect(0.247)\n",
    "upper = get_effect(0.561)"
   ]
  },
  {
   "cell_type": "code",
   "execution_count": null,
   "metadata": {},
   "outputs": [
    {
     "name": "stdout",
     "output_type": "stream",
     "text": [
      "平均 50.38%, (28.02%, 75.24%)\n"
     ]
    },
    {
     "data": {
      "text/plain": [
       "0.08437089656676044"
      ]
     },
     "metadata": {},
     "output_type": "display_data"
    }
   ],
   "source": [
    "print(f'平均 {mean:.2%}, ({lower:.2%}, {upper:.2%})')"
   ]
  }
 ],
 "metadata": {
  "kernelspec": {
   "display_name": ".venv",
   "language": "python",
   "name": "python3"
  },
  "language_info": {
   "codemirror_mode": {
    "name": "ipython",
    "version": 3
   },
   "file_extension": ".py",
   "mimetype": "text/x-python",
   "name": "python",
   "nbconvert_exporter": "python",
   "pygments_lexer": "ipython3",
   "version": "3.10.15"
  }
 },
 "nbformat": 4,
 "nbformat_minor": 2
}
