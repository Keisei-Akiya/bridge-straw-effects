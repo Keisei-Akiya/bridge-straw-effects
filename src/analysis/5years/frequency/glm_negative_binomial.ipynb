{
 "cells": [
  {
   "cell_type": "markdown",
   "metadata": {},
   "source": [
    "# GLM 負の二項分布"
   ]
  },
  {
   "cell_type": "code",
   "execution_count": 1,
   "metadata": {},
   "outputs": [],
   "source": [
    "import pandas as pd\n",
    "import numpy as np\n",
    "import matplotlib.pyplot as plt\n",
    "import seaborn as sns\n",
    "import statsmodels.api as sm\n",
    "import statsmodels.formula.api as smf"
   ]
  },
  {
   "cell_type": "code",
   "execution_count": 2,
   "metadata": {},
   "outputs": [
    {
     "data": {
      "text/html": [
       "<div>\n",
       "<style scoped>\n",
       "    .dataframe tbody tr th:only-of-type {\n",
       "        vertical-align: middle;\n",
       "    }\n",
       "\n",
       "    .dataframe tbody tr th {\n",
       "        vertical-align: top;\n",
       "    }\n",
       "\n",
       "    .dataframe thead th {\n",
       "        text-align: right;\n",
       "    }\n",
       "</style>\n",
       "<table border=\"1\" class=\"dataframe\">\n",
       "  <thead>\n",
       "    <tr style=\"text-align: right;\">\n",
       "      <th></th>\n",
       "      <th>island</th>\n",
       "      <th>year</th>\n",
       "      <th>island_id</th>\n",
       "      <th>region_code</th>\n",
       "      <th>region_name</th>\n",
       "      <th>prefecture_code</th>\n",
       "      <th>prefecture_code.1</th>\n",
       "      <th>population</th>\n",
       "      <th>dummy_island_has_bridge</th>\n",
       "      <th>dummy_island_is_connected_mainland</th>\n",
       "      <th>year_bridge_opened</th>\n",
       "      <th>dummy_after_bridge_opened</th>\n",
       "      <th>year_connect_mainland</th>\n",
       "      <th>dummy_after_connect_mainland</th>\n",
       "      <th>income</th>\n",
       "      <th>JPNCPIALLAINMEI</th>\n",
       "      <th>nominal_income</th>\n",
       "      <th>log_income</th>\n",
       "    </tr>\n",
       "  </thead>\n",
       "  <tbody>\n",
       "    <tr>\n",
       "      <th>2</th>\n",
       "      <td>島後</td>\n",
       "      <td>2005</td>\n",
       "      <td>0</td>\n",
       "      <td>32528</td>\n",
       "      <td>隠岐の島町</td>\n",
       "      <td>32</td>\n",
       "      <td>島根県</td>\n",
       "      <td>17259.0</td>\n",
       "      <td>0</td>\n",
       "      <td>0</td>\n",
       "      <td>0</td>\n",
       "      <td>0</td>\n",
       "      <td>0</td>\n",
       "      <td>0</td>\n",
       "      <td>196868.811077</td>\n",
       "      <td>96.93730</td>\n",
       "      <td>19083931.0</td>\n",
       "      <td>12.190293</td>\n",
       "    </tr>\n",
       "    <tr>\n",
       "      <th>3</th>\n",
       "      <td>島後</td>\n",
       "      <td>2010</td>\n",
       "      <td>0</td>\n",
       "      <td>32528</td>\n",
       "      <td>隠岐の島町</td>\n",
       "      <td>32</td>\n",
       "      <td>島根県</td>\n",
       "      <td>15930.0</td>\n",
       "      <td>0</td>\n",
       "      <td>0</td>\n",
       "      <td>0</td>\n",
       "      <td>0</td>\n",
       "      <td>0</td>\n",
       "      <td>0</td>\n",
       "      <td>166610.045283</td>\n",
       "      <td>96.53008</td>\n",
       "      <td>16082881.0</td>\n",
       "      <td>12.023411</td>\n",
       "    </tr>\n",
       "    <tr>\n",
       "      <th>4</th>\n",
       "      <td>島後</td>\n",
       "      <td>2015</td>\n",
       "      <td>0</td>\n",
       "      <td>32528</td>\n",
       "      <td>隠岐の島町</td>\n",
       "      <td>32</td>\n",
       "      <td>島根県</td>\n",
       "      <td>14901.0</td>\n",
       "      <td>0</td>\n",
       "      <td>0</td>\n",
       "      <td>0</td>\n",
       "      <td>0</td>\n",
       "      <td>0</td>\n",
       "      <td>0</td>\n",
       "      <td>161353.170000</td>\n",
       "      <td>100.00000</td>\n",
       "      <td>16135317.0</td>\n",
       "      <td>11.991351</td>\n",
       "    </tr>\n",
       "    <tr>\n",
       "      <th>5</th>\n",
       "      <td>島後</td>\n",
       "      <td>2020</td>\n",
       "      <td>0</td>\n",
       "      <td>32528</td>\n",
       "      <td>隠岐の島町</td>\n",
       "      <td>32</td>\n",
       "      <td>島根県</td>\n",
       "      <td>13882.0</td>\n",
       "      <td>0</td>\n",
       "      <td>0</td>\n",
       "      <td>0</td>\n",
       "      <td>0</td>\n",
       "      <td>0</td>\n",
       "      <td>0</td>\n",
       "      <td>171650.091455</td>\n",
       "      <td>101.79860</td>\n",
       "      <td>17473739.0</td>\n",
       "      <td>12.053213</td>\n",
       "    </tr>\n",
       "    <tr>\n",
       "      <th>6</th>\n",
       "      <td>中ノ島</td>\n",
       "      <td>1985</td>\n",
       "      <td>1</td>\n",
       "      <td>32525</td>\n",
       "      <td>海士町</td>\n",
       "      <td>32</td>\n",
       "      <td>島根県</td>\n",
       "      <td>3339.0</td>\n",
       "      <td>0</td>\n",
       "      <td>0</td>\n",
       "      <td>0</td>\n",
       "      <td>0</td>\n",
       "      <td>0</td>\n",
       "      <td>0</td>\n",
       "      <td>30999.550430</td>\n",
       "      <td>85.34827</td>\n",
       "      <td>2645758.0</td>\n",
       "      <td>10.341728</td>\n",
       "    </tr>\n",
       "  </tbody>\n",
       "</table>\n",
       "</div>"
      ],
      "text/plain": [
       "  island  year  island_id  region_code region_name  prefecture_code  \\\n",
       "2     島後  2005          0        32528       隠岐の島町               32   \n",
       "3     島後  2010          0        32528       隠岐の島町               32   \n",
       "4     島後  2015          0        32528       隠岐の島町               32   \n",
       "5     島後  2020          0        32528       隠岐の島町               32   \n",
       "6    中ノ島  1985          1        32525         海士町               32   \n",
       "\n",
       "  prefecture_code.1  population  dummy_island_has_bridge  \\\n",
       "2               島根県     17259.0                        0   \n",
       "3               島根県     15930.0                        0   \n",
       "4               島根県     14901.0                        0   \n",
       "5               島根県     13882.0                        0   \n",
       "6               島根県      3339.0                        0   \n",
       "\n",
       "   dummy_island_is_connected_mainland  year_bridge_opened  \\\n",
       "2                                   0                   0   \n",
       "3                                   0                   0   \n",
       "4                                   0                   0   \n",
       "5                                   0                   0   \n",
       "6                                   0                   0   \n",
       "\n",
       "   dummy_after_bridge_opened  year_connect_mainland  \\\n",
       "2                          0                      0   \n",
       "3                          0                      0   \n",
       "4                          0                      0   \n",
       "5                          0                      0   \n",
       "6                          0                      0   \n",
       "\n",
       "   dummy_after_connect_mainland         income  JPNCPIALLAINMEI  \\\n",
       "2                             0  196868.811077         96.93730   \n",
       "3                             0  166610.045283         96.53008   \n",
       "4                             0  161353.170000        100.00000   \n",
       "5                             0  171650.091455        101.79860   \n",
       "6                             0   30999.550430         85.34827   \n",
       "\n",
       "   nominal_income  log_income  \n",
       "2      19083931.0   12.190293  \n",
       "3      16082881.0   12.023411  \n",
       "4      16135317.0   11.991351  \n",
       "5      17473739.0   12.053213  \n",
       "6       2645758.0   10.341728  "
      ]
     },
     "execution_count": 2,
     "metadata": {},
     "output_type": "execute_result"
    }
   ],
   "source": [
    "filepath = '../../../../data/processed/df_filtered_5years.xlsx'\n",
    "df = pd.read_excel(filepath)\n",
    "df['log_income'] = np.log(df['income'])\n",
    "df = df.dropna()\n",
    "df.head()"
   ]
  },
  {
   "cell_type": "code",
   "execution_count": 3,
   "metadata": {},
   "outputs": [
    {
     "name": "stdout",
     "output_type": "stream",
     "text": [
      "                 Generalized Linear Model Regression Results                  \n",
      "==============================================================================\n",
      "Dep. Variable:             population   No. Observations:                  611\n",
      "Model:                            GLM   Df Residuals:                      608\n",
      "Model Family:        NegativeBinomial   Df Model:                            2\n",
      "Link Function:                    Log   Scale:                          1.0000\n",
      "Method:                          IRLS   Log-Likelihood:                -5000.1\n",
      "Date:                Wed, 09 Oct 2024   Deviance:                       2006.7\n",
      "Time:                        19:56:57   Pearson chi2:                 3.80e+03\n",
      "No. Iterations:                    10   Pseudo R-squ. (CS):             0.6770\n",
      "Covariance Type:            nonrobust                                         \n",
      "=============================================================================================\n",
      "                                coef    std err          z      P>|z|      [0.025      0.975]\n",
      "---------------------------------------------------------------------------------------------\n",
      "const                        11.1864      0.320     34.998      0.000      10.560      11.813\n",
      "dummy_after_bridge_opened     2.2521      0.091     24.661      0.000       2.073       2.431\n",
      "log_income                   -0.3500      0.024    -14.569      0.000      -0.397      -0.303\n",
      "=============================================================================================\n"
     ]
    },
    {
     "name": "stderr",
     "output_type": "stream",
     "text": [
      "/home/keisei/data-analysis/bridge-straw-effects/.venv/lib/python3.10/site-packages/statsmodels/genmod/families/family.py:1367: ValueWarning: Negative binomial dispersion parameter alpha not set. Using default value alpha=1.0.\n",
      "  warnings.warn(\"Negative binomial dispersion parameter alpha not \"\n"
     ]
    }
   ],
   "source": [
    "endog = df['population']\n",
    "exog = df[['dummy_after_bridge_opened', 'log_income']]\n",
    "exog = sm.add_constant(exog)\n",
    "\n",
    "model = sm.GLM(endog, exog, family=sm.families.NegativeBinomial())\n",
    "results = model.fit()\n",
    "print(results.summary())"
   ]
  },
  {
   "cell_type": "markdown",
   "metadata": {},
   "source": [
    "## 残差分析"
   ]
  },
  {
   "cell_type": "code",
   "execution_count": 4,
   "metadata": {},
   "outputs": [],
   "source": [
    "residuals = results.resid_response"
   ]
  },
  {
   "cell_type": "code",
   "execution_count": 5,
   "metadata": {},
   "outputs": [
    {
     "name": "stdout",
     "output_type": "stream",
     "text": [
      "coor between log_income and residuals: 0.171\n",
      "coor between bridge and residuals: -0.139\n",
      "coor between population and residuals: 0.782\n"
     ]
    }
   ],
   "source": [
    "# 変数と残差の相関\n",
    "corr_log_income = np.corrcoef(df['log_income'], residuals)[0, 1]\n",
    "corr_bridge = np.corrcoef(df['dummy_after_bridge_opened'], residuals)[0, 1]\n",
    "coor_population = np.corrcoef(df['population'], residuals)[0, 1]\n",
    "\n",
    "print(f'coor between log_income and residuals: {corr_log_income:.3f}')\n",
    "print(f'coor between bridge and residuals: {corr_bridge:.3f}')\n",
    "print(f'coor between population and residuals: {coor_population:.3f}')"
   ]
  },
  {
   "cell_type": "markdown",
   "metadata": {},
   "source": [
    "### 残差プロット"
   ]
  },
  {
   "cell_type": "code",
   "execution_count": 6,
   "metadata": {},
   "outputs": [
    {
     "data": {
      "image/png": "[encoded data removed]",
      "text/plain": [
       "<Figure size 1000x600 with 1 Axes>"
      ]
     },
     "metadata": {},
     "output_type": "display_data"
    }
   ],
   "source": [
    "plt.figure(figsize=(10, 6))\n",
    "plt.scatter(results.fittedvalues, residuals)\n",
    "plt.axhline(0, color='red', ls='--')\n",
    "plt.xlabel('Fitted values')\n",
    "plt.ylabel('Residuals')\n",
    "plt.title('Residuals vs Fitted values')\n",
    "plt.show()"
   ]
  },
  {
   "cell_type": "markdown",
   "metadata": {},
   "source": [
    "### 残差ヒストグラム"
   ]
  },
  {
   "cell_type": "code",
   "execution_count": 7,
   "metadata": {},
   "outputs": [
    {
     "data": {
      "image/png": "[encoded data removed]",
      "text/plain": [
       "<Figure size 1000x600 with 1 Axes>"
      ]
     },
     "metadata": {},
     "output_type": "display_data"
    }
   ],
   "source": [
    "plt.figure(figsize=(10, 6))\n",
    "plt.hist(residuals, edgecolor='black')\n",
    "plt.show()"
   ]
  }
 ],
 "metadata": {
  "kernelspec": {
   "display_name": ".venv",
   "language": "python",
   "name": "python3"
  },
  "language_info": {
   "codemirror_mode": {
    "name": "ipython",
    "version": 3
   },
   "file_extension": ".py",
   "mimetype": "text/x-python",
   "name": "python",
   "nbconvert_exporter": "python",
   "pygments_lexer": "ipython3",
   "version": "3.10.15"
  }
 },
 "nbformat": 4,
 "nbformat_minor": 2
}
