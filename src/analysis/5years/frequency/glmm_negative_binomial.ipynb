{
 "cells": [
  {
   "cell_type": "markdown",
   "metadata": {},
   "source": [
    "# GLMM 負の二項分布回帰\n",
    "\n",
    "ポアソン分布が過分散のときに使用できる分布が負の二項分布であり，ポアソン回帰が過剰に精密に推定してしまうことを防ぐために使用される．"
   ]
  },
  {
   "cell_type": "code",
   "execution_count": 1,
   "metadata": {},
   "outputs": [],
   "source": [
    "import pandas as pd\n",
    "import numpy as np\n",
    "import matplotlib.pyplot as plt\n",
    "import seaborn as sns\n",
    "\n",
    "import gpboost as gpb\n",
    "# https://gpboost.readthedocs.io/en/latest/pythonapi/gpboost.GPModel.html\n",
    "\n",
    "from patsy import dmatrix"
   ]
  },
  {
   "cell_type": "code",
   "execution_count": 2,
   "metadata": {},
   "outputs": [
    {
     "data": {
      "text/html": [
       "<div>\n",
       "<style scoped>\n",
       "    .dataframe tbody tr th:only-of-type {\n",
       "        vertical-align: middle;\n",
       "    }\n",
       "\n",
       "    .dataframe tbody tr th {\n",
       "        vertical-align: top;\n",
       "    }\n",
       "\n",
       "    .dataframe thead th {\n",
       "        text-align: right;\n",
       "    }\n",
       "</style>\n",
       "<table border=\"1\" class=\"dataframe\">\n",
       "  <thead>\n",
       "    <tr style=\"text-align: right;\">\n",
       "      <th></th>\n",
       "      <th>island</th>\n",
       "      <th>year</th>\n",
       "      <th>island_id</th>\n",
       "      <th>region_code</th>\n",
       "      <th>region_name</th>\n",
       "      <th>prefecture_code</th>\n",
       "      <th>prefecture_code.1</th>\n",
       "      <th>population</th>\n",
       "      <th>dummy_island_has_bridge</th>\n",
       "      <th>dummy_island_is_connected_mainland</th>\n",
       "      <th>year_bridge_opened</th>\n",
       "      <th>dummy_after_bridge_opened</th>\n",
       "      <th>year_connect_mainland</th>\n",
       "      <th>dummy_after_connect_mainland</th>\n",
       "      <th>income</th>\n",
       "      <th>log_income</th>\n",
       "    </tr>\n",
       "  </thead>\n",
       "  <tbody>\n",
       "    <tr>\n",
       "      <th>2</th>\n",
       "      <td>島後</td>\n",
       "      <td>2005</td>\n",
       "      <td>0</td>\n",
       "      <td>32528</td>\n",
       "      <td>隠岐の島町</td>\n",
       "      <td>32</td>\n",
       "      <td>島根県</td>\n",
       "      <td>17259.0</td>\n",
       "      <td>0</td>\n",
       "      <td>0</td>\n",
       "      <td>0</td>\n",
       "      <td>0</td>\n",
       "      <td>0</td>\n",
       "      <td>0</td>\n",
       "      <td>19083931.0</td>\n",
       "      <td>16.764357</td>\n",
       "    </tr>\n",
       "    <tr>\n",
       "      <th>3</th>\n",
       "      <td>島後</td>\n",
       "      <td>2010</td>\n",
       "      <td>0</td>\n",
       "      <td>32528</td>\n",
       "      <td>隠岐の島町</td>\n",
       "      <td>32</td>\n",
       "      <td>島根県</td>\n",
       "      <td>15930.0</td>\n",
       "      <td>0</td>\n",
       "      <td>0</td>\n",
       "      <td>0</td>\n",
       "      <td>0</td>\n",
       "      <td>0</td>\n",
       "      <td>0</td>\n",
       "      <td>16082881.0</td>\n",
       "      <td>16.593266</td>\n",
       "    </tr>\n",
       "    <tr>\n",
       "      <th>4</th>\n",
       "      <td>島後</td>\n",
       "      <td>2015</td>\n",
       "      <td>0</td>\n",
       "      <td>32528</td>\n",
       "      <td>隠岐の島町</td>\n",
       "      <td>32</td>\n",
       "      <td>島根県</td>\n",
       "      <td>14901.0</td>\n",
       "      <td>0</td>\n",
       "      <td>0</td>\n",
       "      <td>0</td>\n",
       "      <td>0</td>\n",
       "      <td>0</td>\n",
       "      <td>0</td>\n",
       "      <td>16135317.0</td>\n",
       "      <td>16.596521</td>\n",
       "    </tr>\n",
       "    <tr>\n",
       "      <th>5</th>\n",
       "      <td>島後</td>\n",
       "      <td>2020</td>\n",
       "      <td>0</td>\n",
       "      <td>32528</td>\n",
       "      <td>隠岐の島町</td>\n",
       "      <td>32</td>\n",
       "      <td>島根県</td>\n",
       "      <td>13882.0</td>\n",
       "      <td>0</td>\n",
       "      <td>0</td>\n",
       "      <td>0</td>\n",
       "      <td>0</td>\n",
       "      <td>0</td>\n",
       "      <td>0</td>\n",
       "      <td>17473739.0</td>\n",
       "      <td>16.676210</td>\n",
       "    </tr>\n",
       "    <tr>\n",
       "      <th>6</th>\n",
       "      <td>中ノ島</td>\n",
       "      <td>1985</td>\n",
       "      <td>1</td>\n",
       "      <td>32525</td>\n",
       "      <td>海士町</td>\n",
       "      <td>32</td>\n",
       "      <td>島根県</td>\n",
       "      <td>3339.0</td>\n",
       "      <td>0</td>\n",
       "      <td>0</td>\n",
       "      <td>0</td>\n",
       "      <td>0</td>\n",
       "      <td>0</td>\n",
       "      <td>0</td>\n",
       "      <td>2645758.0</td>\n",
       "      <td>14.788468</td>\n",
       "    </tr>\n",
       "  </tbody>\n",
       "</table>\n",
       "</div>"
      ],
      "text/plain": [
       "  island  year  island_id  region_code region_name  prefecture_code  \\\n",
       "2     島後  2005          0        32528       隠岐の島町               32   \n",
       "3     島後  2010          0        32528       隠岐の島町               32   \n",
       "4     島後  2015          0        32528       隠岐の島町               32   \n",
       "5     島後  2020          0        32528       隠岐の島町               32   \n",
       "6    中ノ島  1985          1        32525         海士町               32   \n",
       "\n",
       "  prefecture_code.1  population  dummy_island_has_bridge  \\\n",
       "2               島根県     17259.0                        0   \n",
       "3               島根県     15930.0                        0   \n",
       "4               島根県     14901.0                        0   \n",
       "5               島根県     13882.0                        0   \n",
       "6               島根県      3339.0                        0   \n",
       "\n",
       "   dummy_island_is_connected_mainland  year_bridge_opened  \\\n",
       "2                                   0                   0   \n",
       "3                                   0                   0   \n",
       "4                                   0                   0   \n",
       "5                                   0                   0   \n",
       "6                                   0                   0   \n",
       "\n",
       "   dummy_after_bridge_opened  year_connect_mainland  \\\n",
       "2                          0                      0   \n",
       "3                          0                      0   \n",
       "4                          0                      0   \n",
       "5                          0                      0   \n",
       "6                          0                      0   \n",
       "\n",
       "   dummy_after_connect_mainland      income  log_income  \n",
       "2                             0  19083931.0   16.764357  \n",
       "3                             0  16082881.0   16.593266  \n",
       "4                             0  16135317.0   16.596521  \n",
       "5                             0  17473739.0   16.676210  \n",
       "6                             0   2645758.0   14.788468  "
      ]
     },
     "execution_count": 2,
     "metadata": {},
     "output_type": "execute_result"
    }
   ],
   "source": [
    "filepath = '../../../data/processed/df_filtered_5years.xlsx'\n",
    "df = pd.read_excel(filepath)\n",
    "df['log_income'] = np.log(df['income'])\n",
    "df = df.dropna()\n",
    "df.head()"
   ]
  },
  {
   "cell_type": "markdown",
   "metadata": {},
   "source": [
    "## 人口の平均と分散"
   ]
  },
  {
   "cell_type": "code",
   "execution_count": 3,
   "metadata": {},
   "outputs": [
    {
     "name": "stdout",
     "output_type": "stream",
     "text": [
      "mean_population: 2317.68085106383\n",
      "std_population: 5886.239145207748\n"
     ]
    }
   ],
   "source": [
    "mean_population = np.mean(df['population'])\n",
    "std_population = np.std(df['population'])\n",
    "\n",
    "print(f'mean_population: {mean_population}')\n",
    "print(f'std_population: {std_population}')"
   ]
  },
  {
   "cell_type": "markdown",
   "metadata": {},
   "source": [
    "## モデルの適合"
   ]
  },
  {
   "cell_type": "code",
   "execution_count": 6,
   "metadata": {},
   "outputs": [
    {
     "name": "stdout",
     "output_type": "stream",
     "text": [
      "=====================================================\n",
      "Model summary:\n",
      " Log-lik     AIC     BIC\n",
      "-3632.39 7286.77 7335.34\n",
      "Nb. observations: 611\n",
      "Nb. groups: 154 (island_id)\n",
      "-----------------------------------------------------\n",
      "Covariance parameters (random effects):\n",
      "           Param.\n",
      "island_id  4.5719\n",
      "-----------------------------------------------------\n",
      "Linear regression coefficients (fixed effects):\n",
      "                           Param.  Std. dev.  z value  P(>|z|)\n",
      "Intercept                  6.1888     0.2151  28.7703   0.0000\n",
      "C(year)[T.1990]           -0.0729     0.0489  -1.4884   0.1366\n",
      "C(year)[T.1995]           -0.0854     0.0407  -2.0982   0.0359\n",
      "C(year)[T.2000]           -0.2006     0.0451  -4.4473   0.0000\n",
      "C(year)[T.2005]           -0.0647     0.0336  -1.9247   0.0543\n",
      "C(year)[T.2010]           -0.2258     0.0363  -6.2268   0.0000\n",
      "C(year)[T.2015]           -0.3800     0.0366 -10.3797   0.0000\n",
      "C(year)[T.2020]           -0.5576     0.0368 -15.1437   0.0000\n",
      "dummy_after_bridge_opened  0.0127     0.0111   1.1371   0.2555\n",
      "log_income                -0.0316     0.0122  -2.5904   0.0096\n",
      "-----------------------------------------------------\n",
      "Additional parameters:\n",
      "        Param.\n",
      "shape  64.9878\n",
      "=====================================================\n",
      "<gpboost.basic.GPModel object at 0x7f0a0ec19600>\n"
     ]
    }
   ],
   "source": [
    "group = df['island_id']\n",
    "y = df['population']\n",
    "X = dmatrix('dummy_after_bridge_opened + log_income + C(year)', data=df, return_type='dataframe')\n",
    "\n",
    "model = gpb.GPModel(group_data=group, likelihood='negative_binomial') # 負の二項分布\n",
    "model.fit(y=y, X=X, params={'std_dev': True})\n",
    "\n",
    "pred = model.predict(X_pred=X, group_data_pred=group)['mu']\n",
    "residuals = y - pred\n",
    "\n",
    "print(model.summary())"
   ]
  },
  {
   "cell_type": "markdown",
   "metadata": {},
   "source": [
    "## 残差分析"
   ]
  },
  {
   "cell_type": "code",
   "execution_count": 7,
   "metadata": {},
   "outputs": [
    {
     "name": "stdout",
     "output_type": "stream",
     "text": [
      "coor between log_income and residuals: 0.040\n",
      "coor between bridge and residuals: -0.031\n",
      "coor between population and residuals: -0.014\n"
     ]
    }
   ],
   "source": [
    "# 変数と残差の相関\n",
    "corr_log_income = np.corrcoef(df['log_income'], residuals)[0, 1]\n",
    "corr_bridge = np.corrcoef(df['dummy_after_bridge_opened'], residuals)[0, 1]\n",
    "coor_population = np.corrcoef(df['population'], residuals)[0, 1]\n",
    "\n",
    "print(f'coor between log_income and residuals: {corr_log_income:.3f}')\n",
    "print(f'coor between bridge and residuals: {corr_bridge:.3f}')\n",
    "print(f'coor between population and residuals: {coor_population:.3f}')"
   ]
  },
  {
   "cell_type": "markdown",
   "metadata": {},
   "source": [
    "### 残差プロット"
   ]
  },
  {
   "cell_type": "code",
   "execution_count": 8,
   "metadata": {},
   "outputs": [
    {
     "data": {
      "image/png": "[encoded data removed]",
      "text/plain": [
       "<Figure size 1000x600 with 1 Axes>"
      ]
     },
     "metadata": {},
     "output_type": "display_data"
    }
   ],
   "source": [
    "plt.figure(figsize=(10, 6))\n",
    "plt.scatter(pred, residuals)\n",
    "plt.axhline(0, color='red', ls='--')\n",
    "plt.xlabel('Predicted values')\n",
    "plt.ylabel('Residuals')\n",
    "plt.title('Residuals vs Predicted values')\n",
    "plt.show()"
   ]
  },
  {
   "cell_type": "markdown",
   "metadata": {},
   "source": [
    "### 残差ヒストグラム"
   ]
  },
  {
   "cell_type": "code",
   "execution_count": 9,
   "metadata": {},
   "outputs": [
    {
     "data": {
      "image/png": "[encoded data removed]",
      "text/plain": [
       "<Figure size 1000x600 with 1 Axes>"
      ]
     },
     "metadata": {},
     "output_type": "display_data"
    }
   ],
   "source": [
    "plt.figure(figsize=(10, 6))\n",
    "plt.hist(residuals, edgecolor='black')\n",
    "plt.show()"
   ]
  },
  {
   "cell_type": "code",
   "execution_count": null,
   "metadata": {},
   "outputs": [],
   "source": []
  }
 ],
 "metadata": {
  "kernelspec": {
   "display_name": ".venv",
   "language": "python",
   "name": "python3"
  },
  "language_info": {
   "codemirror_mode": {
    "name": "ipython",
    "version": 3
   },
   "file_extension": ".py",
   "mimetype": "text/x-python",
   "name": "python",
   "nbconvert_exporter": "python",
   "pygments_lexer": "ipython3",
   "version": "3.10.15"
  }
 },
 "nbformat": 4,
 "nbformat_minor": 2
}
