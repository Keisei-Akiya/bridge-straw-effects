{
 "cells": [
  {
   "cell_type": "markdown",
   "metadata": {},
   "source": [
    "# GLM 負の二項分布 単回帰"
   ]
  },
  {
   "cell_type": "code",
   "execution_count": 6,
   "metadata": {},
   "outputs": [],
   "source": [
    "import pandas as pd\n",
    "import numpy as np\n",
    "import matplotlib.pyplot as plt\n",
    "import seaborn as sns\n",
    "import statsmodels.api as sm"
   ]
  },
  {
   "cell_type": "code",
   "execution_count": 7,
   "metadata": {},
   "outputs": [
    {
     "data": {
      "text/html": [
       "<div>\n",
       "<style scoped>\n",
       "    .dataframe tbody tr th:only-of-type {\n",
       "        vertical-align: middle;\n",
       "    }\n",
       "\n",
       "    .dataframe tbody tr th {\n",
       "        vertical-align: top;\n",
       "    }\n",
       "\n",
       "    .dataframe thead th {\n",
       "        text-align: right;\n",
       "    }\n",
       "</style>\n",
       "<table border=\"1\" class=\"dataframe\">\n",
       "  <thead>\n",
       "    <tr style=\"text-align: right;\">\n",
       "      <th></th>\n",
       "      <th>island</th>\n",
       "      <th>year</th>\n",
       "      <th>island_id</th>\n",
       "      <th>region_code</th>\n",
       "      <th>region_name</th>\n",
       "      <th>prefecture_code</th>\n",
       "      <th>population</th>\n",
       "      <th>dummy_island_has_bridge</th>\n",
       "      <th>dummy_island_is_connected_mainland</th>\n",
       "      <th>year_bridge_opened</th>\n",
       "      <th>dummy_after_bridge_opened</th>\n",
       "      <th>year_connect_mainland</th>\n",
       "      <th>dummy_after_connect_mainland</th>\n",
       "      <th>income</th>\n",
       "      <th>prefecture_name</th>\n",
       "      <th>area_km2</th>\n",
       "      <th>distance_m</th>\n",
       "      <th>log_income</th>\n",
       "    </tr>\n",
       "  </thead>\n",
       "  <tbody>\n",
       "    <tr>\n",
       "      <th>5</th>\n",
       "      <td>島後</td>\n",
       "      <td>2005</td>\n",
       "      <td>62</td>\n",
       "      <td>32528</td>\n",
       "      <td>隠岐の島町</td>\n",
       "      <td>32</td>\n",
       "      <td>17259.0</td>\n",
       "      <td>0.0</td>\n",
       "      <td>0.0</td>\n",
       "      <td>0.0</td>\n",
       "      <td>0.0</td>\n",
       "      <td>0.0</td>\n",
       "      <td>0.0</td>\n",
       "      <td>2030.888121</td>\n",
       "      <td>島根県</td>\n",
       "      <td>241.53</td>\n",
       "      <td>67840.0</td>\n",
       "      <td>7.616228</td>\n",
       "    </tr>\n",
       "    <tr>\n",
       "      <th>6</th>\n",
       "      <td>島後</td>\n",
       "      <td>2010</td>\n",
       "      <td>62</td>\n",
       "      <td>32528</td>\n",
       "      <td>隠岐の島町</td>\n",
       "      <td>32</td>\n",
       "      <td>15930.0</td>\n",
       "      <td>0.0</td>\n",
       "      <td>0.0</td>\n",
       "      <td>0.0</td>\n",
       "      <td>0.0</td>\n",
       "      <td>0.0</td>\n",
       "      <td>0.0</td>\n",
       "      <td>1725.990958</td>\n",
       "      <td>島根県</td>\n",
       "      <td>241.53</td>\n",
       "      <td>67840.0</td>\n",
       "      <td>7.453557</td>\n",
       "    </tr>\n",
       "    <tr>\n",
       "      <th>7</th>\n",
       "      <td>島後</td>\n",
       "      <td>2015</td>\n",
       "      <td>62</td>\n",
       "      <td>32528</td>\n",
       "      <td>隠岐の島町</td>\n",
       "      <td>32</td>\n",
       "      <td>14901.0</td>\n",
       "      <td>0.0</td>\n",
       "      <td>0.0</td>\n",
       "      <td>0.0</td>\n",
       "      <td>0.0</td>\n",
       "      <td>0.0</td>\n",
       "      <td>0.0</td>\n",
       "      <td>1613.531700</td>\n",
       "      <td>島根県</td>\n",
       "      <td>241.53</td>\n",
       "      <td>67840.0</td>\n",
       "      <td>7.386181</td>\n",
       "    </tr>\n",
       "    <tr>\n",
       "      <th>8</th>\n",
       "      <td>島後</td>\n",
       "      <td>2020</td>\n",
       "      <td>62</td>\n",
       "      <td>32528</td>\n",
       "      <td>隠岐の島町</td>\n",
       "      <td>32</td>\n",
       "      <td>13882.0</td>\n",
       "      <td>0.0</td>\n",
       "      <td>0.0</td>\n",
       "      <td>0.0</td>\n",
       "      <td>0.0</td>\n",
       "      <td>0.0</td>\n",
       "      <td>0.0</td>\n",
       "      <td>1686.173400</td>\n",
       "      <td>島根県</td>\n",
       "      <td>241.53</td>\n",
       "      <td>67840.0</td>\n",
       "      <td>7.430217</td>\n",
       "    </tr>\n",
       "    <tr>\n",
       "      <th>10</th>\n",
       "      <td>中ノ島</td>\n",
       "      <td>1985</td>\n",
       "      <td>63</td>\n",
       "      <td>32525</td>\n",
       "      <td>海士町</td>\n",
       "      <td>32</td>\n",
       "      <td>3339.0</td>\n",
       "      <td>0.0</td>\n",
       "      <td>0.0</td>\n",
       "      <td>0.0</td>\n",
       "      <td>0.0</td>\n",
       "      <td>0.0</td>\n",
       "      <td>0.0</td>\n",
       "      <td>363.212405</td>\n",
       "      <td>島根県</td>\n",
       "      <td>32.29</td>\n",
       "      <td>49730.0</td>\n",
       "      <td>5.894988</td>\n",
       "    </tr>\n",
       "  </tbody>\n",
       "</table>\n",
       "</div>"
      ],
      "text/plain": [
       "   island  year  island_id region_code region_name  prefecture_code  \\\n",
       "5      島後  2005         62       32528       隠岐の島町               32   \n",
       "6      島後  2010         62       32528       隠岐の島町               32   \n",
       "7      島後  2015         62       32528       隠岐の島町               32   \n",
       "8      島後  2020         62       32528       隠岐の島町               32   \n",
       "10    中ノ島  1985         63       32525         海士町               32   \n",
       "\n",
       "    population  dummy_island_has_bridge  dummy_island_is_connected_mainland  \\\n",
       "5      17259.0                      0.0                                 0.0   \n",
       "6      15930.0                      0.0                                 0.0   \n",
       "7      14901.0                      0.0                                 0.0   \n",
       "8      13882.0                      0.0                                 0.0   \n",
       "10      3339.0                      0.0                                 0.0   \n",
       "\n",
       "    year_bridge_opened  dummy_after_bridge_opened  year_connect_mainland  \\\n",
       "5                  0.0                        0.0                    0.0   \n",
       "6                  0.0                        0.0                    0.0   \n",
       "7                  0.0                        0.0                    0.0   \n",
       "8                  0.0                        0.0                    0.0   \n",
       "10                 0.0                        0.0                    0.0   \n",
       "\n",
       "    dummy_after_connect_mainland       income prefecture_name  area_km2  \\\n",
       "5                            0.0  2030.888121             島根県    241.53   \n",
       "6                            0.0  1725.990958             島根県    241.53   \n",
       "7                            0.0  1613.531700             島根県    241.53   \n",
       "8                            0.0  1686.173400             島根県    241.53   \n",
       "10                           0.0   363.212405             島根県     32.29   \n",
       "\n",
       "    distance_m  log_income  \n",
       "5      67840.0    7.616228  \n",
       "6      67840.0    7.453557  \n",
       "7      67840.0    7.386181  \n",
       "8      67840.0    7.430217  \n",
       "10     49730.0    5.894988  "
      ]
     },
     "execution_count": 7,
     "metadata": {},
     "output_type": "execute_result"
    }
   ],
   "source": [
    "filepath = '../../../../../data/processed/df_filtered_5years.xlsx'\n",
    "df = pd.read_excel(filepath).drop(columns='special')\n",
    "df['log_income'] = np.log(df['income'])\n",
    "df = df.dropna()\n",
    "df.head()"
   ]
  },
  {
   "cell_type": "code",
   "execution_count": 12,
   "metadata": {},
   "outputs": [],
   "source": [
    "# 過分散パラメータ\n",
    "population = df['population']\n",
    "mean_population = np.mean(population)\n",
    "var_population = np.var(population)\n",
    "\n",
    "alpha = (var_population - mean_population) / mean_population**2"
   ]
  },
  {
   "cell_type": "code",
   "execution_count": 13,
   "metadata": {},
   "outputs": [
    {
     "name": "stdout",
     "output_type": "stream",
     "text": [
      "                 Generalized Linear Model Regression Results                  \n",
      "==============================================================================\n",
      "Dep. Variable:             population   No. Observations:                  830\n",
      "Model:                            GLM   Df Residuals:                      828\n",
      "Model Family:        NegativeBinomial   Df Model:                            1\n",
      "Link Function:                    Log   Scale:                          1.0000\n",
      "Method:                          IRLS   Log-Likelihood:                -6691.2\n",
      "Date:                Sat, 19 Oct 2024   Deviance:                       327.35\n",
      "Time:                        14:26:53   Pearson chi2:                     814.\n",
      "No. Iterations:                     7   Pseudo R-squ. (CS):            0.08066\n",
      "Covariance Type:            nonrobust                                         \n",
      "=============================================================================================\n",
      "                                coef    std err          z      P>|z|      [0.025      0.975]\n",
      "---------------------------------------------------------------------------------------------\n",
      "const                         6.6469      0.115     57.849      0.000       6.422       6.872\n",
      "dummy_after_bridge_opened     1.7750      0.235      7.546      0.000       1.314       2.236\n",
      "=============================================================================================\n"
     ]
    }
   ],
   "source": [
    "y = df['population']\n",
    "X = df['dummy_after_bridge_opened']\n",
    "X = sm.add_constant(X)\n",
    "\n",
    "model = sm.GLM(y, X, family=sm.families.NegativeBinomial(alpha=alpha))\n",
    "results = model.fit()\n",
    "print(results.summary())"
   ]
  },
  {
   "cell_type": "markdown",
   "metadata": {},
   "source": [
    "## 残差分析"
   ]
  },
  {
   "cell_type": "code",
   "execution_count": 14,
   "metadata": {},
   "outputs": [],
   "source": [
    "residuals = results.resid_response"
   ]
  },
  {
   "cell_type": "code",
   "execution_count": 16,
   "metadata": {},
   "outputs": [
    {
     "name": "stdout",
     "output_type": "stream",
     "text": [
      "coor between bridge and residuals: -0.000\n",
      "coor between population and residuals: 0.943\n"
     ]
    }
   ],
   "source": [
    "# 変数と残差の相関\n",
    "corr_bridge = np.corrcoef(df['dummy_after_bridge_opened'], residuals)[0, 1]\n",
    "coor_population = np.corrcoef(df['population'], residuals)[0, 1]\n",
    "\n",
    "print(f'coor between bridge and residuals: {corr_bridge:.3f}')\n",
    "print(f'coor between population and residuals: {coor_population:.3f}')"
   ]
  },
  {
   "cell_type": "markdown",
   "metadata": {},
   "source": [
    "### 残差プロット"
   ]
  },
  {
   "cell_type": "code",
   "execution_count": 17,
   "metadata": {},
   "outputs": [
    {
     "data": {
      "image/png": "[encoded data removed]",
      "text/plain": [
       "<Figure size 1000x600 with 1 Axes>"
      ]
     },
     "metadata": {},
     "output_type": "display_data"
    }
   ],
   "source": [
    "plt.figure(figsize=(10, 6))\n",
    "plt.scatter(results.fittedvalues, residuals)\n",
    "plt.axhline(0, color='red', ls='--')\n",
    "plt.xlabel('Fitted values')\n",
    "plt.ylabel('Residuals')\n",
    "plt.title('Residuals vs Fitted values')\n",
    "plt.show()"
   ]
  },
  {
   "cell_type": "markdown",
   "metadata": {},
   "source": [
    "### 残差ヒストグラム"
   ]
  },
  {
   "cell_type": "code",
   "execution_count": 7,
   "metadata": {},
   "outputs": [
    {
     "data": {
      "image/png": "[encoded data removed]",
      "text/plain": [
       "<Figure size 1000x600 with 1 Axes>"
      ]
     },
     "metadata": {},
     "output_type": "display_data"
    }
   ],
   "source": [
    "plt.figure(figsize=(10, 6))\n",
    "plt.hist(residuals, edgecolor='black')\n",
    "plt.show()"
   ]
  }
 ],
 "metadata": {
  "kernelspec": {
   "display_name": ".venv",
   "language": "python",
   "name": "python3"
  },
  "language_info": {
   "codemirror_mode": {
    "name": "ipython",
    "version": 3
   },
   "file_extension": ".py",
   "mimetype": "text/x-python",
   "name": "python",
   "nbconvert_exporter": "python",
   "pygments_lexer": "ipython3",
   "version": "3.10.15"
  }
 },
 "nbformat": 4,
 "nbformat_minor": 2
}
