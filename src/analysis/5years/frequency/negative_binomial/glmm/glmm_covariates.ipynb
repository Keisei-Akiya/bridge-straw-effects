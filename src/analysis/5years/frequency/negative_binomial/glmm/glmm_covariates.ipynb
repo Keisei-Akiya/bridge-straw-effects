{
 "cells": [
  {
   "cell_type": "markdown",
   "metadata": {},
   "source": [
    "# GLMM 負の二項分布回帰\n",
    "\n",
    "ポアソン分布が過分散のときに使用できる分布が負の二項分布であり，ポアソン回帰が過剰に精密に推定してしまうことを防ぐために使用される．"
   ]
  },
  {
   "cell_type": "code",
   "execution_count": 1,
   "metadata": {},
   "outputs": [],
   "source": [
    "import pandas as pd\n",
    "import numpy as np\n",
    "import matplotlib.pyplot as plt\n",
    "import seaborn as sns\n",
    "import gpboost as gpb\n",
    "from patsy import dmatrix"
   ]
  },
  {
   "cell_type": "code",
   "execution_count": 2,
   "metadata": {},
   "outputs": [
    {
     "data": {
      "text/html": [
       "<div>\n",
       "<style scoped>\n",
       "    .dataframe tbody tr th:only-of-type {\n",
       "        vertical-align: middle;\n",
       "    }\n",
       "\n",
       "    .dataframe tbody tr th {\n",
       "        vertical-align: top;\n",
       "    }\n",
       "\n",
       "    .dataframe thead th {\n",
       "        text-align: right;\n",
       "    }\n",
       "</style>\n",
       "<table border=\"1\" class=\"dataframe\">\n",
       "  <thead>\n",
       "    <tr style=\"text-align: right;\">\n",
       "      <th></th>\n",
       "      <th>island</th>\n",
       "      <th>year</th>\n",
       "      <th>island_id</th>\n",
       "      <th>region_code</th>\n",
       "      <th>region_name</th>\n",
       "      <th>prefecture_code</th>\n",
       "      <th>population</th>\n",
       "      <th>dummy_island_has_bridge</th>\n",
       "      <th>dummy_island_is_connected_mainland</th>\n",
       "      <th>year_bridge_opened</th>\n",
       "      <th>dummy_after_bridge_opened</th>\n",
       "      <th>year_connect_mainland</th>\n",
       "      <th>dummy_after_connect_mainland</th>\n",
       "      <th>income</th>\n",
       "      <th>prefecture_name</th>\n",
       "      <th>area_km2</th>\n",
       "      <th>distance_m</th>\n",
       "    </tr>\n",
       "  </thead>\n",
       "  <tbody>\n",
       "    <tr>\n",
       "      <th>5</th>\n",
       "      <td>島後</td>\n",
       "      <td>2005</td>\n",
       "      <td>62</td>\n",
       "      <td>32528</td>\n",
       "      <td>隠岐の島町</td>\n",
       "      <td>32</td>\n",
       "      <td>17259.0</td>\n",
       "      <td>0.0</td>\n",
       "      <td>0.0</td>\n",
       "      <td>0.0</td>\n",
       "      <td>0.0</td>\n",
       "      <td>0.0</td>\n",
       "      <td>0.0</td>\n",
       "      <td>2030.888121</td>\n",
       "      <td>島根県</td>\n",
       "      <td>241.53</td>\n",
       "      <td>67840.0</td>\n",
       "    </tr>\n",
       "    <tr>\n",
       "      <th>6</th>\n",
       "      <td>島後</td>\n",
       "      <td>2010</td>\n",
       "      <td>62</td>\n",
       "      <td>32528</td>\n",
       "      <td>隠岐の島町</td>\n",
       "      <td>32</td>\n",
       "      <td>15930.0</td>\n",
       "      <td>0.0</td>\n",
       "      <td>0.0</td>\n",
       "      <td>0.0</td>\n",
       "      <td>0.0</td>\n",
       "      <td>0.0</td>\n",
       "      <td>0.0</td>\n",
       "      <td>1725.990958</td>\n",
       "      <td>島根県</td>\n",
       "      <td>241.53</td>\n",
       "      <td>67840.0</td>\n",
       "    </tr>\n",
       "    <tr>\n",
       "      <th>7</th>\n",
       "      <td>島後</td>\n",
       "      <td>2015</td>\n",
       "      <td>62</td>\n",
       "      <td>32528</td>\n",
       "      <td>隠岐の島町</td>\n",
       "      <td>32</td>\n",
       "      <td>14901.0</td>\n",
       "      <td>0.0</td>\n",
       "      <td>0.0</td>\n",
       "      <td>0.0</td>\n",
       "      <td>0.0</td>\n",
       "      <td>0.0</td>\n",
       "      <td>0.0</td>\n",
       "      <td>1613.531700</td>\n",
       "      <td>島根県</td>\n",
       "      <td>241.53</td>\n",
       "      <td>67840.0</td>\n",
       "    </tr>\n",
       "    <tr>\n",
       "      <th>8</th>\n",
       "      <td>島後</td>\n",
       "      <td>2020</td>\n",
       "      <td>62</td>\n",
       "      <td>32528</td>\n",
       "      <td>隠岐の島町</td>\n",
       "      <td>32</td>\n",
       "      <td>13882.0</td>\n",
       "      <td>0.0</td>\n",
       "      <td>0.0</td>\n",
       "      <td>0.0</td>\n",
       "      <td>0.0</td>\n",
       "      <td>0.0</td>\n",
       "      <td>0.0</td>\n",
       "      <td>1686.173400</td>\n",
       "      <td>島根県</td>\n",
       "      <td>241.53</td>\n",
       "      <td>67840.0</td>\n",
       "    </tr>\n",
       "    <tr>\n",
       "      <th>10</th>\n",
       "      <td>中ノ島</td>\n",
       "      <td>1985</td>\n",
       "      <td>63</td>\n",
       "      <td>32525</td>\n",
       "      <td>海士町</td>\n",
       "      <td>32</td>\n",
       "      <td>3339.0</td>\n",
       "      <td>0.0</td>\n",
       "      <td>0.0</td>\n",
       "      <td>0.0</td>\n",
       "      <td>0.0</td>\n",
       "      <td>0.0</td>\n",
       "      <td>0.0</td>\n",
       "      <td>363.212405</td>\n",
       "      <td>島根県</td>\n",
       "      <td>32.29</td>\n",
       "      <td>49730.0</td>\n",
       "    </tr>\n",
       "  </tbody>\n",
       "</table>\n",
       "</div>"
      ],
      "text/plain": [
       "   island  year  island_id region_code region_name  prefecture_code  \\\n",
       "5      島後  2005         62       32528       隠岐の島町               32   \n",
       "6      島後  2010         62       32528       隠岐の島町               32   \n",
       "7      島後  2015         62       32528       隠岐の島町               32   \n",
       "8      島後  2020         62       32528       隠岐の島町               32   \n",
       "10    中ノ島  1985         63       32525         海士町               32   \n",
       "\n",
       "    population  dummy_island_has_bridge  dummy_island_is_connected_mainland  \\\n",
       "5      17259.0                      0.0                                 0.0   \n",
       "6      15930.0                      0.0                                 0.0   \n",
       "7      14901.0                      0.0                                 0.0   \n",
       "8      13882.0                      0.0                                 0.0   \n",
       "10      3339.0                      0.0                                 0.0   \n",
       "\n",
       "    year_bridge_opened  dummy_after_bridge_opened  year_connect_mainland  \\\n",
       "5                  0.0                        0.0                    0.0   \n",
       "6                  0.0                        0.0                    0.0   \n",
       "7                  0.0                        0.0                    0.0   \n",
       "8                  0.0                        0.0                    0.0   \n",
       "10                 0.0                        0.0                    0.0   \n",
       "\n",
       "    dummy_after_connect_mainland       income prefecture_name  area_km2  \\\n",
       "5                            0.0  2030.888121             島根県    241.53   \n",
       "6                            0.0  1725.990958             島根県    241.53   \n",
       "7                            0.0  1613.531700             島根県    241.53   \n",
       "8                            0.0  1686.173400             島根県    241.53   \n",
       "10                           0.0   363.212405             島根県     32.29   \n",
       "\n",
       "    distance_m  \n",
       "5      67840.0  \n",
       "6      67840.0  \n",
       "7      67840.0  \n",
       "8      67840.0  \n",
       "10     49730.0  "
      ]
     },
     "execution_count": 2,
     "metadata": {},
     "output_type": "execute_result"
    }
   ],
   "source": [
    "filepath = '../../../../../../data/processed/df_filtered_5years.xlsx'\n",
    "df = pd.read_excel(filepath).drop(columns='special')\n",
    "df = df.dropna()\n",
    "df.head()"
   ]
  },
  {
   "cell_type": "markdown",
   "metadata": {},
   "source": [
    "## Define the variables"
   ]
  },
  {
   "cell_type": "code",
   "execution_count": 3,
   "metadata": {},
   "outputs": [],
   "source": [
    "population = df['population']\n",
    "bridge = df['dummy_after_bridge_opened']\n",
    "income = df['income']\n",
    "log_income = np.log(income)\n",
    "area = df['area_km2']\n",
    "log_area = np.log(area)\n",
    "distance = df['distance_m']\n",
    "log_distance = np.log(distance)\n",
    "\n",
    "# 過分散パラメータ\n",
    "mean_population = np.mean(population)\n",
    "var_population = np.var(population)\n",
    "\n",
    "alpha = (var_population - mean_population) / mean_population**2"
   ]
  },
  {
   "cell_type": "markdown",
   "metadata": {},
   "source": [
    "## モデリング"
   ]
  },
  {
   "cell_type": "markdown",
   "metadata": {},
   "source": [
    "### ランダム効果は島のみ"
   ]
  },
  {
   "cell_type": "code",
   "execution_count": 7,
   "metadata": {},
   "outputs": [
    {
     "name": "stdout",
     "output_type": "stream",
     "text": [
      "=====================================================\n",
      "Model summary:\n",
      " Log-lik      AIC      BIC\n",
      "-5104.62 10221.23 10249.56\n",
      "Nb. observations: 830\n",
      "Nb. groups: 151 (island_id)\n",
      "-----------------------------------------------------\n",
      "Covariance parameters (random effects):\n",
      "           Param.\n",
      "island_id  1.5226\n",
      "-----------------------------------------------------\n",
      "Linear regression coefficients (fixed effects):\n",
      "              Param.  Std. dev.  z value  P(>|z|)\n",
      "Intercept     6.8190     0.5053  13.4951   0.0000\n",
      "bridge       -0.0962     0.0890  -1.0816   0.2794\n",
      "log_income   -0.0848     0.0122  -6.9376   0.0000\n",
      "log_area      1.1243     0.0613  18.3522   0.0000\n",
      "log_distance -0.2000     0.0681  -2.9364   0.0033\n",
      "-----------------------------------------------------\n",
      "Additional parameters:\n",
      "        Param.\n",
      "shape  11.2036\n",
      "=====================================================\n",
      "<gpboost.basic.GPModel object at 0x7f6b5b7a57e0>\n"
     ]
    }
   ],
   "source": [
    "group = df['island_id']\n",
    "y = df['population']\n",
    "X = dmatrix('bridge + log_income + log_area + log_distance', data=df, return_type='dataframe')\n",
    "\n",
    "model = gpb.GPModel(group_data=group, likelihood='negative_binomial') # 負の二項分布\n",
    "model.fit(y=y, X=X, params={'std_dev': True})\n",
    "\n",
    "pred = model.predict(X_pred=X, group_data_pred=group)['mu']\n",
    "residuals = y - pred\n",
    "\n",
    "print(model.summary())"
   ]
  },
  {
   "cell_type": "markdown",
   "metadata": {},
   "source": [
    "### ランダム効果は島と年"
   ]
  },
  {
   "cell_type": "code",
   "execution_count": 8,
   "metadata": {},
   "outputs": [
    {
     "name": "stdout",
     "output_type": "stream",
     "text": [
      "=====================================================\n",
      "Model summary:\n",
      " Log-lik     AIC     BIC\n",
      "-4763.16 9540.32 9573.37\n",
      "Nb. observations: 830\n",
      "Nb. groups: 151 (island_id), 8 (year)\n",
      "-----------------------------------------------------\n",
      "Covariance parameters (random effects):\n",
      "           Param.\n",
      "island_id  1.7062\n",
      "year       0.0616\n",
      "-----------------------------------------------------\n",
      "Linear regression coefficients (fixed effects):\n",
      "              Param.  Std. dev.  z value  P(>|z|)\n",
      "Intercept     5.5030     0.5231  10.5202   0.0000\n",
      "bridge        0.0697     0.0513   1.3592   0.1741\n",
      "log_income    0.0028     0.0079   0.3523   0.7246\n",
      "log_area      1.3311     0.0589  22.6161   0.0000\n",
      "log_distance -0.1461     0.0703  -2.0786   0.0377\n",
      "-----------------------------------------------------\n",
      "Additional parameters:\n",
      "        Param.\n",
      "shape  40.7343\n",
      "=====================================================\n",
      "<gpboost.basic.GPModel object at 0x7f6b5bbc69b0>\n"
     ]
    }
   ],
   "source": [
    "group = df[['island_id', 'year']]\n",
    "y = df['population']\n",
    "X = dmatrix('bridge + log_income + log_area + log_distance', data=df, return_type='dataframe')\n",
    "\n",
    "model = gpb.GPModel(group_data=group, likelihood='negative_binomial') # 負の二項分布\n",
    "model.fit(y=y, X=X, params={'std_dev': True})\n",
    "\n",
    "pred = model.predict(X_pred=X, group_data_pred=group)['mu']\n",
    "residuals = y - pred\n",
    "\n",
    "print(model.summary())"
   ]
  },
  {
   "cell_type": "markdown",
   "metadata": {},
   "source": [
    "## 残差分析"
   ]
  },
  {
   "cell_type": "code",
   "execution_count": 23,
   "metadata": {},
   "outputs": [
    {
     "name": "stdout",
     "output_type": "stream",
     "text": [
      "coor between log_income and residuals: 0.037\n",
      "coor between bridge and residuals: -0.030\n",
      "coor between population and residuals: -0.010\n"
     ]
    }
   ],
   "source": [
    "# 変数と残差の相関\n",
    "corr_log_income = np.corrcoef(df['log_income'], residuals)[0, 1]\n",
    "corr_bridge = np.corrcoef(df['dummy_after_bridge_opened'], residuals)[0, 1]\n",
    "coor_population = np.corrcoef(df['population'], residuals)[0, 1]\n",
    "\n",
    "print(f'coor between log_income and residuals: {corr_log_income:.3f}')\n",
    "print(f'coor between bridge and residuals: {corr_bridge:.3f}')\n",
    "print(f'coor between population and residuals: {coor_population:.3f}')"
   ]
  },
  {
   "cell_type": "markdown",
   "metadata": {},
   "source": [
    "### 残差プロット"
   ]
  },
  {
   "cell_type": "code",
   "execution_count": 24,
   "metadata": {},
   "outputs": [
    {
     "data": {
      "image/png": "[encoded data removed]",
      "text/plain": [
       "<Figure size 1000x600 with 1 Axes>"
      ]
     },
     "metadata": {},
     "output_type": "display_data"
    }
   ],
   "source": [
    "plt.figure(figsize=(10, 6))\n",
    "plt.scatter(pred, residuals)\n",
    "plt.axhline(0, color='red', ls='--')\n",
    "plt.xlabel('Predicted values')\n",
    "plt.ylabel('Residuals')\n",
    "plt.title('Residuals vs Predicted values')\n",
    "plt.show()"
   ]
  },
  {
   "cell_type": "markdown",
   "metadata": {},
   "source": [
    "### 残差ヒストグラム"
   ]
  },
  {
   "cell_type": "code",
   "execution_count": 25,
   "metadata": {},
   "outputs": [
    {
     "data": {
      "image/png": "[encoded data removed]",
      "text/plain": [
       "<Figure size 1000x600 with 1 Axes>"
      ]
     },
     "metadata": {},
     "output_type": "display_data"
    }
   ],
   "source": [
    "plt.figure(figsize=(10, 6))\n",
    "plt.hist(residuals, edgecolor='black')\n",
    "plt.show()"
   ]
  }
 ],
 "metadata": {
  "kernelspec": {
   "display_name": ".venv",
   "language": "python",
   "name": "python3"
  },
  "language_info": {
   "codemirror_mode": {
    "name": "ipython",
    "version": 3
   },
   "file_extension": ".py",
   "mimetype": "text/x-python",
   "name": "python",
   "nbconvert_exporter": "python",
   "pygments_lexer": "ipython3",
   "version": "3.10.15"
  }
 },
 "nbformat": 4,
 "nbformat_minor": 2
}
