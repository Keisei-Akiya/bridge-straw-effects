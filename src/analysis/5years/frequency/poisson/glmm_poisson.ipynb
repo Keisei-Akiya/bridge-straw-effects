{
 "cells": [
  {
   "cell_type": "markdown",
   "metadata": {},
   "source": [
    "# GLMM ポアソン回帰"
   ]
  },
  {
   "cell_type": "code",
   "execution_count": 15,
   "metadata": {},
   "outputs": [],
   "source": [
    "import pandas as pd\n",
    "import numpy as np\n",
    "import matplotlib.pyplot as plt\n",
    "import seaborn as sns\n",
    "\n",
    "import gpboost as gpb\n",
    "# https://gpboost.readthedocs.io/en/latest/pythonapi/gpboost.GPModel.html\n",
    "\n",
    "from patsy import dmatrix"
   ]
  },
  {
   "cell_type": "code",
   "execution_count": 16,
   "metadata": {},
   "outputs": [
    {
     "data": {
      "text/html": [
       "<div>\n",
       "<style scoped>\n",
       "    .dataframe tbody tr th:only-of-type {\n",
       "        vertical-align: middle;\n",
       "    }\n",
       "\n",
       "    .dataframe tbody tr th {\n",
       "        vertical-align: top;\n",
       "    }\n",
       "\n",
       "    .dataframe thead th {\n",
       "        text-align: right;\n",
       "    }\n",
       "</style>\n",
       "<table border=\"1\" class=\"dataframe\">\n",
       "  <thead>\n",
       "    <tr style=\"text-align: right;\">\n",
       "      <th></th>\n",
       "      <th>island</th>\n",
       "      <th>year</th>\n",
       "      <th>island_id</th>\n",
       "      <th>region_code</th>\n",
       "      <th>region_name</th>\n",
       "      <th>prefecture_code</th>\n",
       "      <th>prefecture_code.1</th>\n",
       "      <th>population</th>\n",
       "      <th>dummy_island_has_bridge</th>\n",
       "      <th>dummy_island_is_connected_mainland</th>\n",
       "      <th>year_bridge_opened</th>\n",
       "      <th>dummy_after_bridge_opened</th>\n",
       "      <th>year_connect_mainland</th>\n",
       "      <th>dummy_after_connect_mainland</th>\n",
       "      <th>income</th>\n",
       "      <th>log_income</th>\n",
       "    </tr>\n",
       "  </thead>\n",
       "  <tbody>\n",
       "    <tr>\n",
       "      <th>2</th>\n",
       "      <td>島後</td>\n",
       "      <td>2005</td>\n",
       "      <td>0</td>\n",
       "      <td>32528</td>\n",
       "      <td>隠岐の島町</td>\n",
       "      <td>32</td>\n",
       "      <td>島根県</td>\n",
       "      <td>17259.0</td>\n",
       "      <td>0</td>\n",
       "      <td>0</td>\n",
       "      <td>0</td>\n",
       "      <td>0</td>\n",
       "      <td>0</td>\n",
       "      <td>0</td>\n",
       "      <td>19083931.0</td>\n",
       "      <td>16.764357</td>\n",
       "    </tr>\n",
       "    <tr>\n",
       "      <th>3</th>\n",
       "      <td>島後</td>\n",
       "      <td>2010</td>\n",
       "      <td>0</td>\n",
       "      <td>32528</td>\n",
       "      <td>隠岐の島町</td>\n",
       "      <td>32</td>\n",
       "      <td>島根県</td>\n",
       "      <td>15930.0</td>\n",
       "      <td>0</td>\n",
       "      <td>0</td>\n",
       "      <td>0</td>\n",
       "      <td>0</td>\n",
       "      <td>0</td>\n",
       "      <td>0</td>\n",
       "      <td>16082881.0</td>\n",
       "      <td>16.593266</td>\n",
       "    </tr>\n",
       "    <tr>\n",
       "      <th>4</th>\n",
       "      <td>島後</td>\n",
       "      <td>2015</td>\n",
       "      <td>0</td>\n",
       "      <td>32528</td>\n",
       "      <td>隠岐の島町</td>\n",
       "      <td>32</td>\n",
       "      <td>島根県</td>\n",
       "      <td>14901.0</td>\n",
       "      <td>0</td>\n",
       "      <td>0</td>\n",
       "      <td>0</td>\n",
       "      <td>0</td>\n",
       "      <td>0</td>\n",
       "      <td>0</td>\n",
       "      <td>16135317.0</td>\n",
       "      <td>16.596521</td>\n",
       "    </tr>\n",
       "    <tr>\n",
       "      <th>5</th>\n",
       "      <td>島後</td>\n",
       "      <td>2020</td>\n",
       "      <td>0</td>\n",
       "      <td>32528</td>\n",
       "      <td>隠岐の島町</td>\n",
       "      <td>32</td>\n",
       "      <td>島根県</td>\n",
       "      <td>13882.0</td>\n",
       "      <td>0</td>\n",
       "      <td>0</td>\n",
       "      <td>0</td>\n",
       "      <td>0</td>\n",
       "      <td>0</td>\n",
       "      <td>0</td>\n",
       "      <td>17473739.0</td>\n",
       "      <td>16.676210</td>\n",
       "    </tr>\n",
       "    <tr>\n",
       "      <th>6</th>\n",
       "      <td>中ノ島</td>\n",
       "      <td>1985</td>\n",
       "      <td>1</td>\n",
       "      <td>32525</td>\n",
       "      <td>海士町</td>\n",
       "      <td>32</td>\n",
       "      <td>島根県</td>\n",
       "      <td>3339.0</td>\n",
       "      <td>0</td>\n",
       "      <td>0</td>\n",
       "      <td>0</td>\n",
       "      <td>0</td>\n",
       "      <td>0</td>\n",
       "      <td>0</td>\n",
       "      <td>2645758.0</td>\n",
       "      <td>14.788468</td>\n",
       "    </tr>\n",
       "  </tbody>\n",
       "</table>\n",
       "</div>"
      ],
      "text/plain": [
       "  island  year  island_id  region_code region_name  prefecture_code  \\\n",
       "2     島後  2005          0        32528       隠岐の島町               32   \n",
       "3     島後  2010          0        32528       隠岐の島町               32   \n",
       "4     島後  2015          0        32528       隠岐の島町               32   \n",
       "5     島後  2020          0        32528       隠岐の島町               32   \n",
       "6    中ノ島  1985          1        32525         海士町               32   \n",
       "\n",
       "  prefecture_code.1  population  dummy_island_has_bridge  \\\n",
       "2               島根県     17259.0                        0   \n",
       "3               島根県     15930.0                        0   \n",
       "4               島根県     14901.0                        0   \n",
       "5               島根県     13882.0                        0   \n",
       "6               島根県      3339.0                        0   \n",
       "\n",
       "   dummy_island_is_connected_mainland  year_bridge_opened  \\\n",
       "2                                   0                   0   \n",
       "3                                   0                   0   \n",
       "4                                   0                   0   \n",
       "5                                   0                   0   \n",
       "6                                   0                   0   \n",
       "\n",
       "   dummy_after_bridge_opened  year_connect_mainland  \\\n",
       "2                          0                      0   \n",
       "3                          0                      0   \n",
       "4                          0                      0   \n",
       "5                          0                      0   \n",
       "6                          0                      0   \n",
       "\n",
       "   dummy_after_connect_mainland      income  log_income  \n",
       "2                             0  19083931.0   16.764357  \n",
       "3                             0  16082881.0   16.593266  \n",
       "4                             0  16135317.0   16.596521  \n",
       "5                             0  17473739.0   16.676210  \n",
       "6                             0   2645758.0   14.788468  "
      ]
     },
     "execution_count": 16,
     "metadata": {},
     "output_type": "execute_result"
    }
   ],
   "source": [
    "filepath = '../../../data/processed/df_filtered_5years.xlsx'\n",
    "df = pd.read_excel(filepath)\n",
    "df['log_income'] = np.log(df['income'])\n",
    "df = df.dropna()\n",
    "df.head()"
   ]
  },
  {
   "cell_type": "markdown",
   "metadata": {},
   "source": [
    "## モデルの適合"
   ]
  },
  {
   "cell_type": "code",
   "execution_count": 87,
   "metadata": {},
   "outputs": [
    {
     "name": "stdout",
     "output_type": "stream",
     "text": [
      "=====================================================\n",
      "Model summary:\n",
      "  Log-lik      AIC     BIC\n",
      "-13201.32 26424.63 26473.2\n",
      "Nb. observations: 611\n",
      "Nb. groups: 154 (island_id)\n",
      "-----------------------------------------------------\n",
      "Covariance parameters (random effects):\n",
      "           Param.\n",
      "island_id  6.0206\n",
      "-----------------------------------------------------\n",
      "Linear regression coefficients (fixed effects):\n",
      "                           Param.  Std. dev.  z value  P(>|z|)\n",
      "Intercept                  7.0325     0.4330  16.2404      0.0\n",
      "C(year)[T.1990]           -0.0634     0.0054 -11.7678      0.0\n",
      "C(year)[T.1995]           -0.1069     0.0046 -23.1061      0.0\n",
      "C(year)[T.2000]           -0.1827     0.0047 -38.7467      0.0\n",
      "C(year)[T.2005]           -0.1653     0.0049 -33.6262      0.0\n",
      "C(year)[T.2010]           -0.2713     0.0052 -52.3043      0.0\n",
      "C(year)[T.2015]           -0.2842     0.0050 -56.4096      0.0\n",
      "C(year)[T.2020]           -0.3921     0.0051 -76.8837      0.0\n",
      "dummy_after_bridge_opened -0.0317     0.0061  -5.1809      0.0\n",
      "log_income                -0.0287     0.0015 -19.1148      0.0\n",
      "=====================================================\n",
      "<gpboost.basic.GPModel object at 0x7f2e24b6ae30>\n"
     ]
    }
   ],
   "source": [
    "group = df['island_id']\n",
    "y = df['population']\n",
    "X = dmatrix('dummy_after_bridge_opened + log_income + C(year)', data=df, return_type='dataframe')\n",
    "\n",
    "model = gpb.GPModel(group_data=group, likelihood=\"poisson\") # ポアソン分布\n",
    "model.fit(y=y, X=X, params={'std_dev': True})\n",
    "\n",
    "pred = model.predict(X_pred=X, group_data_pred=group)['mu']\n",
    "residuals = y - pred\n",
    "\n",
    "print(model.summary())"
   ]
  },
  {
   "cell_type": "markdown",
   "metadata": {},
   "source": [
    "## 残差分析"
   ]
  },
  {
   "cell_type": "code",
   "execution_count": 63,
   "metadata": {},
   "outputs": [
    {
     "name": "stdout",
     "output_type": "stream",
     "text": [
      "coor between log_income and residuals: -0.000\n",
      "coor between bridge and residuals: -0.000\n",
      "coor between population and residuals: 0.114\n"
     ]
    }
   ],
   "source": [
    "# 変数と残差の相関\n",
    "corr_log_income = np.corrcoef(df['log_income'], residuals)[0, 1]\n",
    "corr_bridge = np.corrcoef(df['dummy_after_bridge_opened'], residuals)[0, 1]\n",
    "coor_population = np.corrcoef(df['population'], residuals)[0, 1]\n",
    "\n",
    "print(f'coor between log_income and residuals: {corr_log_income:.3f}')\n",
    "print(f'coor between bridge and residuals: {corr_bridge:.3f}')\n",
    "print(f'coor between population and residuals: {coor_population:.3f}')"
   ]
  },
  {
   "cell_type": "markdown",
   "metadata": {},
   "source": [
    "### 残差プロット"
   ]
  },
  {
   "cell_type": "code",
   "execution_count": 67,
   "metadata": {},
   "outputs": [
    {
     "data": {
      "image/png": "[encoded data removed]",
      "text/plain": [
       "<Figure size 1000x600 with 1 Axes>"
      ]
     },
     "metadata": {},
     "output_type": "display_data"
    }
   ],
   "source": [
    "plt.figure(figsize=(10, 6))\n",
    "plt.scatter(pred, residuals)\n",
    "plt.axhline(0, color='red', ls='--')\n",
    "plt.xlabel('Predicted values')\n",
    "plt.ylabel('Residuals')\n",
    "plt.title('Residuals vs Predicted values')\n",
    "plt.show()"
   ]
  },
  {
   "cell_type": "markdown",
   "metadata": {},
   "source": [
    "### 残差ヒストグラム"
   ]
  },
  {
   "cell_type": "code",
   "execution_count": 68,
   "metadata": {},
   "outputs": [
    {
     "data": {
      "image/png": "[encoded data removed]",
      "text/plain": [
       "<Figure size 1000x600 with 1 Axes>"
      ]
     },
     "metadata": {},
     "output_type": "display_data"
    }
   ],
   "source": [
    "plt.figure(figsize=(10, 6))\n",
    "plt.hist(residuals, edgecolor='black')\n",
    "plt.show()"
   ]
  }
 ],
 "metadata": {
  "kernelspec": {
   "display_name": ".venv",
   "language": "python",
   "name": "python3"
  },
  "language_info": {
   "codemirror_mode": {
    "name": "ipython",
    "version": 3
   },
   "file_extension": ".py",
   "mimetype": "text/x-python",
   "name": "python",
   "nbconvert_exporter": "python",
   "pygments_lexer": "ipython3",
   "version": "3.10.15"
  }
 },
 "nbformat": 4,
 "nbformat_minor": 2
}
