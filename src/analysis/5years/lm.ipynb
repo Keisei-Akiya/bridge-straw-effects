{
 "cells": [
  {
   "cell_type": "markdown",
   "metadata": {},
   "source": [
    "# Linear Model"
   ]
  },
  {
   "cell_type": "code",
   "execution_count": 2,
   "metadata": {},
   "outputs": [],
   "source": [
    "import pandas as pd\n",
    "import numpy as np\n",
    "import matplotlib.pyplot as plt\n",
    "import seaborn as sns\n",
    "import statsmodels.api as sm"
   ]
  },
  {
   "cell_type": "code",
   "execution_count": 10,
   "metadata": {},
   "outputs": [
    {
     "data": {
      "text/html": [
       "<div>\n",
       "<style scoped>\n",
       "    .dataframe tbody tr th:only-of-type {\n",
       "        vertical-align: middle;\n",
       "    }\n",
       "\n",
       "    .dataframe tbody tr th {\n",
       "        vertical-align: top;\n",
       "    }\n",
       "\n",
       "    .dataframe thead th {\n",
       "        text-align: right;\n",
       "    }\n",
       "</style>\n",
       "<table border=\"1\" class=\"dataframe\">\n",
       "  <thead>\n",
       "    <tr style=\"text-align: right;\">\n",
       "      <th></th>\n",
       "      <th>year</th>\n",
       "      <th>island_id</th>\n",
       "      <th>population</th>\n",
       "      <th>dummy_after_bridge_opened</th>\n",
       "      <th>income</th>\n",
       "    </tr>\n",
       "  </thead>\n",
       "  <tbody>\n",
       "    <tr>\n",
       "      <th>0</th>\n",
       "      <td>1995</td>\n",
       "      <td>0</td>\n",
       "      <td>15415.5</td>\n",
       "      <td>0</td>\n",
       "      <td>16109099.0</td>\n",
       "    </tr>\n",
       "    <tr>\n",
       "      <th>1</th>\n",
       "      <td>1995</td>\n",
       "      <td>1</td>\n",
       "      <td>2857.0</td>\n",
       "      <td>0</td>\n",
       "      <td>2443874.0</td>\n",
       "    </tr>\n",
       "    <tr>\n",
       "      <th>2</th>\n",
       "      <td>1995</td>\n",
       "      <td>2</td>\n",
       "      <td>4048.0</td>\n",
       "      <td>0</td>\n",
       "      <td>3451278.0</td>\n",
       "    </tr>\n",
       "    <tr>\n",
       "      <th>3</th>\n",
       "      <td>1995</td>\n",
       "      <td>3</td>\n",
       "      <td>802.0</td>\n",
       "      <td>0</td>\n",
       "      <td>535779.0</td>\n",
       "    </tr>\n",
       "    <tr>\n",
       "      <th>4</th>\n",
       "      <td>1995</td>\n",
       "      <td>4</td>\n",
       "      <td>4597.0</td>\n",
       "      <td>0</td>\n",
       "      <td>4017388.0</td>\n",
       "    </tr>\n",
       "  </tbody>\n",
       "</table>\n",
       "</div>"
      ],
      "text/plain": [
       "   year  island_id  population  dummy_after_bridge_opened      income\n",
       "0  1995          0     15415.5                          0  16109099.0\n",
       "1  1995          1      2857.0                          0   2443874.0\n",
       "2  1995          2      4048.0                          0   3451278.0\n",
       "3  1995          3       802.0                          0    535779.0\n",
       "4  1995          4      4597.0                          0   4017388.0"
      ]
     },
     "execution_count": 10,
     "metadata": {},
     "output_type": "execute_result"
    }
   ],
   "source": [
    "filepath = \"../../../data/processed/imputed_df.xlsx\"\n",
    "df = pd.read_excel(filepath)\n",
    "df.head()"
   ]
  },
  {
   "cell_type": "code",
   "execution_count": 13,
   "metadata": {},
   "outputs": [],
   "source": [
    "df['log_income'] = np.log(df['income'])"
   ]
  },
  {
   "cell_type": "code",
   "execution_count": 14,
   "metadata": {},
   "outputs": [
    {
     "name": "stdout",
     "output_type": "stream",
     "text": [
      "                            OLS Regression Results                            \n",
      "==============================================================================\n",
      "Dep. Variable:             population   R-squared:                       0.099\n",
      "Model:                            OLS   Adj. R-squared:                  0.097\n",
      "Method:                 Least Squares   F-statistic:                     50.57\n",
      "Date:                Sat, 05 Oct 2024   Prob (F-statistic):           1.45e-21\n",
      "Time:                        18:26:30   Log-Likelihood:                -9123.5\n",
      "No. Observations:                 924   AIC:                         1.825e+04\n",
      "Df Residuals:                     921   BIC:                         1.827e+04\n",
      "Df Model:                           2                                         \n",
      "Covariance Type:            nonrobust                                         \n",
      "=============================================================================================\n",
      "                                coef    std err          t      P>|t|      [0.025      0.975]\n",
      "---------------------------------------------------------------------------------------------\n",
      "const                      2379.5452   1548.758      1.536      0.125    -659.958    5419.049\n",
      "dummy_after_bridge_opened  3465.6823    345.614     10.028      0.000    2787.400    4143.965\n",
      "log_income                  -88.0417     87.184     -1.010      0.313    -259.144      83.061\n",
      "==============================================================================\n",
      "Omnibus:                      749.238   Durbin-Watson:                   2.169\n",
      "Prob(Omnibus):                  0.000   Jarque-Bera (JB):            12022.941\n",
      "Skew:                           3.782   Prob(JB):                         0.00\n",
      "Kurtosis:                      18.970   Cond. No.                         178.\n",
      "==============================================================================\n",
      "\n",
      "Notes:\n",
      "[1] Standard Errors assume that the covariance matrix of the errors is correctly specified.\n"
     ]
    }
   ],
   "source": [
    "endog = df['population']\n",
    "exog = df[['dummy_after_bridge_opened', 'log_income']]\n",
    "exog = sm.add_constant(exog)\n",
    "\n",
    "model = sm.OLS(endog, exog)\n",
    "results = model.fit()\n",
    "print(results.summary())"
   ]
  }
 ],
 "metadata": {
  "kernelspec": {
   "display_name": ".venv",
   "language": "python",
   "name": "python3"
  },
  "language_info": {
   "codemirror_mode": {
    "name": "ipython",
    "version": 3
   },
   "file_extension": ".py",
   "mimetype": "text/x-python",
   "name": "python",
   "nbconvert_exporter": "python",
   "pygments_lexer": "ipython3",
   "version": "3.10.15"
  }
 },
 "nbformat": 4,
 "nbformat_minor": 2
}
