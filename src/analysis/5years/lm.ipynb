{
 "cells": [
  {
   "cell_type": "markdown",
   "metadata": {},
   "source": [
    "# Linear Model"
   ]
  },
  {
   "cell_type": "code",
   "execution_count": 35,
   "metadata": {},
   "outputs": [],
   "source": [
    "import pandas as pd\n",
    "import numpy as np\n",
    "import matplotlib.pyplot as plt\n",
    "import seaborn as sns\n",
    "import statsmodels.formula.api as smf"
   ]
  },
  {
   "cell_type": "code",
   "execution_count": 3,
   "metadata": {},
   "outputs": [
    {
     "data": {
      "text/html": [
       "<div>\n",
       "<style scoped>\n",
       "    .dataframe tbody tr th:only-of-type {\n",
       "        vertical-align: middle;\n",
       "    }\n",
       "\n",
       "    .dataframe tbody tr th {\n",
       "        vertical-align: top;\n",
       "    }\n",
       "\n",
       "    .dataframe thead th {\n",
       "        text-align: right;\n",
       "    }\n",
       "</style>\n",
       "<table border=\"1\" class=\"dataframe\">\n",
       "  <thead>\n",
       "    <tr style=\"text-align: right;\">\n",
       "      <th></th>\n",
       "      <th>year</th>\n",
       "      <th>island_id</th>\n",
       "      <th>population</th>\n",
       "      <th>dummy_after_bridge_opened</th>\n",
       "      <th>income</th>\n",
       "    </tr>\n",
       "  </thead>\n",
       "  <tbody>\n",
       "    <tr>\n",
       "      <th>0</th>\n",
       "      <td>1995</td>\n",
       "      <td>0</td>\n",
       "      <td>15415.5</td>\n",
       "      <td>0</td>\n",
       "      <td>16109099.0</td>\n",
       "    </tr>\n",
       "    <tr>\n",
       "      <th>1</th>\n",
       "      <td>1995</td>\n",
       "      <td>1</td>\n",
       "      <td>2857.0</td>\n",
       "      <td>0</td>\n",
       "      <td>2443874.0</td>\n",
       "    </tr>\n",
       "    <tr>\n",
       "      <th>2</th>\n",
       "      <td>1995</td>\n",
       "      <td>2</td>\n",
       "      <td>4048.0</td>\n",
       "      <td>0</td>\n",
       "      <td>3451278.0</td>\n",
       "    </tr>\n",
       "    <tr>\n",
       "      <th>3</th>\n",
       "      <td>1995</td>\n",
       "      <td>3</td>\n",
       "      <td>802.0</td>\n",
       "      <td>0</td>\n",
       "      <td>535779.0</td>\n",
       "    </tr>\n",
       "    <tr>\n",
       "      <th>4</th>\n",
       "      <td>1995</td>\n",
       "      <td>4</td>\n",
       "      <td>4597.0</td>\n",
       "      <td>0</td>\n",
       "      <td>4017388.0</td>\n",
       "    </tr>\n",
       "  </tbody>\n",
       "</table>\n",
       "</div>"
      ],
      "text/plain": [
       "   year  island_id  population  dummy_after_bridge_opened      income\n",
       "0  1995          0     15415.5                          0  16109099.0\n",
       "1  1995          1      2857.0                          0   2443874.0\n",
       "2  1995          2      4048.0                          0   3451278.0\n",
       "3  1995          3       802.0                          0    535779.0\n",
       "4  1995          4      4597.0                          0   4017388.0"
      ]
     },
     "execution_count": 3,
     "metadata": {},
     "output_type": "execute_result"
    }
   ],
   "source": [
    "filepath = \"../../../data/processed/imputed_df.xlsx\"\n",
    "df = pd.read_excel(filepath)\n",
    "df.head()"
   ]
  },
  {
   "cell_type": "code",
   "execution_count": 4,
   "metadata": {},
   "outputs": [],
   "source": [
    "df['log_income'] = np.log(df['income'])"
   ]
  },
  {
   "cell_type": "markdown",
   "metadata": {},
   "source": [
    "## PooledOLS"
   ]
  },
  {
   "cell_type": "code",
   "execution_count": 37,
   "metadata": {},
   "outputs": [
    {
     "name": "stdout",
     "output_type": "stream",
     "text": [
      "                            OLS Regression Results                            \n",
      "==============================================================================\n",
      "Dep. Variable:             population   R-squared:                       0.099\n",
      "Model:                            OLS   Adj. R-squared:                  0.097\n",
      "Method:                 Least Squares   F-statistic:                     50.57\n",
      "Date:                Tue, 08 Oct 2024   Prob (F-statistic):           1.45e-21\n",
      "Time:                        13:03:19   Log-Likelihood:                -9123.5\n",
      "No. Observations:                 924   AIC:                         1.825e+04\n",
      "Df Residuals:                     921   BIC:                         1.827e+04\n",
      "Df Model:                           2                                         \n",
      "Covariance Type:            nonrobust                                         \n",
      "=============================================================================================\n",
      "                                coef    std err          t      P>|t|      [0.025      0.975]\n",
      "---------------------------------------------------------------------------------------------\n",
      "Intercept                  2379.5452   1548.758      1.536      0.125    -659.958    5419.049\n",
      "dummy_after_bridge_opened  3465.6823    345.614     10.028      0.000    2787.400    4143.965\n",
      "log_income                  -88.0417     87.184     -1.010      0.313    -259.144      83.061\n",
      "==============================================================================\n",
      "Omnibus:                      749.238   Durbin-Watson:                   2.169\n",
      "Prob(Omnibus):                  0.000   Jarque-Bera (JB):            12022.941\n",
      "Skew:                           3.782   Prob(JB):                         0.00\n",
      "Kurtosis:                      18.970   Cond. No.                         178.\n",
      "==============================================================================\n",
      "\n",
      "Notes:\n",
      "[1] Standard Errors assume that the covariance matrix of the errors is correctly specified.\n"
     ]
    }
   ],
   "source": [
    "formual = 'population ~ dummy_after_bridge_opened + log_income'\n",
    "\n",
    "model = smf.ols(formula=formual, data=df)\n",
    "results = model.fit()\n",
    "print(results.summary())"
   ]
  },
  {
   "cell_type": "markdown",
   "metadata": {},
   "source": [
    "## Two Way Fixed Effects"
   ]
  },
  {
   "cell_type": "code",
   "execution_count": 39,
   "metadata": {},
   "outputs": [
    {
     "name": "stdout",
     "output_type": "stream",
     "text": [
      "                            OLS Regression Results                            \n",
      "==============================================================================\n",
      "Dep. Variable:             population   R-squared:                       0.983\n",
      "Model:                            OLS   Adj. R-squared:                  0.980\n",
      "Method:                 Least Squares   F-statistic:                     282.2\n",
      "Date:                Tue, 08 Oct 2024   Prob (F-statistic):               0.00\n",
      "Time:                        13:04:58   Log-Likelihood:                -7278.7\n",
      "No. Observations:                 924   AIC:                         1.488e+04\n",
      "Df Residuals:                     763   BIC:                         1.566e+04\n",
      "Df Model:                         160                                         \n",
      "Covariance Type:            nonrobust                                         \n",
      "=============================================================================================\n",
      "                                coef    std err          t      P>|t|      [0.025      0.975]\n",
      "---------------------------------------------------------------------------------------------\n",
      "Intercept                  1.654e+04    565.843     29.223      0.000    1.54e+04    1.76e+04\n",
      "C(island_id)[T.1]         -1.311e+04    409.314    -32.025      0.000   -1.39e+04   -1.23e+04\n",
      "C(island_id)[T.2]         -1.214e+04    407.700    -29.772      0.000   -1.29e+04   -1.13e+04\n",
      "C(island_id)[T.3]         -1.497e+04    417.413    -35.865      0.000   -1.58e+04   -1.42e+04\n",
      "C(island_id)[T.4]         -1.124e+04    428.721    -26.207      0.000   -1.21e+04   -1.04e+04\n",
      "C(island_id)[T.6]         -1.541e+04    411.337    -37.469      0.000   -1.62e+04   -1.46e+04\n",
      "C(island_id)[T.7]         -1.532e+04    405.642    -37.763      0.000   -1.61e+04   -1.45e+04\n",
      "C(island_id)[T.8]         -1.498e+04    428.901    -34.930      0.000   -1.58e+04   -1.41e+04\n",
      "C(island_id)[T.9]         -1.539e+04    405.642    -37.944      0.000   -1.62e+04   -1.46e+04\n",
      "C(island_id)[T.10]        -1.469e+04    456.227    -32.189      0.000   -1.56e+04   -1.38e+04\n",
      "C(island_id)[T.11]        -1.525e+04    405.631    -37.605      0.000   -1.61e+04   -1.45e+04\n",
      "C(island_id)[T.14]        -1.518e+04    423.438    -35.847      0.000    -1.6e+04   -1.43e+04\n",
      "C(island_id)[T.15]        -1.528e+04    408.169    -37.432      0.000   -1.61e+04   -1.45e+04\n",
      "C(island_id)[T.16]        -1.525e+04    419.682    -36.349      0.000   -1.61e+04   -1.44e+04\n",
      "C(island_id)[T.17]        -1.525e+04    419.682    -36.337      0.000   -1.61e+04   -1.44e+04\n",
      "C(island_id)[T.18]        -1.529e+04    407.275    -37.534      0.000   -1.61e+04   -1.45e+04\n",
      "C(island_id)[T.19]        -1.479e+04    407.275    -36.325      0.000   -1.56e+04    -1.4e+04\n",
      "C(island_id)[T.20]        -1.435e+04    407.275    -35.227      0.000   -1.51e+04   -1.35e+04\n",
      "C(island_id)[T.21]        -1.513e+04    407.275    -37.144      0.000   -1.59e+04   -1.43e+04\n",
      "C(island_id)[T.22]        -1.536e+04    407.275    -37.720      0.000   -1.62e+04   -1.46e+04\n",
      "C(island_id)[T.23]        -1.529e+04    407.275    -37.550      0.000   -1.61e+04   -1.45e+04\n",
      "C(island_id)[T.24]        -1.531e+04    407.275    -37.602      0.000   -1.61e+04   -1.45e+04\n",
      "C(island_id)[T.25]         -1.46e+04    419.019    -34.837      0.000   -1.54e+04   -1.38e+04\n",
      "C(island_id)[T.26]        -1.207e+04    460.178    -26.224      0.000    -1.3e+04   -1.12e+04\n",
      "C(island_id)[T.28]        -1.477e+04    410.614    -35.976      0.000   -1.56e+04    -1.4e+04\n",
      "C(island_id)[T.29]           36.2304    456.470      0.079      0.937    -859.856     932.317\n",
      "C(island_id)[T.31]        -1.533e+04    407.857    -37.587      0.000   -1.61e+04   -1.45e+04\n",
      "C(island_id)[T.32]         1.059e+04    455.973     23.218      0.000    9691.704    1.15e+04\n",
      "C(island_id)[T.33]         -1.45e+04    409.663    -35.391      0.000   -1.53e+04   -1.37e+04\n",
      "C(island_id)[T.35]        -6545.8563    456.210    -14.348      0.000   -7441.431   -5650.281\n",
      "C(island_id)[T.37]         -1.54e+04    406.009    -37.941      0.000   -1.62e+04   -1.46e+04\n",
      "C(island_id)[T.38]        -1.549e+04    406.315    -38.115      0.000   -1.63e+04   -1.47e+04\n",
      "C(island_id)[T.39]         -1.55e+04    406.674    -38.118      0.000   -1.63e+04   -1.47e+04\n",
      "C(island_id)[T.40]        -7256.7712    406.315    -17.860      0.000   -8054.400   -6459.142\n",
      "C(island_id)[T.41]        -1.548e+04    461.457    -33.538      0.000   -1.64e+04   -1.46e+04\n",
      "C(island_id)[T.42]        -1.288e+04    456.034    -28.237      0.000   -1.38e+04    -1.2e+04\n",
      "C(island_id)[T.43]        -1.526e+04    414.843    -36.792      0.000   -1.61e+04   -1.44e+04\n",
      "C(island_id)[T.44]        -1.405e+04    418.871    -33.547      0.000   -1.49e+04   -1.32e+04\n",
      "C(island_id)[T.45]        -1.537e+04    407.034    -37.772      0.000   -1.62e+04   -1.46e+04\n",
      "C(island_id)[T.46]        -1.519e+04    441.534    -34.392      0.000   -1.61e+04   -1.43e+04\n",
      "C(island_id)[T.47]        -1.323e+04    455.982    -29.022      0.000   -1.41e+04   -1.23e+04\n",
      "C(island_id)[T.48]        -1.343e+04    441.165    -30.452      0.000   -1.43e+04   -1.26e+04\n",
      "C(island_id)[T.49]        -1.529e+04    414.843    -36.853      0.000   -1.61e+04   -1.45e+04\n",
      "C(island_id)[T.50]        -1.444e+04    429.369    -33.622      0.000   -1.53e+04   -1.36e+04\n",
      "C(island_id)[T.51]        -1.512e+04    429.369    -35.213      0.000    -1.6e+04   -1.43e+04\n",
      "C(island_id)[T.52]         1.298e+04    457.085     28.388      0.000    1.21e+04    1.39e+04\n",
      "C(island_id)[T.53]        -1.542e+04    457.401    -33.711      0.000   -1.63e+04   -1.45e+04\n",
      "C(island_id)[T.54]         4304.7487    456.071      9.439      0.000    3409.446    5200.052\n",
      "C(island_id)[T.55]        -1.505e+04    458.101    -32.855      0.000    -1.6e+04   -1.42e+04\n",
      "C(island_id)[T.56]        -1.348e+04    406.429    -33.167      0.000   -1.43e+04   -1.27e+04\n",
      "C(island_id)[T.57]        -1.512e+04    406.228    -37.209      0.000   -1.59e+04   -1.43e+04\n",
      "C(island_id)[T.59]         -1.53e+04    411.138    -37.206      0.000   -1.61e+04   -1.45e+04\n",
      "C(island_id)[T.60]        -1.514e+04    411.138    -36.831      0.000   -1.59e+04   -1.43e+04\n",
      "C(island_id)[T.61]        -1.531e+04    411.138    -37.235      0.000   -1.61e+04   -1.45e+04\n",
      "C(island_id)[T.62]        -2517.0234    459.171     -5.482      0.000   -3418.412   -1615.635\n",
      "C(island_id)[T.63]        -1.547e+04    405.541    -38.156      0.000   -1.63e+04   -1.47e+04\n",
      "C(island_id)[T.64]        -1.548e+04    405.711    -38.159      0.000   -1.63e+04   -1.47e+04\n",
      "C(island_id)[T.65]        -1.526e+04    405.732    -37.623      0.000   -1.61e+04   -1.45e+04\n",
      "C(island_id)[T.66]        -1.541e+04    405.732    -37.975      0.000   -1.62e+04   -1.46e+04\n",
      "C(island_id)[T.67]        -1.536e+04    459.899    -33.390      0.000   -1.63e+04   -1.45e+04\n",
      "C(island_id)[T.68]        -1.499e+04    406.297    -36.894      0.000   -1.58e+04   -1.42e+04\n",
      "C(island_id)[T.69]        -1.374e+04    465.405    -29.520      0.000   -1.47e+04   -1.28e+04\n",
      "C(island_id)[T.70]        -1.552e+04    408.408    -38.000      0.000   -1.63e+04   -1.47e+04\n",
      "C(island_id)[T.71]        -1.509e+04    408.408    -36.954      0.000   -1.59e+04   -1.43e+04\n",
      "C(island_id)[T.72]        -1.545e+04    405.423    -38.098      0.000   -1.62e+04   -1.46e+04\n",
      "C(island_id)[T.73]        -1.543e+04    405.435    -38.048      0.000   -1.62e+04   -1.46e+04\n",
      "C(island_id)[T.74]        -1.532e+04    407.653    -37.573      0.000   -1.61e+04   -1.45e+04\n",
      "C(island_id)[T.75]        -1.422e+04    455.976    -31.181      0.000   -1.51e+04   -1.33e+04\n",
      "C(island_id)[T.76]        -1.505e+04    456.855    -32.940      0.000   -1.59e+04   -1.42e+04\n",
      "C(island_id)[T.77]        -1.496e+04    411.795    -36.335      0.000   -1.58e+04   -1.42e+04\n",
      "C(island_id)[T.78]        -1.521e+04    410.867    -37.019      0.000    -1.6e+04   -1.44e+04\n",
      "C(island_id)[T.79]        -1.396e+04    456.546    -30.572      0.000   -1.49e+04   -1.31e+04\n",
      "C(island_id)[T.80]        -1.509e+04    458.306    -32.932      0.000    -1.6e+04   -1.42e+04\n",
      "C(island_id)[T.81]         9726.9128    458.306     21.224      0.000    8827.223    1.06e+04\n",
      "C(island_id)[T.82]        -1.449e+04    406.929    -35.599      0.000   -1.53e+04   -1.37e+04\n",
      "C(island_id)[T.83]        -1.522e+04    406.929    -37.403      0.000    -1.6e+04   -1.44e+04\n",
      "C(island_id)[T.84]        -1.539e+04    406.929    -37.831      0.000   -1.62e+04   -1.46e+04\n",
      "C(island_id)[T.85]        -1.459e+04    406.929    -35.846      0.000   -1.54e+04   -1.38e+04\n",
      "C(island_id)[T.86]        -1.366e+04    456.466    -29.923      0.000   -1.46e+04   -1.28e+04\n",
      "C(island_id)[T.87]        -1.462e+04    456.752    -32.005      0.000   -1.55e+04   -1.37e+04\n",
      "C(island_id)[T.88]        -1.526e+04    409.598    -37.250      0.000   -1.61e+04   -1.45e+04\n",
      "C(island_id)[T.89]        -1.525e+04    409.598    -37.223      0.000   -1.61e+04   -1.44e+04\n",
      "C(island_id)[T.90]        -1.219e+04    455.976    -26.730      0.000   -1.31e+04   -1.13e+04\n",
      "C(island_id)[T.91]        -1.495e+04    455.976    -32.793      0.000   -1.58e+04   -1.41e+04\n",
      "C(island_id)[T.92]        -1.524e+04    406.031    -37.545      0.000    -1.6e+04   -1.44e+04\n",
      "C(island_id)[T.93]        -1.543e+04    407.263    -37.888      0.000   -1.62e+04   -1.46e+04\n",
      "C(island_id)[T.94]         -1.53e+04    463.182    -33.042      0.000   -1.62e+04   -1.44e+04\n",
      "C(island_id)[T.95]         1.078e+04    405.420     26.586      0.000    9982.697    1.16e+04\n",
      "C(island_id)[T.96]         -1.54e+04    405.411    -37.988      0.000   -1.62e+04   -1.46e+04\n",
      "C(island_id)[T.97]        -1.545e+04    405.411    -38.113      0.000   -1.62e+04   -1.47e+04\n",
      "C(island_id)[T.98]        -1.449e+04    405.411    -35.752      0.000   -1.53e+04   -1.37e+04\n",
      "C(island_id)[T.99]        -1.553e+04    406.912    -38.171      0.000   -1.63e+04   -1.47e+04\n",
      "C(island_id)[T.101]       -1.235e+04    406.912    -30.339      0.000   -1.31e+04   -1.15e+04\n",
      "C(island_id)[T.102]       -1.552e+04    406.912    -38.134      0.000   -1.63e+04   -1.47e+04\n",
      "C(island_id)[T.103]       -1.551e+04    406.912    -38.105      0.000   -1.63e+04   -1.47e+04\n",
      "C(island_id)[T.104]        -1.52e+04    418.904    -36.282      0.000    -1.6e+04   -1.44e+04\n",
      "C(island_id)[T.105]       -1.507e+04    418.904    -35.965      0.000   -1.59e+04   -1.42e+04\n",
      "C(island_id)[T.106]       -1.508e+04    418.904    -35.990      0.000   -1.59e+04   -1.43e+04\n",
      "C(island_id)[T.107]       -1.512e+04    455.973    -33.157      0.000    -1.6e+04   -1.42e+04\n",
      "C(island_id)[T.108]       -1.526e+04    455.973    -33.469      0.000   -1.62e+04   -1.44e+04\n",
      "C(island_id)[T.109]       -1.518e+04    455.973    -33.288      0.000   -1.61e+04   -1.43e+04\n",
      "C(island_id)[T.110]       -1.537e+04    407.871    -37.680      0.000   -1.62e+04   -1.46e+04\n",
      "C(island_id)[T.111]       -1.533e+04    410.098    -37.392      0.000   -1.61e+04   -1.45e+04\n",
      "C(island_id)[T.112]       -1.482e+04    410.098    -36.136      0.000   -1.56e+04    -1.4e+04\n",
      "C(island_id)[T.113]       -1.503e+04    410.098    -36.639      0.000   -1.58e+04   -1.42e+04\n",
      "C(island_id)[T.114]       -1.531e+04    410.098    -37.323      0.000   -1.61e+04   -1.45e+04\n",
      "C(island_id)[T.115]       -1.529e+04    410.098    -37.287      0.000   -1.61e+04   -1.45e+04\n",
      "C(island_id)[T.116]       -1.538e+04    405.785    -37.894      0.000   -1.62e+04   -1.46e+04\n",
      "C(island_id)[T.117]       -1.532e+04    405.785    -37.760      0.000   -1.61e+04   -1.45e+04\n",
      "C(island_id)[T.118]       -1.512e+04    406.131    -37.241      0.000   -1.59e+04   -1.43e+04\n",
      "C(island_id)[T.119]       -1.539e+04    406.131    -37.903      0.000   -1.62e+04   -1.46e+04\n",
      "C(island_id)[T.120]       -1.472e+04    407.871    -36.088      0.000   -1.55e+04   -1.39e+04\n",
      "C(island_id)[T.121]       -1.539e+04    409.222    -37.607      0.000   -1.62e+04   -1.46e+04\n",
      "C(island_id)[T.122]       -1.554e+04    409.222    -37.973      0.000   -1.63e+04   -1.47e+04\n",
      "C(island_id)[T.123]       -1.277e+04    450.681    -28.341      0.000   -1.37e+04   -1.19e+04\n",
      "C(island_id)[T.124]       -1.501e+04    450.681    -33.314      0.000   -1.59e+04   -1.41e+04\n",
      "C(island_id)[T.125]       -1.557e+04    409.222    -38.055      0.000   -1.64e+04   -1.48e+04\n",
      "C(island_id)[T.126]       -1.379e+04    414.593    -33.258      0.000   -1.46e+04    -1.3e+04\n",
      "C(island_id)[T.127]       -1.341e+04    407.031    -32.940      0.000   -1.42e+04   -1.26e+04\n",
      "C(island_id)[T.128]       -1.557e+04    409.222    -38.053      0.000   -1.64e+04   -1.48e+04\n",
      "C(island_id)[T.129]       -1.006e+04    456.085    -22.053      0.000    -1.1e+04   -9162.736\n",
      "C(island_id)[T.130]       -9325.4425    455.979    -20.451      0.000   -1.02e+04   -8430.320\n",
      "C(island_id)[T.131]        -1.53e+04    411.264    -37.207      0.000   -1.61e+04   -1.45e+04\n",
      "C(island_id)[T.132]       -9688.2287    456.138    -21.240      0.000   -1.06e+04   -8792.794\n",
      "C(island_id)[T.133]       -1.531e+04    411.264    -37.223      0.000   -1.61e+04   -1.45e+04\n",
      "C(island_id)[T.134]       -1.499e+04    456.725    -32.829      0.000   -1.59e+04   -1.41e+04\n",
      "C(island_id)[T.135]        -1.54e+04    405.794    -37.946      0.000   -1.62e+04   -1.46e+04\n",
      "C(island_id)[T.136]       -1.533e+04    405.794    -37.778      0.000   -1.61e+04   -1.45e+04\n",
      "C(island_id)[T.137]       -1.536e+04    407.744    -37.663      0.000   -1.62e+04   -1.46e+04\n",
      "C(island_id)[T.138]       -1.536e+04    407.744    -37.678      0.000   -1.62e+04   -1.46e+04\n",
      "C(island_id)[T.139]       -1.534e+04    441.194    -34.762      0.000   -1.62e+04   -1.45e+04\n",
      "C(island_id)[T.140]       -1.538e+04    407.744    -37.721      0.000   -1.62e+04   -1.46e+04\n",
      "C(island_id)[T.141]       -1.504e+04    456.535    -32.946      0.000   -1.59e+04   -1.41e+04\n",
      "C(island_id)[T.142]       -1.529e+04    413.007    -37.024      0.000   -1.61e+04   -1.45e+04\n",
      "C(island_id)[T.143]       -1.412e+04    419.789    -33.631      0.000   -1.49e+04   -1.33e+04\n",
      "C(island_id)[T.144]       -1.518e+04    419.789    -36.169      0.000    -1.6e+04   -1.44e+04\n",
      "C(island_id)[T.145]       -1.511e+04    419.789    -35.984      0.000   -1.59e+04   -1.43e+04\n",
      "C(island_id)[T.146]       -1.506e+04    409.948    -36.746      0.000   -1.59e+04   -1.43e+04\n",
      "C(island_id)[T.147]       -1.211e+04    409.948    -29.532      0.000   -1.29e+04   -1.13e+04\n",
      "C(island_id)[T.148]       -1.489e+04    409.948    -36.310      0.000   -1.57e+04   -1.41e+04\n",
      "C(island_id)[T.149]       -1.486e+04    419.789    -35.394      0.000   -1.57e+04    -1.4e+04\n",
      "C(island_id)[T.150]       -1.518e+04    409.948    -37.027      0.000    -1.6e+04   -1.44e+04\n",
      "C(island_id)[T.151]       -1.542e+04    405.604    -38.017      0.000   -1.62e+04   -1.46e+04\n",
      "C(island_id)[T.152]       -1.515e+04    405.619    -37.351      0.000   -1.59e+04   -1.44e+04\n",
      "C(island_id)[T.153]       -1.439e+04    408.488    -35.221      0.000   -1.52e+04   -1.36e+04\n",
      "C(island_id)[T.154]       -1.526e+04    407.715    -37.438      0.000   -1.61e+04   -1.45e+04\n",
      "C(island_id)[T.155]       -1.501e+04    407.715    -36.812      0.000   -1.58e+04   -1.42e+04\n",
      "C(island_id)[T.156]       -1.499e+04    407.715    -36.762      0.000   -1.58e+04   -1.42e+04\n",
      "C(island_id)[T.157]       -1.534e+04    407.715    -37.623      0.000   -1.61e+04   -1.45e+04\n",
      "C(island_id)[T.158]       -1.536e+04    457.211    -33.595      0.000   -1.63e+04   -1.45e+04\n",
      "C(island_id)[T.160]       -1.517e+04    463.797    -32.717      0.000   -1.61e+04   -1.43e+04\n",
      "C(island_id)[T.161]       -1.493e+04    457.477    -32.628      0.000   -1.58e+04    -1.4e+04\n",
      "C(island_id)[T.162]       -1.541e+04    405.467    -37.995      0.000   -1.62e+04   -1.46e+04\n",
      "C(island_id)[T.163]       -1.524e+04    405.467    -37.583      0.000    -1.6e+04   -1.44e+04\n",
      "C(year)[T.2000]             -88.4919     80.380     -1.101      0.271    -246.284      69.300\n",
      "C(year)[T.2005]               7.3366     84.585      0.087      0.931    -158.711     173.384\n",
      "C(year)[T.2010]             -98.0542     85.277     -1.150      0.251    -265.459      69.351\n",
      "C(year)[T.2015]            -141.4160     85.055     -1.663      0.097    -308.385      25.553\n",
      "C(year)[T.2020]            -317.0569     85.532     -3.707      0.000    -484.963    -149.151\n",
      "dummy_after_bridge_opened   -25.4913    213.247     -0.120      0.905    -444.112     393.129\n",
      "log_income                  -57.8350     30.170     -1.917      0.056    -117.061       1.391\n",
      "==============================================================================\n",
      "Omnibus:                      426.385   Durbin-Watson:                   2.019\n",
      "Prob(Omnibus):                  0.000   Jarque-Bera (JB):            81020.034\n",
      "Skew:                          -0.953   Prob(JB):                         0.00\n",
      "Kurtosis:                      48.834   Cond. No.                     2.81e+03\n",
      "==============================================================================\n",
      "\n",
      "Notes:\n",
      "[1] Standard Errors assume that the covariance matrix of the errors is correctly specified.\n",
      "[2] The condition number is large, 2.81e+03. This might indicate that there are\n",
      "strong multicollinearity or other numerical problems.\n"
     ]
    }
   ],
   "source": [
    "formula = 'population ~ dummy_after_bridge_opened + log_income + C(island_id) + C(year)'\n",
    "\n",
    "model = smf.ols(formula=formula, data=df)\n",
    "results = model.fit()\n",
    "print(results.summary())"
   ]
  },
  {
   "cell_type": "markdown",
   "metadata": {},
   "source": [
    "## 残差分析"
   ]
  },
  {
   "cell_type": "code",
   "execution_count": 40,
   "metadata": {},
   "outputs": [],
   "source": [
    "residuals = results.resid"
   ]
  },
  {
   "cell_type": "code",
   "execution_count": 41,
   "metadata": {},
   "outputs": [
    {
     "name": "stdout",
     "output_type": "stream",
     "text": [
      "coor between log_income and residuals: 0.000\n",
      "coor between bridge and residuals: 0.000\n",
      "coor between population and residuals: 0.129\n"
     ]
    }
   ],
   "source": [
    "# 説明変数と残差の相関\n",
    "corr_log_income = np.corrcoef(df['log_income'], residuals)[0, 1]\n",
    "corr_bridge = np.corrcoef(df['dummy_after_bridge_opened'], residuals)[0, 1]\n",
    "coor_population = np.corrcoef(df['population'], residuals)[0, 1]\n",
    "\n",
    "print(f'coor between log_income and residuals: {corr_log_income:.3f}')\n",
    "print(f'coor between bridge and residuals: {corr_bridge:.3f}')\n",
    "print(f'coor between population and residuals: {coor_population:.3f}')"
   ]
  },
  {
   "cell_type": "code",
   "execution_count": 42,
   "metadata": {},
   "outputs": [
    {
     "data": {
      "image/png": "[encoded data removed]",
      "text/plain": [
       "<Figure size 1000x600 with 1 Axes>"
      ]
     },
     "metadata": {},
     "output_type": "display_data"
    }
   ],
   "source": [
    "plt.figure(figsize=(10, 6))\n",
    "plt.scatter(results.fittedvalues, residuals)\n",
    "plt.axhline(y=0, color='black', linestyle='--')\n",
    "plt.xlabel('Fitted values')\n",
    "plt.ylabel('Residuals')\n",
    "plt.title('Residuals vs Fitted values')\n",
    "plt.show()"
   ]
  },
  {
   "cell_type": "code",
   "execution_count": 43,
   "metadata": {},
   "outputs": [
    {
     "data": {
      "image/png": "[encoded data removed]",
      "text/plain": [
       "<Figure size 1000x600 with 1 Axes>"
      ]
     },
     "metadata": {},
     "output_type": "display_data"
    }
   ],
   "source": [
    "plt.figure(figsize=(10, 6))\n",
    "plt.hist(residuals)\n",
    "plt.show()"
   ]
  }
 ],
 "metadata": {
  "kernelspec": {
   "display_name": ".venv",
   "language": "python",
   "name": "python3"
  },
  "language_info": {
   "codemirror_mode": {
    "name": "ipython",
    "version": 3
   },
   "file_extension": ".py",
   "mimetype": "text/x-python",
   "name": "python",
   "nbconvert_exporter": "python",
   "pygments_lexer": "ipython3",
   "version": "3.10.15"
  }
 },
 "nbformat": 4,
 "nbformat_minor": 2
}
