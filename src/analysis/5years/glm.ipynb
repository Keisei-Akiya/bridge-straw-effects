{
 "cells": [
  {
   "cell_type": "markdown",
   "metadata": {},
   "source": [
    "# GLM"
   ]
  },
  {
   "cell_type": "code",
   "execution_count": 1,
   "metadata": {},
   "outputs": [],
   "source": [
    "import pandas as pd\n",
    "import numpy as np\n",
    "import matplotlib.pyplot as plt\n",
    "import seaborn as sns\n",
    "import statsmodels.api as sm"
   ]
  },
  {
   "cell_type": "code",
   "execution_count": 2,
   "metadata": {},
   "outputs": [],
   "source": [
    "filepath = '../../../data/processed/imputed_df.xlsx'\n",
    "df = pd.read_excel(filepath)"
   ]
  },
  {
   "cell_type": "code",
   "execution_count": 3,
   "metadata": {},
   "outputs": [],
   "source": [
    "df['log_income'] = np.log(df['income'])"
   ]
  },
  {
   "cell_type": "code",
   "execution_count": 5,
   "metadata": {},
   "outputs": [
    {
     "data": {
      "text/html": [
       "<div>\n",
       "<style scoped>\n",
       "    .dataframe tbody tr th:only-of-type {\n",
       "        vertical-align: middle;\n",
       "    }\n",
       "\n",
       "    .dataframe tbody tr th {\n",
       "        vertical-align: top;\n",
       "    }\n",
       "\n",
       "    .dataframe thead th {\n",
       "        text-align: right;\n",
       "    }\n",
       "</style>\n",
       "<table border=\"1\" class=\"dataframe\">\n",
       "  <thead>\n",
       "    <tr style=\"text-align: right;\">\n",
       "      <th></th>\n",
       "      <th>year</th>\n",
       "      <th>island_id</th>\n",
       "      <th>population</th>\n",
       "      <th>dummy_after_bridge_opened</th>\n",
       "      <th>income</th>\n",
       "      <th>log_income</th>\n",
       "    </tr>\n",
       "  </thead>\n",
       "  <tbody>\n",
       "    <tr>\n",
       "      <th>0</th>\n",
       "      <td>1995</td>\n",
       "      <td>0</td>\n",
       "      <td>15415.5</td>\n",
       "      <td>0</td>\n",
       "      <td>16109099.0</td>\n",
       "      <td>16.594895</td>\n",
       "    </tr>\n",
       "    <tr>\n",
       "      <th>1</th>\n",
       "      <td>1995</td>\n",
       "      <td>1</td>\n",
       "      <td>2857.0</td>\n",
       "      <td>0</td>\n",
       "      <td>2443874.0</td>\n",
       "      <td>14.709095</td>\n",
       "    </tr>\n",
       "    <tr>\n",
       "      <th>2</th>\n",
       "      <td>1995</td>\n",
       "      <td>2</td>\n",
       "      <td>4048.0</td>\n",
       "      <td>0</td>\n",
       "      <td>3451278.0</td>\n",
       "      <td>15.054255</td>\n",
       "    </tr>\n",
       "    <tr>\n",
       "      <th>3</th>\n",
       "      <td>1995</td>\n",
       "      <td>3</td>\n",
       "      <td>802.0</td>\n",
       "      <td>0</td>\n",
       "      <td>535779.0</td>\n",
       "      <td>13.191477</td>\n",
       "    </tr>\n",
       "    <tr>\n",
       "      <th>4</th>\n",
       "      <td>1995</td>\n",
       "      <td>4</td>\n",
       "      <td>4597.0</td>\n",
       "      <td>0</td>\n",
       "      <td>4017388.0</td>\n",
       "      <td>15.206142</td>\n",
       "    </tr>\n",
       "  </tbody>\n",
       "</table>\n",
       "</div>"
      ],
      "text/plain": [
       "   year  island_id  population  dummy_after_bridge_opened      income  \\\n",
       "0  1995          0     15415.5                          0  16109099.0   \n",
       "1  1995          1      2857.0                          0   2443874.0   \n",
       "2  1995          2      4048.0                          0   3451278.0   \n",
       "3  1995          3       802.0                          0    535779.0   \n",
       "4  1995          4      4597.0                          0   4017388.0   \n",
       "\n",
       "   log_income  \n",
       "0   16.594895  \n",
       "1   14.709095  \n",
       "2   15.054255  \n",
       "3   13.191477  \n",
       "4   15.206142  "
      ]
     },
     "execution_count": 5,
     "metadata": {},
     "output_type": "execute_result"
    }
   ],
   "source": [
    "df.head()"
   ]
  },
  {
   "cell_type": "code",
   "execution_count": 8,
   "metadata": {},
   "outputs": [
    {
     "name": "stdout",
     "output_type": "stream",
     "text": [
      "                 Generalized Linear Model Regression Results                  \n",
      "==============================================================================\n",
      "Dep. Variable:             population   No. Observations:                  924\n",
      "Model:                            GLM   Df Residuals:                      921\n",
      "Model Family:                 Poisson   Df Model:                            2\n",
      "Link Function:                    Log   Scale:                          1.0000\n",
      "Method:                          IRLS   Log-Likelihood:            -2.1485e+06\n",
      "Date:                Sat, 05 Oct 2024   Deviance:                   4.2904e+06\n",
      "Time:                        18:30:12   Pearson chi2:                 1.03e+07\n",
      "No. Iterations:                     6   Pseudo R-squ. (CS):              1.000\n",
      "Covariance Type:            nonrobust                                         \n",
      "=============================================================================================\n",
      "                                coef    std err          z      P>|z|      [0.025      0.975]\n",
      "---------------------------------------------------------------------------------------------\n",
      "const                         7.6385      0.008    961.847      0.000       7.623       7.654\n",
      "dummy_after_bridge_opened     1.6514      0.002   1000.224      0.000       1.648       1.655\n",
      "log_income                   -0.0525      0.000   -117.131      0.000      -0.053      -0.052\n",
      "=============================================================================================\n"
     ]
    }
   ],
   "source": [
    "endog = df['population']\n",
    "exog = df[['dummy_after_bridge_opened', 'log_income']]\n",
    "exog = sm.add_constant(exog)\n",
    "\n",
    "model = sm.GLM(endog, exog, family=sm.families.Poisson())\n",
    "results = model.fit()\n",
    "print(results.summary())"
   ]
  }
 ],
 "metadata": {
  "kernelspec": {
   "display_name": ".venv",
   "language": "python",
   "name": "python3"
  },
  "language_info": {
   "codemirror_mode": {
    "name": "ipython",
    "version": 3
   },
   "file_extension": ".py",
   "mimetype": "text/x-python",
   "name": "python",
   "nbconvert_exporter": "python",
   "pygments_lexer": "ipython3",
   "version": "3.10.15"
  }
 },
 "nbformat": 4,
 "nbformat_minor": 2
}
