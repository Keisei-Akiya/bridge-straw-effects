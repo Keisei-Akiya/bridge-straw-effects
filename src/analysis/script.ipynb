{
 "cells": [
  {
   "cell_type": "markdown",
   "metadata": {},
   "source": [
    "# メモ"
   ]
  },
  {
   "cell_type": "code",
   "execution_count": 1,
   "metadata": {},
   "outputs": [],
   "source": [
    "import pandas as pd\n",
    "import numpy as np\n",
    "import matplotlib.pyplot as plt\n",
    "import seaborn as sns\n",
    "import scipy.stats as stats\n",
    "path = '../../data/processed/df_filtered.xlsx'\n",
    "df = pd.read_excel(path)"
   ]
  },
  {
   "cell_type": "code",
   "execution_count": 7,
   "metadata": {},
   "outputs": [
    {
     "data": {
      "text/plain": [
       "0      1999\n",
       "1      1999\n",
       "2      1999\n",
       "3      1999\n",
       "4      1999\n",
       "       ... \n",
       "789    1976\n",
       "790    1976\n",
       "791    1976\n",
       "792    1976\n",
       "793    1976\n",
       "Name: bridge_year, Length: 794, dtype: int64"
      ]
     },
     "execution_count": 7,
     "metadata": {},
     "output_type": "execute_result"
    }
   ],
   "source": [
    "df.bridge_year"
   ]
  },
  {
   "cell_type": "code",
   "execution_count": 4,
   "metadata": {},
   "outputs": [
    {
     "data": {
      "text/html": [
       "<div>\n",
       "<style scoped>\n",
       "    .dataframe tbody tr th:only-of-type {\n",
       "        vertical-align: middle;\n",
       "    }\n",
       "\n",
       "    .dataframe tbody tr th {\n",
       "        vertical-align: top;\n",
       "    }\n",
       "\n",
       "    .dataframe thead th {\n",
       "        text-align: right;\n",
       "    }\n",
       "</style>\n",
       "<table border=\"1\" class=\"dataframe\">\n",
       "  <thead>\n",
       "    <tr style=\"text-align: right;\">\n",
       "      <th></th>\n",
       "      <th>prefecture_names</th>\n",
       "      <th>region_names</th>\n",
       "      <th>island_names</th>\n",
       "      <th>population</th>\n",
       "      <th>year</th>\n",
       "    </tr>\n",
       "  </thead>\n",
       "  <tbody>\n",
       "    <tr>\n",
       "      <th>181</th>\n",
       "      <td>広島県</td>\n",
       "      <td>（旧）大崎町</td>\n",
       "      <td>長島</td>\n",
       "      <td>213</td>\n",
       "      <td>1970</td>\n",
       "    </tr>\n",
       "    <tr>\n",
       "      <th>182</th>\n",
       "      <td>広島県</td>\n",
       "      <td>（旧）大崎町</td>\n",
       "      <td>長島</td>\n",
       "      <td>144</td>\n",
       "      <td>1975</td>\n",
       "    </tr>\n",
       "    <tr>\n",
       "      <th>183</th>\n",
       "      <td>広島県</td>\n",
       "      <td>（旧）大崎町</td>\n",
       "      <td>長島</td>\n",
       "      <td>144</td>\n",
       "      <td>1980</td>\n",
       "    </tr>\n",
       "    <tr>\n",
       "      <th>184</th>\n",
       "      <td>広島県</td>\n",
       "      <td>（旧）大崎町</td>\n",
       "      <td>長島</td>\n",
       "      <td>39</td>\n",
       "      <td>1985</td>\n",
       "    </tr>\n",
       "    <tr>\n",
       "      <th>185</th>\n",
       "      <td>広島県</td>\n",
       "      <td>（旧）大崎町</td>\n",
       "      <td>長島</td>\n",
       "      <td>29</td>\n",
       "      <td>1990</td>\n",
       "    </tr>\n",
       "    <tr>\n",
       "      <th>186</th>\n",
       "      <td>広島県</td>\n",
       "      <td>（旧）大崎町</td>\n",
       "      <td>長島</td>\n",
       "      <td>24</td>\n",
       "      <td>1995</td>\n",
       "    </tr>\n",
       "    <tr>\n",
       "      <th>187</th>\n",
       "      <td>広島県</td>\n",
       "      <td>（旧）大崎町</td>\n",
       "      <td>長島</td>\n",
       "      <td>33</td>\n",
       "      <td>2000</td>\n",
       "    </tr>\n",
       "    <tr>\n",
       "      <th>188</th>\n",
       "      <td>広島県</td>\n",
       "      <td>大崎上島町</td>\n",
       "      <td>長島</td>\n",
       "      <td>19</td>\n",
       "      <td>2005</td>\n",
       "    </tr>\n",
       "    <tr>\n",
       "      <th>189</th>\n",
       "      <td>広島県</td>\n",
       "      <td>大崎上島町</td>\n",
       "      <td>長島</td>\n",
       "      <td>19</td>\n",
       "      <td>2010</td>\n",
       "    </tr>\n",
       "    <tr>\n",
       "      <th>190</th>\n",
       "      <td>広島県</td>\n",
       "      <td>大崎上島町</td>\n",
       "      <td>長島</td>\n",
       "      <td>14</td>\n",
       "      <td>2015</td>\n",
       "    </tr>\n",
       "    <tr>\n",
       "      <th>191</th>\n",
       "      <td>広島県</td>\n",
       "      <td>大崎上島町</td>\n",
       "      <td>長島</td>\n",
       "      <td>18</td>\n",
       "      <td>2020</td>\n",
       "    </tr>\n",
       "  </tbody>\n",
       "</table>\n",
       "</div>"
      ],
      "text/plain": [
       "    prefecture_names region_names island_names  population  year\n",
       "181              広島県       （旧）大崎町           長島         213  1970\n",
       "182              広島県       （旧）大崎町           長島         144  1975\n",
       "183              広島県       （旧）大崎町           長島         144  1980\n",
       "184              広島県       （旧）大崎町           長島          39  1985\n",
       "185              広島県       （旧）大崎町           長島          29  1990\n",
       "186              広島県       （旧）大崎町           長島          24  1995\n",
       "187              広島県       （旧）大崎町           長島          33  2000\n",
       "188              広島県        大崎上島町           長島          19  2005\n",
       "189              広島県        大崎上島町           長島          19  2010\n",
       "190              広島県        大崎上島町           長島          14  2015\n",
       "191              広島県        大崎上島町           長島          18  2020"
      ]
     },
     "execution_count": 4,
     "metadata": {},
     "output_type": "execute_result"
    }
   ],
   "source": [
    "bridge_year = 1987\n",
    "df.query(f'bridge_year == {bridge_year}')[['prefecture_names', 'region_names', 'island_names', 'population', 'year']]"
   ]
  }
 ],
 "metadata": {
  "kernelspec": {
   "display_name": "data-analysis",
   "language": "python",
   "name": "data-analysis"
  },
  "language_info": {
   "codemirror_mode": {
    "name": "ipython",
    "version": 3
   },
   "file_extension": ".py",
   "mimetype": "text/x-python",
   "name": "python",
   "nbconvert_exporter": "python",
   "pygments_lexer": "ipython3",
   "version": "3.12.6"
  }
 },
 "nbformat": 4,
 "nbformat_minor": 2
}
