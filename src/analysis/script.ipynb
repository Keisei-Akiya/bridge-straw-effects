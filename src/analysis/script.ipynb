{
 "cells": [
  {
   "cell_type": "markdown",
   "metadata": {},
   "source": [
    "# メモ"
   ]
  },
  {
   "cell_type": "code",
   "execution_count": 2,
   "metadata": {},
   "outputs": [],
   "source": [
    "import pandas as pd\n",
    "import numpy as np\n",
    "path = '../../data/processed/df_filtered.xlsx'\n",
    "df = pd.read_excel(path)"
   ]
  },
  {
   "cell_type": "code",
   "execution_count": 20,
   "metadata": {},
   "outputs": [
    {
     "data": {
      "text/plain": [
       "array([ 69,  71,  73,  76,  77,  78,  79,  80,  90,  93,  99, 101, 105,\n",
       "       110, 114, 115, 119, 126, 128, 129, 135, 136, 140, 148, 162, 163,\n",
       "       165, 166, 167, 170, 174, 175, 182, 190, 194, 196, 198, 199, 200,\n",
       "       201, 206, 207, 215, 217, 218])"
      ]
     },
     "execution_count": 20,
     "metadata": {},
     "output_type": "execute_result"
    }
   ],
   "source": [
    "bridge_year = 0\n",
    "df.query(f'bridge_year == {bridge_year}')['island_ids'].unique()"
   ]
  },
  {
   "cell_type": "code",
   "execution_count": 22,
   "metadata": {},
   "outputs": [
    {
     "data": {
      "text/plain": [
       "array([32, 33, 34, 35, 36, 37, 38, 39])"
      ]
     },
     "execution_count": 22,
     "metadata": {},
     "output_type": "execute_result"
    }
   ],
   "source": [
    "df.prefecture_codes.unique()"
   ]
  },
  {
   "cell_type": "code",
   "execution_count": 5,
   "metadata": {},
   "outputs": [
    {
     "name": "stdout",
     "output_type": "stream",
     "text": [
      "effect: 12.750%\n"
     ]
    }
   ],
   "source": [
    "effect = np.exp(0.120) - 1\n",
    "print(f'effect: {effect:.3%}')"
   ]
  },
  {
   "cell_type": "code",
   "execution_count": 6,
   "metadata": {},
   "outputs": [
    {
     "data": {
      "text/html": [
       "<div>\n",
       "<style scoped>\n",
       "    .dataframe tbody tr th:only-of-type {\n",
       "        vertical-align: middle;\n",
       "    }\n",
       "\n",
       "    .dataframe tbody tr th {\n",
       "        vertical-align: top;\n",
       "    }\n",
       "\n",
       "    .dataframe thead th {\n",
       "        text-align: right;\n",
       "    }\n",
       "</style>\n",
       "<table border=\"1\" class=\"dataframe\">\n",
       "  <thead>\n",
       "    <tr style=\"text-align: right;\">\n",
       "      <th></th>\n",
       "      <th>island_names</th>\n",
       "      <th>prefecture_names</th>\n",
       "      <th>region_names</th>\n",
       "    </tr>\n",
       "  </thead>\n",
       "  <tbody>\n",
       "    <tr>\n",
       "      <th>769</th>\n",
       "      <td>大島</td>\n",
       "      <td>高知県</td>\n",
       "      <td>宿毛市</td>\n",
       "    </tr>\n",
       "    <tr>\n",
       "      <th>770</th>\n",
       "      <td>大島</td>\n",
       "      <td>高知県</td>\n",
       "      <td>宿毛市</td>\n",
       "    </tr>\n",
       "    <tr>\n",
       "      <th>771</th>\n",
       "      <td>大島</td>\n",
       "      <td>高知県</td>\n",
       "      <td>宿毛市</td>\n",
       "    </tr>\n",
       "    <tr>\n",
       "      <th>772</th>\n",
       "      <td>大島</td>\n",
       "      <td>高知県</td>\n",
       "      <td>宿毛市</td>\n",
       "    </tr>\n",
       "    <tr>\n",
       "      <th>773</th>\n",
       "      <td>大島</td>\n",
       "      <td>高知県</td>\n",
       "      <td>宿毛市</td>\n",
       "    </tr>\n",
       "    <tr>\n",
       "      <th>774</th>\n",
       "      <td>大島</td>\n",
       "      <td>高知県</td>\n",
       "      <td>宿毛市</td>\n",
       "    </tr>\n",
       "    <tr>\n",
       "      <th>775</th>\n",
       "      <td>大島</td>\n",
       "      <td>高知県</td>\n",
       "      <td>宿毛市</td>\n",
       "    </tr>\n",
       "    <tr>\n",
       "      <th>776</th>\n",
       "      <td>大島</td>\n",
       "      <td>高知県</td>\n",
       "      <td>宿毛市</td>\n",
       "    </tr>\n",
       "    <tr>\n",
       "      <th>777</th>\n",
       "      <td>大島</td>\n",
       "      <td>高知県</td>\n",
       "      <td>宿毛市</td>\n",
       "    </tr>\n",
       "    <tr>\n",
       "      <th>778</th>\n",
       "      <td>大島</td>\n",
       "      <td>高知県</td>\n",
       "      <td>宿毛市</td>\n",
       "    </tr>\n",
       "    <tr>\n",
       "      <th>779</th>\n",
       "      <td>大島</td>\n",
       "      <td>高知県</td>\n",
       "      <td>宿毛市</td>\n",
       "    </tr>\n",
       "    <tr>\n",
       "      <th>780</th>\n",
       "      <td>大島</td>\n",
       "      <td>高知県</td>\n",
       "      <td>宿毛市</td>\n",
       "    </tr>\n",
       "    <tr>\n",
       "      <th>781</th>\n",
       "      <td>大島</td>\n",
       "      <td>高知県</td>\n",
       "      <td>宿毛市</td>\n",
       "    </tr>\n",
       "  </tbody>\n",
       "</table>\n",
       "</div>"
      ],
      "text/plain": [
       "    island_names prefecture_names region_names\n",
       "769           大島              高知県          宿毛市\n",
       "770           大島              高知県          宿毛市\n",
       "771           大島              高知県          宿毛市\n",
       "772           大島              高知県          宿毛市\n",
       "773           大島              高知県          宿毛市\n",
       "774           大島              高知県          宿毛市\n",
       "775           大島              高知県          宿毛市\n",
       "776           大島              高知県          宿毛市\n",
       "777           大島              高知県          宿毛市\n",
       "778           大島              高知県          宿毛市\n",
       "779           大島              高知県          宿毛市\n",
       "780           大島              高知県          宿毛市\n",
       "781           大島              高知県          宿毛市"
      ]
     },
     "execution_count": 6,
     "metadata": {},
     "output_type": "execute_result"
    }
   ],
   "source": [
    "bridge_year = 1965\n",
    "df.query(f'bridge_year == {bridge_year}')[['island_names', 'prefecture_names', 'region_names']]"
   ]
  }
 ],
 "metadata": {
  "kernelspec": {
   "display_name": "data-analysis",
   "language": "python",
   "name": "data-analysis"
  },
  "language_info": {
   "codemirror_mode": {
    "name": "ipython",
    "version": 3
   },
   "file_extension": ".py",
   "mimetype": "text/x-python",
   "name": "python",
   "nbconvert_exporter": "python",
   "pygments_lexer": "ipython3",
   "version": "3.12.6"
  }
 },
 "nbformat": 4,
 "nbformat_minor": 2
}
