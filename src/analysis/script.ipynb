{
 "cells": [
  {
   "cell_type": "markdown",
   "metadata": {},
   "source": [
    "# メモ"
   ]
  },
  {
   "cell_type": "code",
   "execution_count": 6,
   "metadata": {},
   "outputs": [],
   "source": [
    "import pandas as pd\n",
    "import numpy as np\n",
    "path = '../../data/processed/df_filtered.xlsx'\n",
    "df = pd.read_excel(path)"
   ]
  },
  {
   "cell_type": "code",
   "execution_count": 7,
   "metadata": {},
   "outputs": [
    {
     "data": {
      "text/plain": [
       "794"
      ]
     },
     "execution_count": 7,
     "metadata": {},
     "output_type": "execute_result"
    }
   ],
   "source": [
    "len(df)"
   ]
  },
  {
   "cell_type": "code",
   "execution_count": 4,
   "metadata": {},
   "outputs": [
    {
     "data": {
      "text/plain": [
       "33"
      ]
     },
     "execution_count": 4,
     "metadata": {},
     "output_type": "execute_result"
    }
   ],
   "source": [
    "df.query('treatment_group == 1')['island_ids'].nunique()"
   ]
  },
  {
   "cell_type": "code",
   "execution_count": 20,
   "metadata": {},
   "outputs": [
    {
     "data": {
      "text/plain": [
       "array([ 69,  71,  73,  76,  77,  78,  79,  80,  90,  93,  99, 101, 105,\n",
       "       110, 114, 115, 119, 126, 128, 129, 135, 136, 140, 148, 162, 163,\n",
       "       165, 166, 167, 170, 174, 175, 182, 190, 194, 196, 198, 199, 200,\n",
       "       201, 206, 207, 215, 217, 218])"
      ]
     },
     "execution_count": 20,
     "metadata": {},
     "output_type": "execute_result"
    }
   ],
   "source": [
    "bridge_year = 0\n",
    "df.query(f'bridge_year == {bridge_year}')['island_ids'].unique()"
   ]
  },
  {
   "cell_type": "code",
   "execution_count": 22,
   "metadata": {},
   "outputs": [
    {
     "data": {
      "text/plain": [
       "array([32, 33, 34, 35, 36, 37, 38, 39])"
      ]
     },
     "execution_count": 22,
     "metadata": {},
     "output_type": "execute_result"
    }
   ],
   "source": [
    "df.prefecture_codes.unique()"
   ]
  },
  {
   "cell_type": "code",
   "execution_count": 5,
   "metadata": {},
   "outputs": [
    {
     "name": "stdout",
     "output_type": "stream",
     "text": [
      "effect: 12.750%\n"
     ]
    }
   ],
   "source": [
    "effect = np.exp(0.120) - 1\n",
    "print(f'effect: {effect:.3%}')"
   ]
  },
  {
   "cell_type": "code",
   "execution_count": 9,
   "metadata": {},
   "outputs": [
    {
     "data": {
      "text/html": [
       "<div>\n",
       "<style scoped>\n",
       "    .dataframe tbody tr th:only-of-type {\n",
       "        vertical-align: middle;\n",
       "    }\n",
       "\n",
       "    .dataframe tbody tr th {\n",
       "        vertical-align: top;\n",
       "    }\n",
       "\n",
       "    .dataframe thead th {\n",
       "        text-align: right;\n",
       "    }\n",
       "</style>\n",
       "<table border=\"1\" class=\"dataframe\">\n",
       "  <thead>\n",
       "    <tr style=\"text-align: right;\">\n",
       "      <th></th>\n",
       "      <th>island_names</th>\n",
       "      <th>prefecture_names</th>\n",
       "      <th>region_names</th>\n",
       "    </tr>\n",
       "  </thead>\n",
       "  <tbody>\n",
       "    <tr>\n",
       "      <th>0</th>\n",
       "      <td>瀬戸ヶ島</td>\n",
       "      <td>島根県</td>\n",
       "      <td>浜田市</td>\n",
       "    </tr>\n",
       "    <tr>\n",
       "      <th>1</th>\n",
       "      <td>瀬戸ヶ島</td>\n",
       "      <td>島根県</td>\n",
       "      <td>浜田市</td>\n",
       "    </tr>\n",
       "    <tr>\n",
       "      <th>2</th>\n",
       "      <td>瀬戸ヶ島</td>\n",
       "      <td>島根県</td>\n",
       "      <td>浜田市</td>\n",
       "    </tr>\n",
       "    <tr>\n",
       "      <th>3</th>\n",
       "      <td>瀬戸ヶ島</td>\n",
       "      <td>島根県</td>\n",
       "      <td>浜田市</td>\n",
       "    </tr>\n",
       "    <tr>\n",
       "      <th>4</th>\n",
       "      <td>瀬戸ヶ島</td>\n",
       "      <td>島根県</td>\n",
       "      <td>浜田市</td>\n",
       "    </tr>\n",
       "    <tr>\n",
       "      <th>5</th>\n",
       "      <td>瀬戸ヶ島</td>\n",
       "      <td>島根県</td>\n",
       "      <td>浜田市</td>\n",
       "    </tr>\n",
       "    <tr>\n",
       "      <th>696</th>\n",
       "      <td>馬島</td>\n",
       "      <td>愛媛県</td>\n",
       "      <td>（旧）波方町</td>\n",
       "    </tr>\n",
       "    <tr>\n",
       "      <th>697</th>\n",
       "      <td>馬島</td>\n",
       "      <td>愛媛県</td>\n",
       "      <td>（旧）波方町</td>\n",
       "    </tr>\n",
       "    <tr>\n",
       "      <th>698</th>\n",
       "      <td>馬島</td>\n",
       "      <td>愛媛県</td>\n",
       "      <td>（旧）波方町</td>\n",
       "    </tr>\n",
       "    <tr>\n",
       "      <th>699</th>\n",
       "      <td>馬島</td>\n",
       "      <td>愛媛県</td>\n",
       "      <td>（旧）波方町</td>\n",
       "    </tr>\n",
       "    <tr>\n",
       "      <th>700</th>\n",
       "      <td>馬島</td>\n",
       "      <td>愛媛県</td>\n",
       "      <td>（旧）波方町</td>\n",
       "    </tr>\n",
       "    <tr>\n",
       "      <th>701</th>\n",
       "      <td>馬島</td>\n",
       "      <td>愛媛県</td>\n",
       "      <td>（旧）波方町</td>\n",
       "    </tr>\n",
       "    <tr>\n",
       "      <th>702</th>\n",
       "      <td>馬島</td>\n",
       "      <td>愛媛県</td>\n",
       "      <td>（旧）波方町</td>\n",
       "    </tr>\n",
       "    <tr>\n",
       "      <th>703</th>\n",
       "      <td>馬島</td>\n",
       "      <td>愛媛県</td>\n",
       "      <td>今治市</td>\n",
       "    </tr>\n",
       "    <tr>\n",
       "      <th>704</th>\n",
       "      <td>馬島</td>\n",
       "      <td>愛媛県</td>\n",
       "      <td>今治市</td>\n",
       "    </tr>\n",
       "    <tr>\n",
       "      <th>705</th>\n",
       "      <td>馬島</td>\n",
       "      <td>愛媛県</td>\n",
       "      <td>今治市</td>\n",
       "    </tr>\n",
       "    <tr>\n",
       "      <th>706</th>\n",
       "      <td>馬島</td>\n",
       "      <td>愛媛県</td>\n",
       "      <td>今治市</td>\n",
       "    </tr>\n",
       "  </tbody>\n",
       "</table>\n",
       "</div>"
      ],
      "text/plain": [
       "    island_names prefecture_names region_names\n",
       "0           瀬戸ヶ島              島根県          浜田市\n",
       "1           瀬戸ヶ島              島根県          浜田市\n",
       "2           瀬戸ヶ島              島根県          浜田市\n",
       "3           瀬戸ヶ島              島根県          浜田市\n",
       "4           瀬戸ヶ島              島根県          浜田市\n",
       "5           瀬戸ヶ島              島根県          浜田市\n",
       "696           馬島              愛媛県       （旧）波方町\n",
       "697           馬島              愛媛県       （旧）波方町\n",
       "698           馬島              愛媛県       （旧）波方町\n",
       "699           馬島              愛媛県       （旧）波方町\n",
       "700           馬島              愛媛県       （旧）波方町\n",
       "701           馬島              愛媛県       （旧）波方町\n",
       "702           馬島              愛媛県       （旧）波方町\n",
       "703           馬島              愛媛県          今治市\n",
       "704           馬島              愛媛県          今治市\n",
       "705           馬島              愛媛県          今治市\n",
       "706           馬島              愛媛県          今治市"
      ]
     },
     "execution_count": 9,
     "metadata": {},
     "output_type": "execute_result"
    }
   ],
   "source": [
    "bridge_year = 1999\n",
    "df.query(f'bridge_year == {bridge_year}')[['island_names', 'prefecture_names', 'region_names']]"
   ]
  }
 ],
 "metadata": {
  "kernelspec": {
   "display_name": "data-analysis",
   "language": "python",
   "name": "data-analysis"
  },
  "language_info": {
   "codemirror_mode": {
    "name": "ipython",
    "version": 3
   },
   "file_extension": ".py",
   "mimetype": "text/x-python",
   "name": "python",
   "nbconvert_exporter": "python",
   "pygments_lexer": "ipython3",
   "version": "3.12.6"
  }
 },
 "nbformat": 4,
 "nbformat_minor": 2
}
