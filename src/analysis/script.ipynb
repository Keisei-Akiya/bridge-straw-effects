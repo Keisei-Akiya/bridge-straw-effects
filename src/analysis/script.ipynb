{
 "cells": [
  {
   "cell_type": "code",
   "execution_count": 1,
   "metadata": {},
   "outputs": [],
   "source": [
    "import pandas as pd\n",
    "import numpy as np\n",
    "path = '../../data/processed/df_filtered.xlsx'"
   ]
  },
  {
   "cell_type": "code",
   "execution_count": 2,
   "metadata": {},
   "outputs": [],
   "source": [
    "df = pd.read_excel(path)"
   ]
  },
  {
   "cell_type": "code",
   "execution_count": 20,
   "metadata": {},
   "outputs": [
    {
     "data": {
      "text/plain": [
       "array([ 69,  71,  73,  76,  77,  78,  79,  80,  90,  93,  99, 101, 105,\n",
       "       110, 114, 115, 119, 126, 128, 129, 135, 136, 140, 148, 162, 163,\n",
       "       165, 166, 167, 170, 174, 175, 182, 190, 194, 196, 198, 199, 200,\n",
       "       201, 206, 207, 215, 217, 218])"
      ]
     },
     "execution_count": 20,
     "metadata": {},
     "output_type": "execute_result"
    }
   ],
   "source": [
    "bridge_year = 0\n",
    "df.query(f'bridge_year == {bridge_year}')['island_ids'].unique()"
   ]
  },
  {
   "cell_type": "code",
   "execution_count": 22,
   "metadata": {},
   "outputs": [
    {
     "data": {
      "text/plain": [
       "array([32, 33, 34, 35, 36, 37, 38, 39])"
      ]
     },
     "execution_count": 22,
     "metadata": {},
     "output_type": "execute_result"
    }
   ],
   "source": [
    "df.prefecture_codes.unique()"
   ]
  },
  {
   "cell_type": "code",
   "execution_count": 5,
   "metadata": {},
   "outputs": [
    {
     "name": "stdout",
     "output_type": "stream",
     "text": [
      "effect: 12.750%\n"
     ]
    }
   ],
   "source": [
    "effect = np.exp(0.120) - 1\n",
    "print(f'effect: {effect:.3%}')"
   ]
  },
  {
   "cell_type": "markdown",
   "metadata": {},
   "source": [
    "島名\t島ID\t開通年\t1960\t1965\t1970\t1975\t1980\t1985\t1990\t1995\t2000\t2005\t2010\t2015\t2020\n",
    "大島\t223\t1965\t\t\t\t\t\t\t\t\t\t\t\t\t\n",
    "沖野島\t118\t1972\t\t\t\t\t\t\t\t\t\t\t\t\t\n",
    "江田島・能美島\t117\t1973\t\t\t\t\t\t\t\t\t\t\t\t\t\n",
    "鹿島\t112\t1975\t\t\t\t\t\t\t\t\t\t\t\t\t\n",
    "屋代島\t125\t1976\t\t\t\t\t\t\t\t\t\t\t\t\t\n",
    "上蒲刈島\t108\t1979\t\t\t\t\t\t\t\t\t\t\t\t\t\n",
    "大三島\t192\t1979\t\t\t\t\t\t\t\t\t\t\t\t\t\n",
    "伯方島\t193\t1979\t\t\t\t\t\t\t\t\t\t\t\t\t\n",
    "中ノ島\t221\t1982\t\t\t\t\t\t\t\t\t\t\t\t\t\n",
    "因島\t94\t1983\t\t\t\t\t\t\t\t\t\t\t\t\t\n",
    "沖家室島\t130\t1983\t\t\t\t\t\t\t\t\t\t\t\t\t\n",
    "長島\t103\t1987\t\t\t\t\t\t\t\t\t\t\t\t\t\n",
    "櫃石島\t171\t1988\t\t\t\t\t\t\t\t\t\t\t\t\t\n",
    "岩黒島\t172\t1988\t\t\t\t\t\t\t\t\t\t\t\t\t\n",
    "与島\t173\t1988\t\t\t\t\t\t\t\t\t\t\t\t\t\n",
    "田島\t88\t1989\t\t\t\t\t\t\t\t\t\t\t\t\t\n",
    "生口島\t95\t1991\t\t\t\t\t\t\t\t\t\t\t\t\t\n",
    "大崎下島\t104\t1992\t\t\t\t\t\t\t\t\t\t\t\t\t\n",
    "岡村島\t197\t1995\t\t\t\t\t\t\t\t\t\t\t\t\t\n",
    "弓削島\t187\t1996\t\t\t\t\t\t\t\t\t\t\t\t\t\n",
    "佐島\t188\t1996\t\t\t\t\t\t\t\t\t\t\t\t\t\n",
    "大芝島\t113\t1997\t\t\t\t\t\t\t\t\t\t\t\t\t\n",
    "瀬戸ヶ島\t67\t1999\t\t\t\t\t\t\t\t\t\t\t\t\t\n",
    "馬島\t202\t1999\t\t\t\t\t\t\t\t\t\t\t\t\t\n",
    "下蒲刈島\t109\t2000\t\t\t\t\t\t\t\t\t\t\t\t\t\n",
    "角島\t146\t2000\t\t\t\t\t\t\t\t\t\t\t\t\t\n",
    "頭島\t70\t2004\t\t\t\t\t\t\t\t\t\t\t\t\t\n",
    "豊島\t106\t2008\t\t\t\t\t\t\t\t\t\t\t\t\t\n",
    "生名島\t189\t2011\t\t\t\t\t\t\t\t\t\t\t\t\t\n",
    "鹿久居島\t68\t2015\t\t\t\t\t\t\t\t\t\t\t\t\t\n",
    "高島\t156\t2018\t\t\t\t\t\t\t\t\t\t\t\t\t\n"
   ]
  }
 ],
 "metadata": {
  "kernelspec": {
   "display_name": "data-analysis",
   "language": "python",
   "name": "data-analysis"
  },
  "language_info": {
   "codemirror_mode": {
    "name": "ipython",
    "version": 3
   },
   "file_extension": ".py",
   "mimetype": "text/x-python",
   "name": "python",
   "nbconvert_exporter": "python",
   "pygments_lexer": "ipython3",
   "version": "3.12.6"
  }
 },
 "nbformat": 4,
 "nbformat_minor": 2
}
