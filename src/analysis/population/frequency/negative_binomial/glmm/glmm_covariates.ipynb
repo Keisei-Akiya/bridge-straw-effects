{
 "cells": [
  {
   "cell_type": "markdown",
   "metadata": {},
   "source": [
    "# GLMM 負の二項分布回帰\n",
    "\n",
    "ポアソン分布が過分散のときに使用できる分布が負の二項分布であり，ポアソン回帰が過剰に精密に推定してしまうことを防ぐために使用される．"
   ]
  },
  {
   "cell_type": "code",
   "execution_count": 163,
   "metadata": {},
   "outputs": [],
   "source": [
    "import sys\n",
    "import os\n",
    "\n",
    "import pandas as pd\n",
    "import numpy as np\n",
    "import matplotlib.pyplot as plt\n",
    "import seaborn as sns\n",
    "import gpboost as gpb\n",
    "from patsy import dmatrix\n",
    "\n",
    "sys.path.append(os.path.abspath('../../../../../data_cleaning'))\n",
    "\n",
    "from log_standardize import log_standardize"
   ]
  },
  {
   "cell_type": "code",
   "execution_count": 164,
   "metadata": {},
   "outputs": [
    {
     "data": {
      "text/html": [
       "<div>\n",
       "<style scoped>\n",
       "    .dataframe tbody tr th:only-of-type {\n",
       "        vertical-align: middle;\n",
       "    }\n",
       "\n",
       "    .dataframe tbody tr th {\n",
       "        vertical-align: top;\n",
       "    }\n",
       "\n",
       "    .dataframe thead th {\n",
       "        text-align: right;\n",
       "    }\n",
       "</style>\n",
       "<table border=\"1\" class=\"dataframe\">\n",
       "  <thead>\n",
       "    <tr style=\"text-align: right;\">\n",
       "      <th></th>\n",
       "      <th>island</th>\n",
       "      <th>year</th>\n",
       "      <th>island_id</th>\n",
       "      <th>region_code</th>\n",
       "      <th>region_name</th>\n",
       "      <th>prefecture_code</th>\n",
       "      <th>population</th>\n",
       "      <th>dummy_island_has_bridge</th>\n",
       "      <th>dummy_island_is_connected_mainland</th>\n",
       "      <th>year_bridge_opened</th>\n",
       "      <th>dummy_after_bridge_opened</th>\n",
       "      <th>year_connect_mainland</th>\n",
       "      <th>dummy_after_connect_mainland</th>\n",
       "      <th>income</th>\n",
       "      <th>prefecture_name</th>\n",
       "      <th>area_km2</th>\n",
       "      <th>distance_m</th>\n",
       "    </tr>\n",
       "  </thead>\n",
       "  <tbody>\n",
       "    <tr>\n",
       "      <th>5</th>\n",
       "      <td>島後</td>\n",
       "      <td>2005</td>\n",
       "      <td>62</td>\n",
       "      <td>32528</td>\n",
       "      <td>隠岐の島町</td>\n",
       "      <td>32</td>\n",
       "      <td>17259.0</td>\n",
       "      <td>0.0</td>\n",
       "      <td>0.0</td>\n",
       "      <td>0.0</td>\n",
       "      <td>0.0</td>\n",
       "      <td>0.0</td>\n",
       "      <td>0.0</td>\n",
       "      <td>2030.888121</td>\n",
       "      <td>島根県</td>\n",
       "      <td>241.53</td>\n",
       "      <td>67840.0</td>\n",
       "    </tr>\n",
       "    <tr>\n",
       "      <th>6</th>\n",
       "      <td>島後</td>\n",
       "      <td>2010</td>\n",
       "      <td>62</td>\n",
       "      <td>32528</td>\n",
       "      <td>隠岐の島町</td>\n",
       "      <td>32</td>\n",
       "      <td>15930.0</td>\n",
       "      <td>0.0</td>\n",
       "      <td>0.0</td>\n",
       "      <td>0.0</td>\n",
       "      <td>0.0</td>\n",
       "      <td>0.0</td>\n",
       "      <td>0.0</td>\n",
       "      <td>1725.990958</td>\n",
       "      <td>島根県</td>\n",
       "      <td>241.53</td>\n",
       "      <td>67840.0</td>\n",
       "    </tr>\n",
       "    <tr>\n",
       "      <th>7</th>\n",
       "      <td>島後</td>\n",
       "      <td>2015</td>\n",
       "      <td>62</td>\n",
       "      <td>32528</td>\n",
       "      <td>隠岐の島町</td>\n",
       "      <td>32</td>\n",
       "      <td>14901.0</td>\n",
       "      <td>0.0</td>\n",
       "      <td>0.0</td>\n",
       "      <td>0.0</td>\n",
       "      <td>0.0</td>\n",
       "      <td>0.0</td>\n",
       "      <td>0.0</td>\n",
       "      <td>1613.531700</td>\n",
       "      <td>島根県</td>\n",
       "      <td>241.53</td>\n",
       "      <td>67840.0</td>\n",
       "    </tr>\n",
       "    <tr>\n",
       "      <th>8</th>\n",
       "      <td>島後</td>\n",
       "      <td>2020</td>\n",
       "      <td>62</td>\n",
       "      <td>32528</td>\n",
       "      <td>隠岐の島町</td>\n",
       "      <td>32</td>\n",
       "      <td>13882.0</td>\n",
       "      <td>0.0</td>\n",
       "      <td>0.0</td>\n",
       "      <td>0.0</td>\n",
       "      <td>0.0</td>\n",
       "      <td>0.0</td>\n",
       "      <td>0.0</td>\n",
       "      <td>1686.173400</td>\n",
       "      <td>島根県</td>\n",
       "      <td>241.53</td>\n",
       "      <td>67840.0</td>\n",
       "    </tr>\n",
       "    <tr>\n",
       "      <th>10</th>\n",
       "      <td>中ノ島</td>\n",
       "      <td>1985</td>\n",
       "      <td>63</td>\n",
       "      <td>32525</td>\n",
       "      <td>海士町</td>\n",
       "      <td>32</td>\n",
       "      <td>3339.0</td>\n",
       "      <td>0.0</td>\n",
       "      <td>0.0</td>\n",
       "      <td>0.0</td>\n",
       "      <td>0.0</td>\n",
       "      <td>0.0</td>\n",
       "      <td>0.0</td>\n",
       "      <td>363.212405</td>\n",
       "      <td>島根県</td>\n",
       "      <td>32.29</td>\n",
       "      <td>49730.0</td>\n",
       "    </tr>\n",
       "  </tbody>\n",
       "</table>\n",
       "</div>"
      ],
      "text/plain": [
       "   island  year  island_id region_code region_name  prefecture_code  \\\n",
       "5      島後  2005         62       32528       隠岐の島町               32   \n",
       "6      島後  2010         62       32528       隠岐の島町               32   \n",
       "7      島後  2015         62       32528       隠岐の島町               32   \n",
       "8      島後  2020         62       32528       隠岐の島町               32   \n",
       "10    中ノ島  1985         63       32525         海士町               32   \n",
       "\n",
       "    population  dummy_island_has_bridge  dummy_island_is_connected_mainland  \\\n",
       "5      17259.0                      0.0                                 0.0   \n",
       "6      15930.0                      0.0                                 0.0   \n",
       "7      14901.0                      0.0                                 0.0   \n",
       "8      13882.0                      0.0                                 0.0   \n",
       "10      3339.0                      0.0                                 0.0   \n",
       "\n",
       "    year_bridge_opened  dummy_after_bridge_opened  year_connect_mainland  \\\n",
       "5                  0.0                        0.0                    0.0   \n",
       "6                  0.0                        0.0                    0.0   \n",
       "7                  0.0                        0.0                    0.0   \n",
       "8                  0.0                        0.0                    0.0   \n",
       "10                 0.0                        0.0                    0.0   \n",
       "\n",
       "    dummy_after_connect_mainland       income prefecture_name  area_km2  \\\n",
       "5                            0.0  2030.888121             島根県    241.53   \n",
       "6                            0.0  1725.990958             島根県    241.53   \n",
       "7                            0.0  1613.531700             島根県    241.53   \n",
       "8                            0.0  1686.173400             島根県    241.53   \n",
       "10                           0.0   363.212405             島根県     32.29   \n",
       "\n",
       "    distance_m  \n",
       "5      67840.0  \n",
       "6      67840.0  \n",
       "7      67840.0  \n",
       "8      67840.0  \n",
       "10     49730.0  "
      ]
     },
     "execution_count": 164,
     "metadata": {},
     "output_type": "execute_result"
    }
   ],
   "source": [
    "filepath = '../../../../../../data/processed/df_filtered_5years.xlsx'\n",
    "df = pd.read_excel(filepath)\n",
    "df = df.dropna()\n",
    "df.head()"
   ]
  },
  {
   "cell_type": "markdown",
   "metadata": {},
   "source": [
    "## Define the variables"
   ]
  },
  {
   "cell_type": "code",
   "execution_count": 167,
   "metadata": {},
   "outputs": [],
   "source": [
    "pop_density = df['population'] / df['area_km2']\n",
    "\n",
    "log_std_income = log_standardize(df['income'])\n",
    "log_std_area = log_standardize(df['area_km2'])\n",
    "log_std_dist = log_standardize(df['distance_m'])\n",
    "log_std_density = log_standardize(pop_density)\n",
    "\n",
    "islands = pd.Categorical(df['island_id'])\n",
    "islands_codes = islands.codes\n",
    "n_islands = len(islands.categories)\n",
    "\n",
    "# 過分散パラメータ\n",
    "mean_population = np.mean(df['population'])\n",
    "var_population = np.var(df['population'])\n",
    "\n",
    "alpha = (var_population - mean_population) / mean_population**2\n",
    "shape = 1 / alpha"
   ]
  },
  {
   "cell_type": "markdown",
   "metadata": {},
   "source": [
    "## モデリング"
   ]
  },
  {
   "cell_type": "markdown",
   "metadata": {},
   "source": [
    "### GLMM"
   ]
  },
  {
   "cell_type": "markdown",
   "metadata": {},
   "source": [
    "$$\n",
    "Population = \\lambda \\\\\n",
    "\n",
    "\\log\\lambda = \\beta_0 + \\beta_1 Bridge + X^T \\gamma + Island + Year \\\\\n",
    "$$"
   ]
  },
  {
   "cell_type": "markdown",
   "metadata": {},
   "source": [
    "- ランダム効果: 島"
   ]
  },
  {
   "cell_type": "code",
   "execution_count": 188,
   "metadata": {},
   "outputs": [
    {
     "name": "stdout",
     "output_type": "stream",
     "text": [
      "=====================================================\n",
      "Model summary:\n",
      " Log-lik      AIC      BIC\n",
      " -5020.6 10069.21 10136.46\n",
      "Nb. observations: 901\n",
      "Nb. groups: 152 (island_id)\n",
      "-----------------------------------------------------\n",
      "Covariance parameters (random effects):\n",
      "           Param.\n",
      "island_id  1.1378\n",
      "-----------------------------------------------------\n",
      "Linear regression coefficients (fixed effects):\n",
      "                 Param.  Std. dev.  z value  P(>|z|)\n",
      "Intercept        6.0324     0.4282  14.0880   0.0000\n",
      "C(year)[T.1990] -0.0934     0.0620  -1.5070   0.1318\n",
      "C(year)[T.1995] -0.0781     0.0506  -1.5416   0.1232\n",
      "C(year)[T.2000] -0.2101     0.0508  -4.1327   0.0000\n",
      "C(year)[T.2005] -0.2711     0.0513  -5.2813   0.0000\n",
      "C(year)[T.2010] -0.3981     0.0517  -7.7006   0.0000\n",
      "C(year)[T.2015] -0.5318     0.0519 -10.2537   0.0000\n",
      "C(year)[T.2020] -0.6855     0.0522 -13.1232   0.0000\n",
      "bridge           0.1131     0.0361   3.1344   0.0017\n",
      "log_income      -0.0092     0.0056  -1.6380   0.1014\n",
      "log_area         1.0058     0.0538  18.6830   0.0000\n",
      "log_distance    -0.1439     0.0575  -2.5017   0.0124\n",
      "pop_density      0.0006     0.0001   9.1376   0.0000\n",
      "-----------------------------------------------------\n",
      "Additional parameters:\n",
      "        Param.\n",
      "shape  84.2423\n",
      "=====================================================\n",
      "<gpboost.basic.GPModel object at 0x7f46f71ed5d0>\n"
     ]
    }
   ],
   "source": [
    "group = df['island_id']\n",
    "y = df['population']\n",
    "X = dmatrix('bridge + log_income + log_area + log_distance + pop_density + C(year)', data=df, return_type='dataframe')\n",
    "\n",
    "model = gpb.GPModel(group_data=group, likelihood='negative_binomial') # 負の二項分布\n",
    "model.fit(y=y, X=X, params={'std_dev': True})\n",
    "\n",
    "pred = model.predict(X_pred=X, group_data_pred=group)['mu']\n",
    "residuals = y - pred\n",
    "\n",
    "print(model.summary())"
   ]
  },
  {
   "cell_type": "code",
   "execution_count": 200,
   "metadata": {},
   "outputs": [
    {
     "name": "stdout",
     "output_type": "stream",
     "text": [
      "=====================================================\n",
      "Model summary:\n",
      " Log-lik     AIC     BIC\n",
      "-3845.05 7718.11 7785.36\n",
      "Nb. observations: 901\n",
      "Nb. groups: 152 (island_id)\n",
      "-----------------------------------------------------\n",
      "Covariance parameters (random effects):\n",
      "           Param.\n",
      "island_id   0.144\n",
      "-----------------------------------------------------\n",
      "Linear regression coefficients (fixed effects):\n",
      "                 Param.  Std. dev.   z value  P(>|z|)\n",
      "Intercept        5.5495     0.0318  174.6902   0.0000\n",
      "C(year)[T.1990] -0.0002     0.0062   -0.0362   0.9711\n",
      "C(year)[T.1995] -0.0009     0.0024   -0.3582   0.7202\n",
      "C(year)[T.2000] -0.0009     0.0015   -0.6163   0.5377\n",
      "C(year)[T.2005] -0.0011     0.0021   -0.5245   0.5999\n",
      "C(year)[T.2010] -0.0014     0.0032   -0.4230   0.6723\n",
      "C(year)[T.2015] -0.0016     0.0038   -0.4211   0.6737\n",
      "C(year)[T.2020] -0.0019     0.0046   -0.4225   0.6727\n",
      "bridge           0.0005     0.0072    0.0765   0.9390\n",
      "log_std_income   0.0000     0.0002    0.1342   0.8932\n",
      "log_std_area     1.5256     0.0179   85.3601   0.0000\n",
      "log_std_dist     0.0424     0.0147    2.8794   0.0040\n",
      "log_std_density  1.2433     0.0122  102.1382   0.0000\n",
      "-----------------------------------------------------\n",
      "Additional parameters:\n",
      "          Param.\n",
      "shape  32678.206\n",
      "=====================================================\n",
      "<gpboost.basic.GPModel object at 0x7f46f7a69c90>\n"
     ]
    }
   ],
   "source": [
    "np.random.seed(42)\n",
    "\n",
    "group = df['island_id']\n",
    "y = df['population']\n",
    "X = dmatrix('bridge + log_std_income + log_std_area + log_std_dist + log_std_density + C(year)', data=df, return_type='dataframe')\n",
    "\n",
    "model = gpb.GPModel(group_data=group, likelihood='negative_binomial') # 負の二項分布\n",
    "model.fit(y=y, X=X, params={'std_dev': True})\n",
    "\n",
    "pred = model.predict(X_pred=X, group_data_pred=group)['mu']\n",
    "residuals = y - pred\n",
    "\n",
    "print(model.summary())"
   ]
  },
  {
   "cell_type": "code",
   "execution_count": 151,
   "metadata": {},
   "outputs": [
    {
     "name": "stdout",
     "output_type": "stream",
     "text": [
      "=====================================================\n",
      "Model summary:\n",
      " Log-lik     AIC      BIC\n",
      " -5355.0 10724.0 10757.63\n",
      "Nb. observations: 901\n",
      "Nb. groups: 152 (island_id)\n",
      "-----------------------------------------------------\n",
      "Covariance parameters (random effects):\n",
      "           Param.\n",
      "island_id  0.7707\n",
      "-----------------------------------------------------\n",
      "Linear regression coefficients (fixed effects):\n",
      "              Param.  Std. dev.  z value  P(>|z|)\n",
      "Intercept     4.9838     0.3695  13.4896   0.0000\n",
      "bridge        0.0840     0.0616   1.3633   0.1728\n",
      "log_income   -0.0611     0.0086  -7.1066   0.0000\n",
      "log_area      1.0182     0.0449  22.6991   0.0000\n",
      "log_distance -0.0318     0.0488  -0.6516   0.5146\n",
      "density       0.0021     0.0001  22.3319   0.0000\n",
      "-----------------------------------------------------\n",
      "Additional parameters:\n",
      "        Param.\n",
      "shape  23.0059\n",
      "=====================================================\n",
      "<gpboost.basic.GPModel object at 0x7f46f7270520>\n"
     ]
    }
   ],
   "source": [
    "group = df['island_id']\n",
    "y = df['population']\n",
    "X = dmatrix('bridge + log_income + log_area + log_distance + density', data=df, return_type='dataframe')\n",
    "\n",
    "model = gpb.GPModel(group_data=group, likelihood='negative_binomial') # 負の二項分布\n",
    "model.fit(y=y, X=X, params={'std_dev': True})\n",
    "\n",
    "pred = model.predict(X_pred=X, group_data_pred=group)['mu']\n",
    "residuals = y - pred\n",
    "\n",
    "print(model.summary())"
   ]
  },
  {
   "cell_type": "markdown",
   "metadata": {},
   "source": [
    "- ランダム効果: 島\n",
    "- 固定効果: 年"
   ]
  },
  {
   "cell_type": "code",
   "execution_count": 153,
   "metadata": {},
   "outputs": [
    {
     "name": "stdout",
     "output_type": "stream",
     "text": [
      "=====================================================\n",
      "Model summary:\n",
      " Log-lik     AIC      BIC\n",
      "-5020.55 10069.1 10136.35\n",
      "Nb. observations: 901\n",
      "Nb. groups: 152 (island_id)\n",
      "-----------------------------------------------------\n",
      "Covariance parameters (random effects):\n",
      "           Param.\n",
      "island_id  1.1322\n",
      "-----------------------------------------------------\n",
      "Linear regression coefficients (fixed effects):\n",
      "                 Param.  Std. dev.  z value  P(>|z|)\n",
      "Intercept        5.9990     0.4261  14.0784   0.0000\n",
      "C(year)[T.1990] -0.0753     0.0618  -1.2186   0.2230\n",
      "C(year)[T.1995] -0.0666     0.0503  -1.3223   0.1861\n",
      "C(year)[T.2000] -0.1997     0.0505  -3.9524   0.0001\n",
      "C(year)[T.2005] -0.2627     0.0510  -5.1486   0.0000\n",
      "C(year)[T.2010] -0.3897     0.0514  -7.5815   0.0000\n",
      "C(year)[T.2015] -0.5222     0.0516 -10.1270   0.0000\n",
      "C(year)[T.2020] -0.6762     0.0519 -13.0192   0.0000\n",
      "bridge           0.1175     0.0360   3.2652   0.0011\n",
      "log_income      -0.0096     0.0056  -1.7080   0.0876\n",
      "log_area         1.0100     0.0537  18.8019   0.0000\n",
      "log_distance    -0.1410     0.0573  -2.4621   0.0138\n",
      "density          0.0006     0.0001   9.1992   0.0000\n",
      "-----------------------------------------------------\n",
      "Additional parameters:\n",
      "        Param.\n",
      "shape  84.7054\n",
      "=====================================================\n"
     ]
    },
    {
     "data": {
      "text/plain": [
       "<gpboost.basic.GPModel at 0x7f46f72701f0>"
      ]
     },
     "execution_count": 153,
     "metadata": {},
     "output_type": "execute_result"
    }
   ],
   "source": [
    "y = df['population']\n",
    "group = df['island_id']\n",
    "X = dmatrix('bridge + log_income + log_area + log_distance + density+ C(year)', data=df, return_type='dataframe')\n",
    "\n",
    "gp_model = gpb.GPModel(group_data=group, likelihood='negative_binomial')\n",
    "gp_model.fit(y=y, X=X, params={'std_dev': True})\n",
    "gp_model.summary()"
   ]
  },
  {
   "cell_type": "code",
   "execution_count": 120,
   "metadata": {},
   "outputs": [
    {
     "name": "stdout",
     "output_type": "stream",
     "text": [
      "=====================================================\n",
      "Model summary:\n",
      " Log-lik      AIC     BIC\n",
      "-5060.93 10147.86 10210.3\n",
      "Nb. observations: 901\n",
      "Nb. groups: 152 (island_id)\n",
      "-----------------------------------------------------\n",
      "Covariance parameters (random effects):\n",
      "           Param.\n",
      "island_id  1.4222\n",
      "-----------------------------------------------------\n",
      "Linear regression coefficients (fixed effects):\n",
      "                 Param.  Std. dev.  z value  P(>|z|)\n",
      "Intercept        6.5368     0.5423  12.0542   0.0000\n",
      "C(year)[T.1990] -0.0833     0.0626  -1.3302   0.1835\n",
      "C(year)[T.1995] -0.0622     0.0046 -13.5459   0.0000\n",
      "C(year)[T.2000] -0.2165     0.0153 -14.1047   0.0000\n",
      "C(year)[T.2005] -0.2949     0.0164 -18.0113   0.0000\n",
      "C(year)[T.2010] -0.4440     0.0167 -26.5707   0.0000\n",
      "C(year)[T.2015] -0.5958     0.0166 -35.9168   0.0000\n",
      "C(year)[T.2020] -0.7686     0.0168 -45.8082   0.0000\n",
      "bridge           0.0880     0.0373   2.3600   0.0183\n",
      "log_income      -0.0057     0.0058  -0.9691   0.3325\n",
      "log_area         1.0088     0.0809  12.4767   0.0000\n",
      "log_distance    -0.1942     0.0701  -2.7705   0.0056\n",
      "-----------------------------------------------------\n",
      "Additional parameters:\n",
      "        Param.\n",
      "shape  77.3122\n",
      "=====================================================\n"
     ]
    },
    {
     "data": {
      "text/plain": [
       "<gpboost.basic.GPModel at 0x7f46f71eff40>"
      ]
     },
     "execution_count": 120,
     "metadata": {},
     "output_type": "execute_result"
    }
   ],
   "source": [
    "y = df['population']\n",
    "group = df['island_id']\n",
    "bridge = df['dummy_after_bridge_opened']\n",
    "X = dmatrix('bridge + log_income + log_area + log_distance + C(year)', data=df, return_type='dataframe')\n",
    "\n",
    "gp_model = gpb.GPModel(group_data=group, ind_effect_group_rand_coef=bridge, likelihood='negative_binomial')\n",
    "gp_model.fit(y=y, X=X, params={'std_dev': True})\n",
    "gp_model.summary()"
   ]
  },
  {
   "cell_type": "code",
   "execution_count": 96,
   "metadata": {},
   "outputs": [
    {
     "data": {
      "text/html": [
       "<div>\n",
       "<style scoped>\n",
       "    .dataframe tbody tr th:only-of-type {\n",
       "        vertical-align: middle;\n",
       "    }\n",
       "\n",
       "    .dataframe tbody tr th {\n",
       "        vertical-align: top;\n",
       "    }\n",
       "\n",
       "    .dataframe thead th {\n",
       "        text-align: right;\n",
       "    }\n",
       "</style>\n",
       "<table border=\"1\" class=\"dataframe\">\n",
       "  <thead>\n",
       "    <tr style=\"text-align: right;\">\n",
       "      <th></th>\n",
       "      <th>Intercept</th>\n",
       "      <th>C(year)[T.1990]</th>\n",
       "      <th>C(year)[T.1995]</th>\n",
       "      <th>C(year)[T.2000]</th>\n",
       "      <th>C(year)[T.2005]</th>\n",
       "      <th>C(year)[T.2010]</th>\n",
       "      <th>C(year)[T.2015]</th>\n",
       "      <th>C(year)[T.2020]</th>\n",
       "      <th>bridge</th>\n",
       "      <th>log_income</th>\n",
       "      <th>log_area</th>\n",
       "      <th>log_distance</th>\n",
       "    </tr>\n",
       "  </thead>\n",
       "  <tbody>\n",
       "    <tr>\n",
       "      <th>Param.</th>\n",
       "      <td>6.568542</td>\n",
       "      <td>-0.085777</td>\n",
       "      <td>-0.065724</td>\n",
       "      <td>-0.220044</td>\n",
       "      <td>-0.298711</td>\n",
       "      <td>-0.447845</td>\n",
       "      <td>-0.599789</td>\n",
       "      <td>-0.772547</td>\n",
       "      <td>0.085880</td>\n",
       "      <td>-0.005432</td>\n",
       "      <td>1.001411</td>\n",
       "      <td>-0.196632</td>\n",
       "    </tr>\n",
       "    <tr>\n",
       "      <th>Std. dev.</th>\n",
       "      <td>0.466490</td>\n",
       "      <td>0.064974</td>\n",
       "      <td>0.052954</td>\n",
       "      <td>0.053144</td>\n",
       "      <td>0.053586</td>\n",
       "      <td>0.053774</td>\n",
       "      <td>0.053682</td>\n",
       "      <td>0.053729</td>\n",
       "      <td>0.037586</td>\n",
       "      <td>0.005820</td>\n",
       "      <td>0.059557</td>\n",
       "      <td>0.063144</td>\n",
       "    </tr>\n",
       "  </tbody>\n",
       "</table>\n",
       "</div>"
      ],
      "text/plain": [
       "           Intercept  C(year)[T.1990]  C(year)[T.1995]  C(year)[T.2000]  \\\n",
       "Param.      6.568542        -0.085777        -0.065724        -0.220044   \n",
       "Std. dev.   0.466490         0.064974         0.052954         0.053144   \n",
       "\n",
       "           C(year)[T.2005]  C(year)[T.2010]  C(year)[T.2015]  C(year)[T.2020]  \\\n",
       "Param.           -0.298711        -0.447845        -0.599789        -0.772547   \n",
       "Std. dev.         0.053586         0.053774         0.053682         0.053729   \n",
       "\n",
       "             bridge  log_income  log_area  log_distance  \n",
       "Param.     0.085880   -0.005432  1.001411     -0.196632  \n",
       "Std. dev.  0.037586    0.005820  0.059557      0.063144  "
      ]
     },
     "execution_count": 96,
     "metadata": {},
     "output_type": "execute_result"
    }
   ],
   "source": [
    "bridge_effects_est = gp_model.get_coef()\n",
    "bridge_effects_est"
   ]
  },
  {
   "cell_type": "markdown",
   "metadata": {},
   "source": [
    "## 残差分析"
   ]
  },
  {
   "cell_type": "code",
   "execution_count": 98,
   "metadata": {},
   "outputs": [],
   "source": [
    "pred = gp_model.predict(X_pred=X, group_data_pred=group)['mu']\n",
    "resid = y - pred"
   ]
  },
  {
   "cell_type": "markdown",
   "metadata": {},
   "source": [
    "### 残差プロット"
   ]
  },
  {
   "cell_type": "code",
   "execution_count": 99,
   "metadata": {},
   "outputs": [
    {
     "data": {
      "image/png": "[encoded data removed]",
      "text/plain": [
       "<Figure size 1200x600 with 1 Axes>"
      ]
     },
     "metadata": {},
     "output_type": "display_data"
    }
   ],
   "source": [
    "plt.figure(figsize=(12, 6))\n",
    "sns.scatterplot(x=pred, y=resid)\n",
    "plt.xlabel('Predicted values')\n",
    "plt.ylabel('Residuals')\n",
    "plt.show()"
   ]
  },
  {
   "cell_type": "markdown",
   "metadata": {},
   "source": [
    "### 残差ヒストグラム"
   ]
  },
  {
   "cell_type": "code",
   "execution_count": 100,
   "metadata": {},
   "outputs": [
    {
     "data": {
      "image/png": "[encoded data removed]",
      "text/plain": [
       "<Figure size 1200x600 with 1 Axes>"
      ]
     },
     "metadata": {},
     "output_type": "display_data"
    }
   ],
   "source": [
    "plt.figure(figsize=(12, 6))\n",
    "sns.histplot(resid, bins=30, kde=True)\n",
    "plt.xlabel('Residuals')\n",
    "plt.ylabel('Frequency')\n",
    "plt.show()"
   ]
  }
 ],
 "metadata": {
  "kernelspec": {
   "display_name": ".venv",
   "language": "python",
   "name": "python3"
  },
  "language_info": {
   "codemirror_mode": {
    "name": "ipython",
    "version": 3
   },
   "file_extension": ".py",
   "mimetype": "text/x-python",
   "name": "python",
   "nbconvert_exporter": "python",
   "pygments_lexer": "ipython3",
   "version": "3.10.15"
  }
 },
 "nbformat": 4,
 "nbformat_minor": 2
}
