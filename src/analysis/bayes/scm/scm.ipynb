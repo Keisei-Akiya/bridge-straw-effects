{
 "cells": [
  {
   "cell_type": "markdown",
   "metadata": {},
   "source": [
    "# ベイジアン合成コントロール法"
   ]
  },
  {
   "cell_type": "code",
   "execution_count": 1,
   "metadata": {},
   "outputs": [],
   "source": [
    "import pandas as pd\n",
    "import numpy as np\n",
    "import matplotlib.pyplot as plt\n",
    "import seaborn as sns\n",
    "import pymc as pm\n",
    "import arviz as az\n",
    "az.style.use('arviz-darkgrid')"
   ]
  },
  {
   "cell_type": "code",
   "execution_count": 2,
   "metadata": {},
   "outputs": [],
   "source": [
    "path = '../../../../data/processed/df_exclude_already_treated.xlsx'\n",
    "df = pd.read_excel(path)\n",
    "df['log_pop'] = np.log(df['population'])"
   ]
  },
  {
   "cell_type": "markdown",
   "metadata": {},
   "source": [
    "## モデル\n",
    "\n",
    "$$\n",
    "y_{it} = \\mathbf{X}^T \\mathbf{\\beta} + \\epsilon_{it}\n",
    "$$"
   ]
  },
  {
   "cell_type": "code",
   "execution_count": 6,
   "metadata": {},
   "outputs": [
    {
     "ename": "ValueError",
     "evalue": "Incompatible Elemwise input shapes [(29,), (1707,)]",
     "output_type": "error",
     "traceback": [
      "\u001b[0;31m---------------------------------------------------------------------------\u001b[0m",
      "\u001b[0;31mValueError\u001b[0m                                Traceback (most recent call last)",
      "File \u001b[0;32m~/data-analysis/bridge-treatment-effects/.venv/lib/python3.12/site-packages/pytensor/tensor/elemwise.py:420\u001b[0m, in \u001b[0;36mElemwise.get_output_info\u001b[0;34m(self, *inputs)\u001b[0m\n\u001b[1;32m    417\u001b[0m \u001b[38;5;28;01mtry\u001b[39;00m:\n\u001b[1;32m    418\u001b[0m     out_shapes \u001b[38;5;241m=\u001b[39m [\n\u001b[1;32m    419\u001b[0m         [\n\u001b[0;32m--> 420\u001b[0m             \u001b[43mbroadcast_static_dim_lengths\u001b[49m\u001b[43m(\u001b[49m\u001b[43mshape\u001b[49m\u001b[43m)\u001b[49m\n\u001b[1;32m    421\u001b[0m             \u001b[38;5;28;01mfor\u001b[39;00m shape \u001b[38;5;129;01min\u001b[39;00m \u001b[38;5;28mzip\u001b[39m(\u001b[38;5;241m*\u001b[39m[inp\u001b[38;5;241m.\u001b[39mtype\u001b[38;5;241m.\u001b[39mshape \u001b[38;5;28;01mfor\u001b[39;00m inp \u001b[38;5;129;01min\u001b[39;00m inputs], strict\u001b[38;5;241m=\u001b[39m\u001b[38;5;28;01mTrue\u001b[39;00m)\n\u001b[1;32m    422\u001b[0m         ]\n\u001b[1;32m    423\u001b[0m     ] \u001b[38;5;241m*\u001b[39m shadow\u001b[38;5;241m.\u001b[39mnout\n\u001b[1;32m    424\u001b[0m \u001b[38;5;28;01mexcept\u001b[39;00m \u001b[38;5;167;01mValueError\u001b[39;00m:\n",
      "File \u001b[0;32m~/data-analysis/bridge-treatment-effects/.venv/lib/python3.12/site-packages/pytensor/tensor/utils.py:165\u001b[0m, in \u001b[0;36mbroadcast_static_dim_lengths\u001b[0;34m(dim_lengths)\u001b[0m\n\u001b[1;32m    164\u001b[0m \u001b[38;5;28;01mif\u001b[39;00m \u001b[38;5;28mlen\u001b[39m(dim_lengths_set) \u001b[38;5;241m>\u001b[39m \u001b[38;5;241m1\u001b[39m:\n\u001b[0;32m--> 165\u001b[0m     \u001b[38;5;28;01mraise\u001b[39;00m \u001b[38;5;167;01mValueError\u001b[39;00m\n\u001b[1;32m    166\u001b[0m \u001b[38;5;28;01mreturn\u001b[39;00m \u001b[38;5;28mnext\u001b[39m(\u001b[38;5;28miter\u001b[39m(dim_lengths_set))\n",
      "\u001b[0;31mValueError\u001b[0m: ",
      "\nDuring handling of the above exception, another exception occurred:\n",
      "\u001b[0;31mValueError\u001b[0m                                Traceback (most recent call last)",
      "Cell \u001b[0;32mIn[6], line 10\u001b[0m\n\u001b[1;32m      7\u001b[0m     year_effect \u001b[38;5;241m=\u001b[39m pm\u001b[38;5;241m.\u001b[39mLaplace(\u001b[38;5;124m'\u001b[39m\u001b[38;5;124myear_effect\u001b[39m\u001b[38;5;124m'\u001b[39m, mu\u001b[38;5;241m=\u001b[39m\u001b[38;5;241m0\u001b[39m, b\u001b[38;5;241m=\u001b[39m\u001b[38;5;241m1\u001b[39m, shape\u001b[38;5;241m=\u001b[39m\u001b[38;5;28mlen\u001b[39m(df[\u001b[38;5;124m'\u001b[39m\u001b[38;5;124myear\u001b[39m\u001b[38;5;124m'\u001b[39m]\u001b[38;5;241m.\u001b[39munique()))\n\u001b[1;32m      9\u001b[0m     \u001b[38;5;66;03m# likelihood\u001b[39;00m\n\u001b[0;32m---> 10\u001b[0m     mu \u001b[38;5;241m=\u001b[39m alpha \u001b[38;5;241m+\u001b[39m island_effect[df[\u001b[38;5;124m'\u001b[39m\u001b[38;5;124misland_ids\u001b[39m\u001b[38;5;124m'\u001b[39m]] \u001b[38;5;241m+\u001b[39m \u001b[43myear_effect\u001b[49m\u001b[43m \u001b[49m\u001b[38;5;241;43m*\u001b[39;49m\u001b[43m \u001b[49m\u001b[43mdf\u001b[49m\u001b[43m[\u001b[49m\u001b[38;5;124;43m'\u001b[39;49m\u001b[38;5;124;43myear\u001b[39;49m\u001b[38;5;124;43m'\u001b[39;49m\u001b[43m]\u001b[49m\n\u001b[1;32m     12\u001b[0m     y \u001b[38;5;241m=\u001b[39m pm\u001b[38;5;241m.\u001b[39mNormal(\u001b[38;5;124m'\u001b[39m\u001b[38;5;124my\u001b[39m\u001b[38;5;124m'\u001b[39m, mu\u001b[38;5;241m=\u001b[39mmu, sigma\u001b[38;5;241m=\u001b[39msigma, observed\u001b[38;5;241m=\u001b[39mdf[\u001b[38;5;124m'\u001b[39m\u001b[38;5;124mlog_pop\u001b[39m\u001b[38;5;124m'\u001b[39m])\n\u001b[1;32m     14\u001b[0m pm\u001b[38;5;241m.\u001b[39mmodel_to_graphviz(model)\n",
      "File \u001b[0;32m~/data-analysis/bridge-treatment-effects/.venv/lib/python3.12/site-packages/pytensor/tensor/variable.py:133\u001b[0m, in \u001b[0;36m_tensor_py_operators.__mul__\u001b[0;34m(self, other)\u001b[0m\n\u001b[1;32m    129\u001b[0m \u001b[38;5;28;01mdef\u001b[39;00m \u001b[38;5;21m__mul__\u001b[39m(\u001b[38;5;28mself\u001b[39m, other):\n\u001b[1;32m    130\u001b[0m     \u001b[38;5;66;03m# See explanation in __add__ for the error caught\u001b[39;00m\n\u001b[1;32m    131\u001b[0m     \u001b[38;5;66;03m# and the return value in that case\u001b[39;00m\n\u001b[1;32m    132\u001b[0m     \u001b[38;5;28;01mtry\u001b[39;00m:\n\u001b[0;32m--> 133\u001b[0m         \u001b[38;5;28;01mreturn\u001b[39;00m \u001b[43mpt\u001b[49m\u001b[38;5;241;43m.\u001b[39;49m\u001b[43mmath\u001b[49m\u001b[38;5;241;43m.\u001b[39;49m\u001b[43mmul\u001b[49m\u001b[43m(\u001b[49m\u001b[38;5;28;43mself\u001b[39;49m\u001b[43m,\u001b[49m\u001b[43m \u001b[49m\u001b[43mother\u001b[49m\u001b[43m)\u001b[49m\n\u001b[1;32m    134\u001b[0m     \u001b[38;5;28;01mexcept\u001b[39;00m (\u001b[38;5;167;01mNotImplementedError\u001b[39;00m, \u001b[38;5;167;01mTypeError\u001b[39;00m):\n\u001b[1;32m    135\u001b[0m         \u001b[38;5;28;01mreturn\u001b[39;00m \u001b[38;5;28mNotImplemented\u001b[39m\n",
      "File \u001b[0;32m~/data-analysis/bridge-treatment-effects/.venv/lib/python3.12/site-packages/pytensor/graph/op.py:293\u001b[0m, in \u001b[0;36mOp.__call__\u001b[0;34m(self, name, return_list, *inputs, **kwargs)\u001b[0m\n\u001b[1;32m    249\u001b[0m \u001b[38;5;28;01mdef\u001b[39;00m \u001b[38;5;21m__call__\u001b[39m(\n\u001b[1;32m    250\u001b[0m     \u001b[38;5;28mself\u001b[39m, \u001b[38;5;241m*\u001b[39minputs: Any, name\u001b[38;5;241m=\u001b[39m\u001b[38;5;28;01mNone\u001b[39;00m, return_list\u001b[38;5;241m=\u001b[39m\u001b[38;5;28;01mFalse\u001b[39;00m, \u001b[38;5;241m*\u001b[39m\u001b[38;5;241m*\u001b[39mkwargs\n\u001b[1;32m    251\u001b[0m ) \u001b[38;5;241m-\u001b[39m\u001b[38;5;241m>\u001b[39m Variable \u001b[38;5;241m|\u001b[39m \u001b[38;5;28mlist\u001b[39m[Variable]:\n\u001b[1;32m    252\u001b[0m \u001b[38;5;250m    \u001b[39m\u001b[38;5;124mr\u001b[39m\u001b[38;5;124;03m\"\"\"Construct an `Apply` node using :meth:`Op.make_node` and return its outputs.\u001b[39;00m\n\u001b[1;32m    253\u001b[0m \n\u001b[1;32m    254\u001b[0m \u001b[38;5;124;03m    This method is just a wrapper around :meth:`Op.make_node`.\u001b[39;00m\n\u001b[0;32m   (...)\u001b[0m\n\u001b[1;32m    291\u001b[0m \n\u001b[1;32m    292\u001b[0m \u001b[38;5;124;03m    \"\"\"\u001b[39;00m\n\u001b[0;32m--> 293\u001b[0m     node \u001b[38;5;241m=\u001b[39m \u001b[38;5;28;43mself\u001b[39;49m\u001b[38;5;241;43m.\u001b[39;49m\u001b[43mmake_node\u001b[49m\u001b[43m(\u001b[49m\u001b[38;5;241;43m*\u001b[39;49m\u001b[43minputs\u001b[49m\u001b[43m,\u001b[49m\u001b[43m \u001b[49m\u001b[38;5;241;43m*\u001b[39;49m\u001b[38;5;241;43m*\u001b[39;49m\u001b[43mkwargs\u001b[49m\u001b[43m)\u001b[49m\n\u001b[1;32m    294\u001b[0m     \u001b[38;5;28;01mif\u001b[39;00m name \u001b[38;5;129;01mis\u001b[39;00m \u001b[38;5;129;01mnot\u001b[39;00m \u001b[38;5;28;01mNone\u001b[39;00m:\n\u001b[1;32m    295\u001b[0m         \u001b[38;5;28;01mif\u001b[39;00m \u001b[38;5;28mlen\u001b[39m(node\u001b[38;5;241m.\u001b[39moutputs) \u001b[38;5;241m==\u001b[39m \u001b[38;5;241m1\u001b[39m:\n",
      "File \u001b[0;32m~/data-analysis/bridge-treatment-effects/.venv/lib/python3.12/site-packages/pytensor/tensor/elemwise.py:462\u001b[0m, in \u001b[0;36mElemwise.make_node\u001b[0;34m(self, *inputs)\u001b[0m\n\u001b[1;32m    456\u001b[0m \u001b[38;5;250m\u001b[39m\u001b[38;5;124;03m\"\"\"\u001b[39;00m\n\u001b[1;32m    457\u001b[0m \u001b[38;5;124;03mIf the inputs have different number of dimensions, their shape\u001b[39;00m\n\u001b[1;32m    458\u001b[0m \u001b[38;5;124;03mis left-completed to the greatest number of dimensions with 1s\u001b[39;00m\n\u001b[1;32m    459\u001b[0m \u001b[38;5;124;03musing DimShuffle.\u001b[39;00m\n\u001b[1;32m    460\u001b[0m \u001b[38;5;124;03m\"\"\"\u001b[39;00m\n\u001b[1;32m    461\u001b[0m inputs \u001b[38;5;241m=\u001b[39m [as_tensor_variable(i) \u001b[38;5;28;01mfor\u001b[39;00m i \u001b[38;5;129;01min\u001b[39;00m inputs]\n\u001b[0;32m--> 462\u001b[0m out_dtypes, out_shapes, inputs \u001b[38;5;241m=\u001b[39m \u001b[38;5;28;43mself\u001b[39;49m\u001b[38;5;241;43m.\u001b[39;49m\u001b[43mget_output_info\u001b[49m\u001b[43m(\u001b[49m\u001b[38;5;241;43m*\u001b[39;49m\u001b[43minputs\u001b[49m\u001b[43m)\u001b[49m\n\u001b[1;32m    463\u001b[0m outputs \u001b[38;5;241m=\u001b[39m [\n\u001b[1;32m    464\u001b[0m     TensorType(dtype\u001b[38;5;241m=\u001b[39mdtype, shape\u001b[38;5;241m=\u001b[39mshape)()\n\u001b[1;32m    465\u001b[0m     \u001b[38;5;28;01mfor\u001b[39;00m dtype, shape \u001b[38;5;129;01min\u001b[39;00m \u001b[38;5;28mzip\u001b[39m(out_dtypes, out_shapes, strict\u001b[38;5;241m=\u001b[39m\u001b[38;5;28;01mTrue\u001b[39;00m)\n\u001b[1;32m    466\u001b[0m ]\n\u001b[1;32m    467\u001b[0m \u001b[38;5;28;01mreturn\u001b[39;00m Apply(\u001b[38;5;28mself\u001b[39m, inputs, outputs)\n",
      "File \u001b[0;32m~/data-analysis/bridge-treatment-effects/.venv/lib/python3.12/site-packages/pytensor/tensor/elemwise.py:425\u001b[0m, in \u001b[0;36mElemwise.get_output_info\u001b[0;34m(self, *inputs)\u001b[0m\n\u001b[1;32m    418\u001b[0m     out_shapes \u001b[38;5;241m=\u001b[39m [\n\u001b[1;32m    419\u001b[0m         [\n\u001b[1;32m    420\u001b[0m             broadcast_static_dim_lengths(shape)\n\u001b[1;32m    421\u001b[0m             \u001b[38;5;28;01mfor\u001b[39;00m shape \u001b[38;5;129;01min\u001b[39;00m \u001b[38;5;28mzip\u001b[39m(\u001b[38;5;241m*\u001b[39m[inp\u001b[38;5;241m.\u001b[39mtype\u001b[38;5;241m.\u001b[39mshape \u001b[38;5;28;01mfor\u001b[39;00m inp \u001b[38;5;129;01min\u001b[39;00m inputs], strict\u001b[38;5;241m=\u001b[39m\u001b[38;5;28;01mTrue\u001b[39;00m)\n\u001b[1;32m    422\u001b[0m         ]\n\u001b[1;32m    423\u001b[0m     ] \u001b[38;5;241m*\u001b[39m shadow\u001b[38;5;241m.\u001b[39mnout\n\u001b[1;32m    424\u001b[0m \u001b[38;5;28;01mexcept\u001b[39;00m \u001b[38;5;167;01mValueError\u001b[39;00m:\n\u001b[0;32m--> 425\u001b[0m     \u001b[38;5;28;01mraise\u001b[39;00m \u001b[38;5;167;01mValueError\u001b[39;00m(\n\u001b[1;32m    426\u001b[0m         \u001b[38;5;124mf\u001b[39m\u001b[38;5;124m\"\u001b[39m\u001b[38;5;124mIncompatible Elemwise input shapes \u001b[39m\u001b[38;5;132;01m{\u001b[39;00m[inp\u001b[38;5;241m.\u001b[39mtype\u001b[38;5;241m.\u001b[39mshape\u001b[38;5;250m \u001b[39m\u001b[38;5;28;01mfor\u001b[39;00m\u001b[38;5;250m \u001b[39minp\u001b[38;5;250m \u001b[39m\u001b[38;5;129;01min\u001b[39;00m\u001b[38;5;250m \u001b[39minputs]\u001b[38;5;132;01m}\u001b[39;00m\u001b[38;5;124m\"\u001b[39m\n\u001b[1;32m    427\u001b[0m     )\n\u001b[1;32m    429\u001b[0m \u001b[38;5;66;03m# inplace_pattern maps output idx -> input idx\u001b[39;00m\n\u001b[1;32m    430\u001b[0m inplace_pattern \u001b[38;5;241m=\u001b[39m \u001b[38;5;28mself\u001b[39m\u001b[38;5;241m.\u001b[39minplace_pattern\n",
      "\u001b[0;31mValueError\u001b[0m: Incompatible Elemwise input shapes [(29,), (1707,)]"
     ]
    }
   ],
   "source": [
    "with pm.Model() as model:\n",
    "    # prior\n",
    "    alpha = pm.Laplace('alpha', mu=0, b=1)\n",
    "    # beta = pm.Laplace('beta', mu=0, b=1)\n",
    "    sigma = pm.HalfCauchy('sigma', beta=1)\n",
    "    island_effect = pm.Laplace('island_effect', mu=0, b=1, shape=len(df['island_ids'].unique()))\n",
    "    year_effect = pm.Laplace('year_effect', mu=0, b=1, shape=len(df['year'].unique()))\n",
    "\n",
    "    # likelihood\n",
    "    mu = alpha + island_effect[df['island_ids']] + year_effect * df['year']\n",
    "\n",
    "    y = pm.Normal('y', mu=mu, sigma=sigma, observed=df['log_pop'])\n",
    "\n",
    "pm.model_to_graphviz(model)"
   ]
  }
 ],
 "metadata": {
  "kernelspec": {
   "display_name": ".venv",
   "language": "python",
   "name": "python3"
  },
  "language_info": {
   "codemirror_mode": {
    "name": "ipython",
    "version": 3
   },
   "file_extension": ".py",
   "mimetype": "text/x-python",
   "name": "python",
   "nbconvert_exporter": "python",
   "pygments_lexer": "ipython3",
   "version": "3.12.6"
  }
 },
 "nbformat": 4,
 "nbformat_minor": 2
}
