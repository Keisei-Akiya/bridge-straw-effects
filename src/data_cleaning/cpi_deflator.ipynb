{
 "cells": [
  {
   "cell_type": "markdown",
   "metadata": {},
   "source": [
    "# 課税所得をデフレートする"
   ]
  },
  {
   "cell_type": "code",
   "execution_count": 65,
   "metadata": {},
   "outputs": [],
   "source": [
    "import pandas as pd\n",
    "import numpy as np\n",
    "import openpyxl\n",
    "\n",
    "filepath = '../../data/raw/df.xlsx'\n",
    "filepath2 = '../../data/raw/JPNCPIALLAINMEI.xlsx'\n",
    "df = pd.read_excel(filepath)\n",
    "df_cpi = pd.read_excel(filepath2)\n",
    "df_cpi['year'] = df_cpi['observation_date'].dt.year"
   ]
  },
  {
   "cell_type": "code",
   "execution_count": 67,
   "metadata": {},
   "outputs": [
    {
     "name": "stdout",
     "output_type": "stream",
     "text": [
      "island                                 object\n",
      "year                                    int64\n",
      "island_id                               int64\n",
      "region_code                             int64\n",
      "region_name                            object\n",
      "prefecture_code                         int64\n",
      "prefecture_code.1                      object\n",
      "population                            float64\n",
      "dummy_island_has_bridge                 int64\n",
      "dummy_island_is_connected_mainland      int64\n",
      "year_bridge_opened                      int64\n",
      "dummy_after_bridge_opened               int64\n",
      "year_connect_mainland                   int64\n",
      "dummy_after_connect_mainland            int64\n",
      "income                                float64\n",
      "dtype: object\n",
      "---\n",
      "observation_date    datetime64[ns]\n",
      "JPNCPIALLAINMEI            float64\n",
      "year                         int32\n",
      "dtype: object\n"
     ]
    }
   ],
   "source": [
    "print(df.dtypes)\n",
    "print('---')\n",
    "print(df_cpi.dtypes)"
   ]
  },
  {
   "cell_type": "code",
   "execution_count": 77,
   "metadata": {},
   "outputs": [],
   "source": [
    "merged_df = pd.merge(df, df_cpi[['year', 'JPNCPIALLAINMEI']], on='year', how='left')"
   ]
  },
  {
   "cell_type": "code",
   "execution_count": 78,
   "metadata": {},
   "outputs": [],
   "source": [
    "merged_df['nominal_income'] = merged_df['income']"
   ]
  },
  {
   "cell_type": "code",
   "execution_count": 79,
   "metadata": {},
   "outputs": [],
   "source": [
    "merged_df['income'] = merged_df['nominal_income'] / merged_df['JPNCPIALLAINMEI']"
   ]
  },
  {
   "cell_type": "code",
   "execution_count": 81,
   "metadata": {},
   "outputs": [
    {
     "data": {
      "text/html": [
       "<div>\n",
       "<style scoped>\n",
       "    .dataframe tbody tr th:only-of-type {\n",
       "        vertical-align: middle;\n",
       "    }\n",
       "\n",
       "    .dataframe tbody tr th {\n",
       "        vertical-align: top;\n",
       "    }\n",
       "\n",
       "    .dataframe thead th {\n",
       "        text-align: right;\n",
       "    }\n",
       "</style>\n",
       "<table border=\"1\" class=\"dataframe\">\n",
       "  <thead>\n",
       "    <tr style=\"text-align: right;\">\n",
       "      <th></th>\n",
       "      <th>income</th>\n",
       "      <th>nominal_income</th>\n",
       "    </tr>\n",
       "  </thead>\n",
       "  <tbody>\n",
       "    <tr>\n",
       "      <th>0</th>\n",
       "      <td>NaN</td>\n",
       "      <td>NaN</td>\n",
       "    </tr>\n",
       "    <tr>\n",
       "      <th>1</th>\n",
       "      <td>NaN</td>\n",
       "      <td>NaN</td>\n",
       "    </tr>\n",
       "    <tr>\n",
       "      <th>2</th>\n",
       "      <td>NaN</td>\n",
       "      <td>NaN</td>\n",
       "    </tr>\n",
       "    <tr>\n",
       "      <th>3</th>\n",
       "      <td>NaN</td>\n",
       "      <td>NaN</td>\n",
       "    </tr>\n",
       "    <tr>\n",
       "      <th>4</th>\n",
       "      <td>NaN</td>\n",
       "      <td>NaN</td>\n",
       "    </tr>\n",
       "    <tr>\n",
       "      <th>...</th>\n",
       "      <td>...</td>\n",
       "      <td>...</td>\n",
       "    </tr>\n",
       "    <tr>\n",
       "      <th>3331</th>\n",
       "      <td>194184.759525</td>\n",
       "      <td>19393764.0</td>\n",
       "    </tr>\n",
       "    <tr>\n",
       "      <th>3332</th>\n",
       "      <td>196670.831826</td>\n",
       "      <td>19737157.0</td>\n",
       "    </tr>\n",
       "    <tr>\n",
       "      <th>3333</th>\n",
       "      <td>200639.405065</td>\n",
       "      <td>20334583.0</td>\n",
       "    </tr>\n",
       "    <tr>\n",
       "      <th>3334</th>\n",
       "      <td>205947.036062</td>\n",
       "      <td>20970351.0</td>\n",
       "    </tr>\n",
       "    <tr>\n",
       "      <th>3335</th>\n",
       "      <td>204141.844780</td>\n",
       "      <td>20781354.0</td>\n",
       "    </tr>\n",
       "  </tbody>\n",
       "</table>\n",
       "<p>3336 rows × 2 columns</p>\n",
       "</div>"
      ],
      "text/plain": [
       "             income  nominal_income\n",
       "0               NaN             NaN\n",
       "1               NaN             NaN\n",
       "2               NaN             NaN\n",
       "3               NaN             NaN\n",
       "4               NaN             NaN\n",
       "...             ...             ...\n",
       "3331  194184.759525      19393764.0\n",
       "3332  196670.831826      19737157.0\n",
       "3333  200639.405065      20334583.0\n",
       "3334  205947.036062      20970351.0\n",
       "3335  204141.844780      20781354.0\n",
       "\n",
       "[3336 rows x 2 columns]"
      ]
     },
     "execution_count": 81,
     "metadata": {},
     "output_type": "execute_result"
    }
   ],
   "source": [
    "merged_df[['income', 'nominal_income']]"
   ]
  },
  {
   "cell_type": "code",
   "execution_count": 82,
   "metadata": {},
   "outputs": [],
   "source": [
    "merged_df.to_excel('../../data/processed/df_with_cpi.xlsx', index=False)"
   ]
  }
 ],
 "metadata": {
  "kernelspec": {
   "display_name": ".venv",
   "language": "python",
   "name": "python3"
  },
  "language_info": {
   "codemirror_mode": {
    "name": "ipython",
    "version": 3
   },
   "file_extension": ".py",
   "mimetype": "text/x-python",
   "name": "python",
   "nbconvert_exporter": "python",
   "pygments_lexer": "ipython3",
   "version": "3.10.15"
  }
 },
 "nbformat": 4,
 "nbformat_minor": 2
}
