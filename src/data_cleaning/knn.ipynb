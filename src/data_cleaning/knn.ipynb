{
 "cells": [
  {
   "cell_type": "markdown",
   "metadata": {},
   "source": [
    "# K近傍法により欠損値を補完する"
   ]
  },
  {
   "cell_type": "code",
   "execution_count": 23,
   "metadata": {},
   "outputs": [],
   "source": [
    "import pandas as pd\n",
    "import numpy as np\n",
    "import matplotlib.pyplot as plt\n",
    "import seaborn as sns\n",
    "from sklearn.impute import KNNImputer"
   ]
  },
  {
   "cell_type": "code",
   "execution_count": 24,
   "metadata": {},
   "outputs": [],
   "source": [
    "filepath = '../../data/processed/df_filtered_5years.xlsx'\n",
    "df = pd.read_excel(filepath)\n",
    "df = df[df['year'] >= 1995]"
   ]
  },
  {
   "cell_type": "code",
   "execution_count": 25,
   "metadata": {},
   "outputs": [],
   "source": [
    "pivoted_df = df.pivot(index='year', columns='island_id', values=['population', 'dummy_after_bridge_opened', 'income'])"
   ]
  },
  {
   "cell_type": "code",
   "execution_count": 26,
   "metadata": {},
   "outputs": [
    {
     "name": "stdout",
     "output_type": "stream",
     "text": [
      "MultiIndex([], names=[None, 'island_id'])\n"
     ]
    }
   ],
   "source": [
    "missing_all_years = pivoted_df.columns[pivoted_df.isnull().all(axis=0)]\n",
    "print(missing_all_years)"
   ]
  },
  {
   "cell_type": "code",
   "execution_count": 27,
   "metadata": {},
   "outputs": [
    {
     "name": "stdout",
     "output_type": "stream",
     "text": [
      "(6, 462)\n",
      "(6, 462)\n"
     ]
    }
   ],
   "source": [
    "# Step 4: Apply KNNImputer\n",
    "imputer = KNNImputer(n_neighbors=2)\n",
    "imputed_data = imputer.fit_transform(pivoted_df)\n",
    "\n",
    "print(pivoted_df.shape)\n",
    "print(imputed_data.shape)"
   ]
  },
  {
   "cell_type": "code",
   "execution_count": 30,
   "metadata": {},
   "outputs": [
    {
     "data": {
      "text/html": [
       "<div>\n",
       "<style scoped>\n",
       "    .dataframe tbody tr th:only-of-type {\n",
       "        vertical-align: middle;\n",
       "    }\n",
       "\n",
       "    .dataframe tbody tr th {\n",
       "        vertical-align: top;\n",
       "    }\n",
       "\n",
       "    .dataframe thead th {\n",
       "        text-align: right;\n",
       "    }\n",
       "</style>\n",
       "<table border=\"1\" class=\"dataframe\">\n",
       "  <thead>\n",
       "    <tr style=\"text-align: right;\">\n",
       "      <th>island_id</th>\n",
       "      <th>0</th>\n",
       "      <th>1</th>\n",
       "      <th>2</th>\n",
       "      <th>3</th>\n",
       "      <th>4</th>\n",
       "      <th>6</th>\n",
       "      <th>7</th>\n",
       "      <th>8</th>\n",
       "      <th>9</th>\n",
       "      <th>10</th>\n",
       "      <th>...</th>\n",
       "      <th>153</th>\n",
       "      <th>154</th>\n",
       "      <th>155</th>\n",
       "      <th>156</th>\n",
       "      <th>157</th>\n",
       "      <th>158</th>\n",
       "      <th>160</th>\n",
       "      <th>161</th>\n",
       "      <th>162</th>\n",
       "      <th>163</th>\n",
       "    </tr>\n",
       "    <tr>\n",
       "      <th>year</th>\n",
       "      <th></th>\n",
       "      <th></th>\n",
       "      <th></th>\n",
       "      <th></th>\n",
       "      <th></th>\n",
       "      <th></th>\n",
       "      <th></th>\n",
       "      <th></th>\n",
       "      <th></th>\n",
       "      <th></th>\n",
       "      <th></th>\n",
       "      <th></th>\n",
       "      <th></th>\n",
       "      <th></th>\n",
       "      <th></th>\n",
       "      <th></th>\n",
       "      <th></th>\n",
       "      <th></th>\n",
       "      <th></th>\n",
       "      <th></th>\n",
       "      <th></th>\n",
       "    </tr>\n",
       "  </thead>\n",
       "  <tbody>\n",
       "    <tr>\n",
       "      <th>1995</th>\n",
       "      <td>15415.5</td>\n",
       "      <td>2857.0</td>\n",
       "      <td>4048.0</td>\n",
       "      <td>802.0</td>\n",
       "      <td>4597.0</td>\n",
       "      <td>45.0</td>\n",
       "      <td>154.0</td>\n",
       "      <td>550.0</td>\n",
       "      <td>51.0</td>\n",
       "      <td>1432.0</td>\n",
       "      <td>...</td>\n",
       "      <td>998.0</td>\n",
       "      <td>117.0</td>\n",
       "      <td>379.0</td>\n",
       "      <td>394.5</td>\n",
       "      <td>44.5</td>\n",
       "      <td>62.0</td>\n",
       "      <td>370.5</td>\n",
       "      <td>502.0</td>\n",
       "      <td>48.5</td>\n",
       "      <td>214.5</td>\n",
       "    </tr>\n",
       "    <tr>\n",
       "      <th>2000</th>\n",
       "      <td>15415.5</td>\n",
       "      <td>2672.0</td>\n",
       "      <td>3804.0</td>\n",
       "      <td>718.0</td>\n",
       "      <td>4583.0</td>\n",
       "      <td>28.5</td>\n",
       "      <td>136.0</td>\n",
       "      <td>475.5</td>\n",
       "      <td>47.0</td>\n",
       "      <td>1077.0</td>\n",
       "      <td>...</td>\n",
       "      <td>998.0</td>\n",
       "      <td>117.0</td>\n",
       "      <td>379.0</td>\n",
       "      <td>394.5</td>\n",
       "      <td>44.5</td>\n",
       "      <td>62.0</td>\n",
       "      <td>370.5</td>\n",
       "      <td>502.0</td>\n",
       "      <td>48.5</td>\n",
       "      <td>214.5</td>\n",
       "    </tr>\n",
       "    <tr>\n",
       "      <th>2005</th>\n",
       "      <td>17259.0</td>\n",
       "      <td>2406.0</td>\n",
       "      <td>3607.0</td>\n",
       "      <td>744.0</td>\n",
       "      <td>3957.0</td>\n",
       "      <td>13.0</td>\n",
       "      <td>145.0</td>\n",
       "      <td>463.0</td>\n",
       "      <td>40.0</td>\n",
       "      <td>425.0</td>\n",
       "      <td>...</td>\n",
       "      <td>1234.0</td>\n",
       "      <td>182.0</td>\n",
       "      <td>473.0</td>\n",
       "      <td>494.0</td>\n",
       "      <td>67.0</td>\n",
       "      <td>62.0</td>\n",
       "      <td>370.5</td>\n",
       "      <td>502.0</td>\n",
       "      <td>59.0</td>\n",
       "      <td>284.0</td>\n",
       "    </tr>\n",
       "    <tr>\n",
       "      <th>2010</th>\n",
       "      <td>15930.0</td>\n",
       "      <td>2378.0</td>\n",
       "      <td>3238.0</td>\n",
       "      <td>640.0</td>\n",
       "      <td>4072.0</td>\n",
       "      <td>12.0</td>\n",
       "      <td>118.0</td>\n",
       "      <td>401.0</td>\n",
       "      <td>43.0</td>\n",
       "      <td>425.0</td>\n",
       "      <td>...</td>\n",
       "      <td>1067.0</td>\n",
       "      <td>134.0</td>\n",
       "      <td>414.0</td>\n",
       "      <td>422.0</td>\n",
       "      <td>56.0</td>\n",
       "      <td>62.0</td>\n",
       "      <td>457.0</td>\n",
       "      <td>575.0</td>\n",
       "      <td>54.0</td>\n",
       "      <td>239.0</td>\n",
       "    </tr>\n",
       "    <tr>\n",
       "      <th>2015</th>\n",
       "      <td>14901.0</td>\n",
       "      <td>2304.0</td>\n",
       "      <td>3017.0</td>\n",
       "      <td>586.0</td>\n",
       "      <td>3842.0</td>\n",
       "      <td>10.0</td>\n",
       "      <td>102.0</td>\n",
       "      <td>404.0</td>\n",
       "      <td>56.0</td>\n",
       "      <td>486.0</td>\n",
       "      <td>...</td>\n",
       "      <td>929.0</td>\n",
       "      <td>100.0</td>\n",
       "      <td>344.0</td>\n",
       "      <td>367.0</td>\n",
       "      <td>33.0</td>\n",
       "      <td>67.0</td>\n",
       "      <td>284.0</td>\n",
       "      <td>502.0</td>\n",
       "      <td>43.0</td>\n",
       "      <td>190.0</td>\n",
       "    </tr>\n",
       "    <tr>\n",
       "      <th>2020</th>\n",
       "      <td>13882.0</td>\n",
       "      <td>2184.0</td>\n",
       "      <td>2758.0</td>\n",
       "      <td>632.0</td>\n",
       "      <td>3793.0</td>\n",
       "      <td>11.0</td>\n",
       "      <td>82.0</td>\n",
       "      <td>362.0</td>\n",
       "      <td>58.0</td>\n",
       "      <td>364.0</td>\n",
       "      <td>...</td>\n",
       "      <td>729.0</td>\n",
       "      <td>71.0</td>\n",
       "      <td>263.0</td>\n",
       "      <td>302.0</td>\n",
       "      <td>24.0</td>\n",
       "      <td>57.0</td>\n",
       "      <td>225.0</td>\n",
       "      <td>429.0</td>\n",
       "      <td>38.0</td>\n",
       "      <td>150.0</td>\n",
       "    </tr>\n",
       "  </tbody>\n",
       "</table>\n",
       "<p>6 rows × 154 columns</p>\n",
       "</div>"
      ],
      "text/plain": [
       "island_id      0       1       2      3       4     6      7      8     9    \\\n",
       "year                                                                          \n",
       "1995       15415.5  2857.0  4048.0  802.0  4597.0  45.0  154.0  550.0  51.0   \n",
       "2000       15415.5  2672.0  3804.0  718.0  4583.0  28.5  136.0  475.5  47.0   \n",
       "2005       17259.0  2406.0  3607.0  744.0  3957.0  13.0  145.0  463.0  40.0   \n",
       "2010       15930.0  2378.0  3238.0  640.0  4072.0  12.0  118.0  401.0  43.0   \n",
       "2015       14901.0  2304.0  3017.0  586.0  3842.0  10.0  102.0  404.0  56.0   \n",
       "2020       13882.0  2184.0  2758.0  632.0  3793.0  11.0   82.0  362.0  58.0   \n",
       "\n",
       "island_id     10   ...     153    154    155    156   157   158    160    161  \\\n",
       "year               ...                                                          \n",
       "1995       1432.0  ...   998.0  117.0  379.0  394.5  44.5  62.0  370.5  502.0   \n",
       "2000       1077.0  ...   998.0  117.0  379.0  394.5  44.5  62.0  370.5  502.0   \n",
       "2005        425.0  ...  1234.0  182.0  473.0  494.0  67.0  62.0  370.5  502.0   \n",
       "2010        425.0  ...  1067.0  134.0  414.0  422.0  56.0  62.0  457.0  575.0   \n",
       "2015        486.0  ...   929.0  100.0  344.0  367.0  33.0  67.0  284.0  502.0   \n",
       "2020        364.0  ...   729.0   71.0  263.0  302.0  24.0  57.0  225.0  429.0   \n",
       "\n",
       "island_id   162    163  \n",
       "year                    \n",
       "1995       48.5  214.5  \n",
       "2000       48.5  214.5  \n",
       "2005       59.0  284.0  \n",
       "2010       54.0  239.0  \n",
       "2015       43.0  190.0  \n",
       "2020       38.0  150.0  \n",
       "\n",
       "[6 rows x 154 columns]"
      ]
     },
     "execution_count": 30,
     "metadata": {},
     "output_type": "execute_result"
    }
   ],
   "source": [
    "# Step 5: Convert back to dataframe\n",
    "imputed_df = pd.DataFrame(imputed_data, columns=pivoted_df.columns, index=pivoted_df.index)\n",
    "\n",
    "imputed_df['population']"
   ]
  },
  {
   "cell_type": "markdown",
   "metadata": {},
   "source": [
    "## 1次元に直す"
   ]
  },
  {
   "cell_type": "code",
   "execution_count": 33,
   "metadata": {},
   "outputs": [
    {
     "name": "stderr",
     "output_type": "stream",
     "text": [
      "/tmp/ipykernel_21576/2703791754.py:1: FutureWarning: The previous implementation of stack is deprecated and will be removed in a future version of pandas. See the What's New notes for pandas 2.1.0 for details. Specify future_stack=True to adopt the new implementation and silence this warning.\n",
      "  imputed_df = imputed_df.stack(level=1).reset_index()\n"
     ]
    }
   ],
   "source": [
    "imputed_df = imputed_df.stack(level=1).reset_index()"
   ]
  },
  {
   "cell_type": "markdown",
   "metadata": {},
   "source": [
    "## 保存"
   ]
  },
  {
   "cell_type": "code",
   "execution_count": 35,
   "metadata": {},
   "outputs": [],
   "source": [
    "output_filepath = '../../data/processed/imputed_df.xlsx'\n",
    "imputed_df.to_excel(output_filepath, index=False)"
   ]
  }
 ],
 "metadata": {
  "kernelspec": {
   "display_name": ".venv",
   "language": "python",
   "name": "python3"
  },
  "language_info": {
   "codemirror_mode": {
    "name": "ipython",
    "version": 3
   },
   "file_extension": ".py",
   "mimetype": "text/x-python",
   "name": "python",
   "nbconvert_exporter": "python",
   "pygments_lexer": "ipython3",
   "version": "3.10.15"
  }
 },
 "nbformat": 4,
 "nbformat_minor": 2
}
