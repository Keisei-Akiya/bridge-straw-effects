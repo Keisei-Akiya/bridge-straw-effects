{
 "cells": [
  {
   "cell_type": "markdown",
   "metadata": {},
   "source": [
    "# 既に介入を受けている島を除く．"
   ]
  },
  {
   "cell_type": "code",
   "execution_count": 57,
   "metadata": {},
   "outputs": [],
   "source": [
    "import pandas as pd\n",
    "import numpy as np"
   ]
  },
  {
   "cell_type": "code",
   "execution_count": 58,
   "metadata": {},
   "outputs": [],
   "source": [
    "path = '../../data/raw/df.xlsx'\n",
    "df = pd.read_excel(path)"
   ]
  },
  {
   "cell_type": "markdown",
   "metadata": {},
   "source": [
    "処置群の条件\n",
    "\n",
    "1. treatment_group == 1\n",
    "2. after_treatment == 0\n",
    "3. populaiton != NaN\n",
    "\n",
    "対照群の条件はなし．"
   ]
  },
  {
   "cell_type": "code",
   "execution_count": 59,
   "metadata": {},
   "outputs": [],
   "source": [
    "adopt = df['island_ids'][\n",
    "    ((df['treatment_group'] == 1)\n",
    "    & (df['after_treatment'] == 0)\n",
    "    & (df['population'].notnull()))\n",
    "    | (df['treatment_group'] == 0)\n",
    "    ].unique()"
   ]
  },
  {
   "cell_type": "code",
   "execution_count": 60,
   "metadata": {},
   "outputs": [
    {
     "data": {
      "text/plain": [
       "array([ 62,  63,  64,  65,  66,  67,  68,  69,  70,  71,  73,  76,  77,\n",
       "        78,  79,  80,  81,  82,  83,  84,  85,  86,  87,  88,  90,  93,\n",
       "        94,  95,  97,  98,  99, 100, 101, 102, 103, 104, 105, 106, 107,\n",
       "       108, 109, 110, 112, 113, 114, 115, 117, 118, 119, 120, 122, 123,\n",
       "       124, 125, 126, 127, 128, 129, 130, 131, 133, 134, 135, 136, 137,\n",
       "       140, 142, 146, 147, 148, 149, 150, 151, 152, 156, 158, 159, 161,\n",
       "       162, 163, 164, 165, 166, 167, 168, 169, 170, 171, 172, 173, 174,\n",
       "       175, 176, 177, 178, 179, 180, 181, 182, 183, 184, 185, 186, 187,\n",
       "       188, 189, 190, 192, 193, 194, 195, 196, 197, 198, 199, 200, 201,\n",
       "       202, 203, 205, 206, 207, 208, 209, 210, 211, 212, 213, 214, 215,\n",
       "       216, 217, 218, 219, 220, 221, 223, 224, 225])"
      ]
     },
     "execution_count": 60,
     "metadata": {},
     "output_type": "execute_result"
    }
   ],
   "source": [
    "adopt"
   ]
  },
  {
   "cell_type": "code",
   "execution_count": 61,
   "metadata": {},
   "outputs": [],
   "source": [
    "df_filtered = df[df['island_ids'].isin(adopt)]\n",
    "df_filtered = df_filtered[df_filtered['distance_m'] <= 2090]"
   ]
  },
  {
   "cell_type": "code",
   "execution_count": 62,
   "metadata": {},
   "outputs": [
    {
     "data": {
      "text/plain": [
       "array([ 66,  67,  68,  69,  70,  71,  73,  76,  77,  78,  79,  80,  88,\n",
       "        90,  93,  94,  95,  97,  99, 101, 103, 104, 105, 106, 108, 109,\n",
       "       110, 112, 113, 114, 115, 117, 118, 119, 125, 126, 128, 129, 130,\n",
       "       135, 136, 140, 146, 148, 156, 162, 163, 165, 166, 167, 170, 171,\n",
       "       172, 173, 174, 175, 182, 187, 188, 189, 190, 192, 193, 194, 195,\n",
       "       196, 197, 198, 199, 200, 201, 202, 206, 207, 215, 216, 217, 218,\n",
       "       221, 223])"
      ]
     },
     "execution_count": 62,
     "metadata": {},
     "output_type": "execute_result"
    }
   ],
   "source": [
    "df_filtered['island_ids'].unique()"
   ]
  },
  {
   "cell_type": "code",
   "execution_count": 63,
   "metadata": {},
   "outputs": [],
   "source": [
    "outpath = '../../data/processed/df_exclude_already_treated.xlsx'\n",
    "df_filtered.to_excel(outpath)"
   ]
  }
 ],
 "metadata": {
  "kernelspec": {
   "display_name": ".venv",
   "language": "python",
   "name": "python3"
  },
  "language_info": {
   "codemirror_mode": {
    "name": "ipython",
    "version": 3
   },
   "file_extension": ".py",
   "mimetype": "text/x-python",
   "name": "python",
   "nbconvert_exporter": "python",
   "pygments_lexer": "ipython3",
   "version": "3.12.6"
  }
 },
 "nbformat": 4,
 "nbformat_minor": 2
}
