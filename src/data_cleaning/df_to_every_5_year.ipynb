{
 "cells": [
  {
   "cell_type": "code",
   "execution_count": 15,
   "metadata": {},
   "outputs": [],
   "source": [
    "import pandas as pd\n",
    "import numpy as np\n",
    "import openpyxl\n",
    "import matplotlib.pyplot as plt\n",
    "import seaborn as sns"
   ]
  },
  {
   "cell_type": "code",
   "execution_count": 16,
   "metadata": {},
   "outputs": [],
   "source": [
    "filepats = \"../../data/raw/df.xlsx\"\n",
    "df = pd.read_excel(filepats, engine='openpyxl')\n",
    "df = df[df['year'] % 5 == 0]"
   ]
  },
  {
   "cell_type": "code",
   "execution_count": 17,
   "metadata": {},
   "outputs": [
    {
     "data": {
      "text/html": [
       "<div>\n",
       "<style scoped>\n",
       "    .dataframe tbody tr th:only-of-type {\n",
       "        vertical-align: middle;\n",
       "    }\n",
       "\n",
       "    .dataframe tbody tr th {\n",
       "        vertical-align: top;\n",
       "    }\n",
       "\n",
       "    .dataframe thead th {\n",
       "        text-align: right;\n",
       "    }\n",
       "</style>\n",
       "<table border=\"1\" class=\"dataframe\">\n",
       "  <thead>\n",
       "    <tr style=\"text-align: right;\">\n",
       "      <th></th>\n",
       "      <th>island</th>\n",
       "      <th>year</th>\n",
       "      <th>island_id</th>\n",
       "      <th>region_code</th>\n",
       "      <th>region</th>\n",
       "      <th>prefecture_code</th>\n",
       "      <th>pref</th>\n",
       "      <th>population</th>\n",
       "      <th>dummy_has_bridge</th>\n",
       "      <th>dummy_connect_mainland_by_bridge</th>\n",
       "      <th>bridge_opened_year</th>\n",
       "      <th>dummy_after_bridge_build</th>\n",
       "      <th>connect_mainland_year</th>\n",
       "      <th>dummy_after_connect_mainland</th>\n",
       "      <th>income</th>\n",
       "    </tr>\n",
       "  </thead>\n",
       "  <tbody>\n",
       "    <tr>\n",
       "      <th>4</th>\n",
       "      <td>島後</td>\n",
       "      <td>2005</td>\n",
       "      <td>0</td>\n",
       "      <td>32528.0</td>\n",
       "      <td>隠岐の島町</td>\n",
       "      <td>32</td>\n",
       "      <td>島根県</td>\n",
       "      <td>17259.0</td>\n",
       "      <td>0</td>\n",
       "      <td>0</td>\n",
       "      <td>0</td>\n",
       "      <td>0</td>\n",
       "      <td>0</td>\n",
       "      <td>0</td>\n",
       "      <td>19083931.0</td>\n",
       "    </tr>\n",
       "    <tr>\n",
       "      <th>9</th>\n",
       "      <td>島後</td>\n",
       "      <td>2010</td>\n",
       "      <td>0</td>\n",
       "      <td>32528.0</td>\n",
       "      <td>隠岐の島町</td>\n",
       "      <td>32</td>\n",
       "      <td>島根県</td>\n",
       "      <td>15930.0</td>\n",
       "      <td>0</td>\n",
       "      <td>0</td>\n",
       "      <td>0</td>\n",
       "      <td>0</td>\n",
       "      <td>0</td>\n",
       "      <td>0</td>\n",
       "      <td>16082881.0</td>\n",
       "    </tr>\n",
       "    <tr>\n",
       "      <th>14</th>\n",
       "      <td>島後</td>\n",
       "      <td>2015</td>\n",
       "      <td>0</td>\n",
       "      <td>32528.0</td>\n",
       "      <td>隠岐の島町</td>\n",
       "      <td>32</td>\n",
       "      <td>島根県</td>\n",
       "      <td>14901.0</td>\n",
       "      <td>0</td>\n",
       "      <td>0</td>\n",
       "      <td>0</td>\n",
       "      <td>0</td>\n",
       "      <td>0</td>\n",
       "      <td>0</td>\n",
       "      <td>16135317.0</td>\n",
       "    </tr>\n",
       "    <tr>\n",
       "      <th>19</th>\n",
       "      <td>島後</td>\n",
       "      <td>2020</td>\n",
       "      <td>0</td>\n",
       "      <td>32528.0</td>\n",
       "      <td>隠岐の島町</td>\n",
       "      <td>32</td>\n",
       "      <td>島根県</td>\n",
       "      <td>13882.0</td>\n",
       "      <td>0</td>\n",
       "      <td>0</td>\n",
       "      <td>0</td>\n",
       "      <td>0</td>\n",
       "      <td>0</td>\n",
       "      <td>0</td>\n",
       "      <td>17473739.0</td>\n",
       "    </tr>\n",
       "    <tr>\n",
       "      <th>20</th>\n",
       "      <td>中ノ島</td>\n",
       "      <td>1985</td>\n",
       "      <td>1</td>\n",
       "      <td>32525.0</td>\n",
       "      <td>海士町</td>\n",
       "      <td>32</td>\n",
       "      <td>島根県</td>\n",
       "      <td>3339.0</td>\n",
       "      <td>0</td>\n",
       "      <td>0</td>\n",
       "      <td>0</td>\n",
       "      <td>0</td>\n",
       "      <td>0</td>\n",
       "      <td>0</td>\n",
       "      <td>2645758.0</td>\n",
       "    </tr>\n",
       "  </tbody>\n",
       "</table>\n",
       "</div>"
      ],
      "text/plain": [
       "   island  year  island_id  region_code region  prefecture_code pref  \\\n",
       "4      島後  2005          0      32528.0  隠岐の島町               32  島根県   \n",
       "9      島後  2010          0      32528.0  隠岐の島町               32  島根県   \n",
       "14     島後  2015          0      32528.0  隠岐の島町               32  島根県   \n",
       "19     島後  2020          0      32528.0  隠岐の島町               32  島根県   \n",
       "20    中ノ島  1985          1      32525.0    海士町               32  島根県   \n",
       "\n",
       "    population  dummy_has_bridge  dummy_connect_mainland_by_bridge  \\\n",
       "4      17259.0                 0                                 0   \n",
       "9      15930.0                 0                                 0   \n",
       "14     14901.0                 0                                 0   \n",
       "19     13882.0                 0                                 0   \n",
       "20      3339.0                 0                                 0   \n",
       "\n",
       "    bridge_opened_year  dummy_after_bridge_build  connect_mainland_year  \\\n",
       "4                    0                         0                      0   \n",
       "9                    0                         0                      0   \n",
       "14                   0                         0                      0   \n",
       "19                   0                         0                      0   \n",
       "20                   0                         0                      0   \n",
       "\n",
       "    dummy_after_connect_mainland      income  \n",
       "4                              0  19083931.0  \n",
       "9                              0  16082881.0  \n",
       "14                             0  16135317.0  \n",
       "19                             0  17473739.0  \n",
       "20                             0   2645758.0  "
      ]
     },
     "execution_count": 17,
     "metadata": {},
     "output_type": "execute_result"
    }
   ],
   "source": [
    "df.head()"
   ]
  },
  {
   "cell_type": "code",
   "execution_count": 18,
   "metadata": {},
   "outputs": [],
   "source": [
    "output_file_path = \"../../data/processed/df_filtered_5years.xlsx\"\n",
    "df.to_excel(output_file_path, index=False, engine='openpyxl')"
   ]
  },
  {
   "cell_type": "code",
   "execution_count": 19,
   "metadata": {},
   "outputs": [
    {
     "data": {
      "image/png": "[encoded data removed]",
      "text/plain": [
       "<Figure size 1000x600 with 1 Axes>"
      ]
     },
     "metadata": {},
     "output_type": "display_data"
    }
   ],
   "source": [
    "plt.figure(figsize=(10, 6))\n",
    "sns.histplot(df['year'], bins=20, kde=True)\n",
    "plt.show()"
   ]
  }
 ],
 "metadata": {
  "kernelspec": {
   "display_name": ".venv",
   "language": "python",
   "name": "python3"
  },
  "language_info": {
   "codemirror_mode": {
    "name": "ipython",
    "version": 3
   },
   "file_extension": ".py",
   "mimetype": "text/x-python",
   "name": "python",
   "nbconvert_exporter": "python",
   "pygments_lexer": "ipython3",
   "version": "3.10.15"
  }
 },
 "nbformat": 4,
 "nbformat_minor": 2
}
