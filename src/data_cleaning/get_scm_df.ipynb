{
 "cells": [
  {
   "cell_type": "markdown",
   "metadata": {},
   "source": [
    "# SCM用データフレームを作成する"
   ]
  },
  {
   "cell_type": "code",
   "execution_count": 1,
   "metadata": {},
   "outputs": [],
   "source": [
    "import pandas as pd\n",
    "import polars as pl\n",
    "import numpy as np"
   ]
  },
  {
   "cell_type": "markdown",
   "metadata": {},
   "source": [
    "## コントロール群のデータフレームを作成"
   ]
  },
  {
   "cell_type": "code",
   "execution_count": 2,
   "metadata": {},
   "outputs": [
    {
     "name": "stderr",
     "output_type": "stream",
     "text": [
      "/tmp/ipykernel_309055/2235315917.py:6: DeprecationWarning: The argument `columns` for `DataFrame.pivot` is deprecated. It has been renamed to `on`.\n",
      "  pivot = df.pivot(index='year', columns='island_ids', values='log_pop')\n"
     ]
    },
    {
     "data": {
      "text/html": [
       "<div><style>\n",
       ".dataframe > thead > tr,\n",
       ".dataframe > tbody > tr {\n",
       "  text-align: right;\n",
       "  white-space: pre-wrap;\n",
       "}\n",
       "</style>\n",
       "<small>shape: (29, 106)</small><table border=\"1\" class=\"dataframe\"><thead><tr><th>year</th><th>62</th><th>63</th><th>64</th><th>65</th><th>69</th><th>71</th><th>73</th><th>76</th><th>77</th><th>78</th><th>79</th><th>80</th><th>81</th><th>82</th><th>83</th><th>84</th><th>85</th><th>86</th><th>87</th><th>90</th><th>93</th><th>97</th><th>98</th><th>99</th><th>100</th><th>101</th><th>102</th><th>105</th><th>107</th><th>110</th><th>114</th><th>115</th><th>119</th><th>120</th><th>122</th><th>123</th><th>&hellip;</th><th>175</th><th>176</th><th>177</th><th>178</th><th>179</th><th>180</th><th>181</th><th>182</th><th>183</th><th>184</th><th>185</th><th>186</th><th>190</th><th>194</th><th>196</th><th>198</th><th>199</th><th>200</th><th>201</th><th>203</th><th>205</th><th>206</th><th>207</th><th>208</th><th>209</th><th>210</th><th>211</th><th>212</th><th>213</th><th>214</th><th>215</th><th>217</th><th>218</th><th>219</th><th>220</th><th>224</th><th>225</th></tr><tr><td>i64</td><td>f64</td><td>f64</td><td>f64</td><td>f64</td><td>f64</td><td>f64</td><td>f64</td><td>f64</td><td>f64</td><td>f64</td><td>f64</td><td>f64</td><td>f64</td><td>f64</td><td>f64</td><td>f64</td><td>f64</td><td>f64</td><td>f64</td><td>f64</td><td>f64</td><td>f64</td><td>f64</td><td>f64</td><td>f64</td><td>f64</td><td>f64</td><td>f64</td><td>f64</td><td>f64</td><td>f64</td><td>f64</td><td>f64</td><td>f64</td><td>f64</td><td>f64</td><td>&hellip;</td><td>f64</td><td>f64</td><td>f64</td><td>f64</td><td>f64</td><td>f64</td><td>f64</td><td>f64</td><td>f64</td><td>f64</td><td>f64</td><td>f64</td><td>f64</td><td>f64</td><td>f64</td><td>f64</td><td>f64</td><td>f64</td><td>f64</td><td>f64</td><td>f64</td><td>f64</td><td>f64</td><td>f64</td><td>f64</td><td>f64</td><td>f64</td><td>f64</td><td>f64</td><td>f64</td><td>f64</td><td>f64</td><td>f64</td><td>f64</td><td>f64</td><td>f64</td><td>f64</td></tr></thead><tbody><tr><td>1960</td><td>null</td><td>null</td><td>null</td><td>null</td><td>null</td><td>null</td><td>null</td><td>null</td><td>null</td><td>null</td><td>null</td><td>null</td><td>null</td><td>null</td><td>null</td><td>null</td><td>null</td><td>null</td><td>null</td><td>null</td><td>null</td><td>null</td><td>null</td><td>null</td><td>null</td><td>null</td><td>null</td><td>null</td><td>null</td><td>null</td><td>null</td><td>null</td><td>null</td><td>null</td><td>null</td><td>null</td><td>&hellip;</td><td>null</td><td>null</td><td>null</td><td>null</td><td>null</td><td>null</td><td>null</td><td>null</td><td>null</td><td>null</td><td>null</td><td>null</td><td>null</td><td>null</td><td>null</td><td>null</td><td>null</td><td>null</td><td>null</td><td>null</td><td>null</td><td>null</td><td>null</td><td>null</td><td>null</td><td>null</td><td>null</td><td>null</td><td>null</td><td>null</td><td>null</td><td>null</td><td>null</td><td>null</td><td>null</td><td>7.765569</td><td>6.086775</td></tr><tr><td>1965</td><td>null</td><td>null</td><td>null</td><td>null</td><td>null</td><td>null</td><td>null</td><td>null</td><td>null</td><td>null</td><td>null</td><td>null</td><td>null</td><td>null</td><td>null</td><td>null</td><td>null</td><td>null</td><td>null</td><td>null</td><td>null</td><td>null</td><td>null</td><td>null</td><td>null</td><td>null</td><td>null</td><td>null</td><td>null</td><td>null</td><td>null</td><td>null</td><td>null</td><td>null</td><td>null</td><td>null</td><td>&hellip;</td><td>null</td><td>null</td><td>null</td><td>null</td><td>null</td><td>null</td><td>null</td><td>null</td><td>null</td><td>null</td><td>null</td><td>null</td><td>null</td><td>null</td><td>null</td><td>null</td><td>null</td><td>null</td><td>null</td><td>null</td><td>null</td><td>null</td><td>null</td><td>null</td><td>null</td><td>null</td><td>null</td><td>null</td><td>null</td><td>null</td><td>null</td><td>null</td><td>null</td><td>null</td><td>null</td><td>7.476472</td><td>5.83773</td></tr><tr><td>1970</td><td>9.958118</td><td>8.429236</td><td>8.576405</td><td>7.180831</td><td>5.899897</td><td>5.214936</td><td>null</td><td>6.139885</td><td>5.493061</td><td>3.951244</td><td>4.007333</td><td>6.095825</td><td>7.412764</td><td>8.406485</td><td>7.075809</td><td>4.543295</td><td>5.888878</td><td>5.556828</td><td>7.428333</td><td>7.660114</td><td>4.89784</td><td>7.765145</td><td>4.564348</td><td>null</td><td>null</td><td>5.26269</td><td>9.797516</td><td>4.983607</td><td>null</td><td>4.564348</td><td>null</td><td>null</td><td>null</td><td>6.234411</td><td>5.533389</td><td>6.829794</td><td>&hellip;</td><td>7.299797</td><td>4.663439</td><td>7.409136</td><td>5.918894</td><td>5.298317</td><td>6.385194</td><td>6.118097</td><td>7.342132</td><td>6.135565</td><td>7.809541</td><td>6.405228</td><td>5.209486</td><td>8.14584</td><td>5.129899</td><td>5.616771</td><td>5.549076</td><td>6.011267</td><td>5.198497</td><td>4.976734</td><td>3.583519</td><td>5.192957</td><td>null</td><td>4.859812</td><td>6.473891</td><td>7.137278</td><td>8.979165</td><td>7.31055</td><td>7.115582</td><td>6.552508</td><td>5.613128</td><td>6.946014</td><td>6.042633</td><td>6.850126</td><td>6.80017</td><td>4.927254</td><td>6.988413</td><td>5.556828</td></tr><tr><td>1975</td><td>9.900383</td><td>8.261785</td><td>8.527539</td><td>7.026427</td><td>5.814131</td><td>4.330733</td><td>null</td><td>5.843544</td><td>5.31812</td><td>3.912023</td><td>3.178054</td><td>5.872118</td><td>7.254885</td><td>8.322394</td><td>6.873164</td><td>4.532599</td><td>5.945421</td><td>5.389072</td><td>7.385231</td><td>7.496652</td><td>4.736198</td><td>7.68708</td><td>4.110874</td><td>null</td><td>null</td><td>4.787492</td><td>9.724181</td><td>4.736198</td><td>4.859812</td><td>4.317488</td><td>null</td><td>null</td><td>null</td><td>6.182085</td><td>5.236442</td><td>6.658011</td><td>&hellip;</td><td>7.367077</td><td>4.465908</td><td>7.26543</td><td>5.70711</td><td>5.181784</td><td>5.908083</td><td>5.796058</td><td>7.082549</td><td>5.472271</td><td>7.624131</td><td>6.173786</td><td>4.75359</td><td>8.099858</td><td>4.859812</td><td>5.337538</td><td>5.192957</td><td>5.910797</td><td>5.068904</td><td>4.770685</td><td>3.258097</td><td>4.75359</td><td>null</td><td>4.859812</td><td>6.214608</td><td>6.979145</td><td>8.851377</td><td>7.157735</td><td>6.975414</td><td>6.33328</td><td>5.099866</td><td>6.799056</td><td>5.57973</td><td>6.673298</td><td>6.493754</td><td>4.795791</td><td>6.770789</td><td>5.442418</td></tr><tr><td>1980</td><td>9.908525</td><td>8.194782</td><td>8.547528</td><td>7.009409</td><td>5.560682</td><td>4.204693</td><td>null</td><td>5.537334</td><td>5.257495</td><td>3.912023</td><td>2.944439</td><td>5.676754</td><td>7.161622</td><td>8.271804</td><td>6.767343</td><td>4.356709</td><td>5.934894</td><td>5.313206</td><td>7.328437</td><td>7.366445</td><td>4.691348</td><td>7.574558</td><td>3.89182</td><td>null</td><td>null</td><td>4.488636</td><td>9.640563</td><td>4.615121</td><td>4.574711</td><td>4.077537</td><td>null</td><td>null</td><td>8.103192</td><td>6.133398</td><td>5.068904</td><td>6.455199</td><td>&hellip;</td><td>7.25982</td><td>4.060443</td><td>7.17012</td><td>5.298317</td><td>4.997212</td><td>5.913503</td><td>5.673323</td><td>6.925595</td><td>5.181784</td><td>7.550661</td><td>6.003887</td><td>4.564348</td><td>8.048788</td><td>4.691348</td><td>5.068904</td><td>5.003946</td><td>5.786897</td><td>4.787492</td><td>4.564348</td><td>2.564949</td><td>4.49981</td><td>null</td><td>4.762174</td><td>6.066108</td><td>6.830874</td><td>8.803424</td><td>7.068172</td><td>6.873164</td><td>6.192362</td><td>4.859812</td><td>6.715383</td><td>5.433722</td><td>6.620073</td><td>6.467699</td><td>4.663439</td><td>6.55108</td><td>5.288267</td></tr><tr><td>&hellip;</td><td>&hellip;</td><td>&hellip;</td><td>&hellip;</td><td>&hellip;</td><td>&hellip;</td><td>&hellip;</td><td>&hellip;</td><td>&hellip;</td><td>&hellip;</td><td>&hellip;</td><td>&hellip;</td><td>&hellip;</td><td>&hellip;</td><td>&hellip;</td><td>&hellip;</td><td>&hellip;</td><td>&hellip;</td><td>&hellip;</td><td>&hellip;</td><td>&hellip;</td><td>&hellip;</td><td>&hellip;</td><td>&hellip;</td><td>&hellip;</td><td>&hellip;</td><td>&hellip;</td><td>&hellip;</td><td>&hellip;</td><td>&hellip;</td><td>&hellip;</td><td>&hellip;</td><td>&hellip;</td><td>&hellip;</td><td>&hellip;</td><td>&hellip;</td><td>&hellip;</td><td>&hellip;</td><td>&hellip;</td><td>&hellip;</td><td>&hellip;</td><td>&hellip;</td><td>&hellip;</td><td>&hellip;</td><td>&hellip;</td><td>&hellip;</td><td>&hellip;</td><td>&hellip;</td><td>&hellip;</td><td>&hellip;</td><td>&hellip;</td><td>&hellip;</td><td>&hellip;</td><td>&hellip;</td><td>&hellip;</td><td>&hellip;</td><td>&hellip;</td><td>&hellip;</td><td>&hellip;</td><td>&hellip;</td><td>&hellip;</td><td>&hellip;</td><td>&hellip;</td><td>&hellip;</td><td>&hellip;</td><td>&hellip;</td><td>&hellip;</td><td>&hellip;</td><td>&hellip;</td><td>&hellip;</td><td>&hellip;</td><td>&hellip;</td><td>&hellip;</td><td>&hellip;</td><td>&hellip;</td></tr><tr><td>2016</td><td>9.592469</td><td>7.739794</td><td>7.980366</td><td>6.390241</td><td>4.615121</td><td>4.007333</td><td>null</td><td>3.912023</td><td>4.465908</td><td>1.386294</td><td>1.94591</td><td>4.553877</td><td>6.269096</td><td>6.795706</td><td>5.398163</td><td>3.218876</td><td>4.248495</td><td>4.330733</td><td>6.324359</td><td>6.25575</td><td>3.806662</td><td>6.624065</td><td>null</td><td>null</td><td>null</td><td>2.944439</td><td>8.962648</td><td>3.496508</td><td>2.995732</td><td>1.94591</td><td>null</td><td>null</td><td>null</td><td>5.686975</td><td>3.258097</td><td>5.056246</td><td>&hellip;</td><td>6.126869</td><td>2.564949</td><td>5.572154</td><td>3.496508</td><td>3.850148</td><td>4.430817</td><td>3.73767</td><td>5.545177</td><td>3.135494</td><td>6.331502</td><td>5.129899</td><td>3.332205</td><td>7.659171</td><td>3.367296</td><td>2.890372</td><td>3.332205</td><td>4.521789</td><td>3.178054</td><td>2.564949</td><td>1.098612</td><td>2.772589</td><td>7.099202</td><td>4.007333</td><td>4.812184</td><td>5.463832</td><td>7.962416</td><td>5.97381</td><td>5.823046</td><td>4.962845</td><td>2.772589</td><td>5.537334</td><td>4.51086</td><td>5.811141</td><td>5.857933</td><td>3.332205</td><td>5.164786</td><td>3.713572</td></tr><tr><td>2017</td><td>9.585346</td><td>7.707512</td><td>7.965198</td><td>6.401917</td><td>4.521789</td><td>3.988984</td><td>null</td><td>3.828641</td><td>4.430817</td><td>1.386294</td><td>1.791759</td><td>4.49981</td><td>6.234411</td><td>6.749931</td><td>5.31812</td><td>3.044522</td><td>4.189655</td><td>4.26268</td><td>6.284134</td><td>6.2106</td><td>3.7612</td><td>6.583409</td><td>null</td><td>null</td><td>null</td><td>2.944439</td><td>8.941545</td><td>3.433987</td><td>2.995732</td><td>1.94591</td><td>null</td><td>null</td><td>null</td><td>5.66296</td><td>3.258097</td><td>4.990433</td><td>&hellip;</td><td>6.061457</td><td>2.397895</td><td>5.545177</td><td>3.295837</td><td>3.850148</td><td>4.418841</td><td>3.663562</td><td>5.493061</td><td>3.178054</td><td>6.280396</td><td>5.062595</td><td>3.258097</td><td>7.668094</td><td>3.258097</td><td>2.890372</td><td>3.258097</td><td>4.442651</td><td>3.135494</td><td>2.197225</td><td>1.098612</td><td>2.639057</td><td>7.063904</td><td>4.025352</td><td>4.779123</td><td>5.407172</td><td>7.93523</td><td>5.926926</td><td>5.755742</td><td>4.890349</td><td>2.70805</td><td>5.501258</td><td>4.430817</td><td>5.768321</td><td>5.786897</td><td>3.332205</td><td>5.123964</td><td>3.713572</td></tr><tr><td>2018</td><td>9.570599</td><td>7.712444</td><td>7.96137</td><td>6.421622</td><td>4.442651</td><td>4.043051</td><td>null</td><td>3.871201</td><td>4.369448</td><td>1.386294</td><td>1.791759</td><td>4.406719</td><td>6.194405</td><td>6.726233</td><td>5.26269</td><td>2.995732</td><td>4.158883</td><td>4.189655</td><td>6.228511</td><td>6.161207</td><td>3.663562</td><td>6.558198</td><td>null</td><td>null</td><td>null</td><td>2.833213</td><td>8.927049</td><td>3.178054</td><td>2.944439</td><td>1.94591</td><td>null</td><td>null</td><td>null</td><td>5.648974</td><td>3.218876</td><td>4.962845</td><td>&hellip;</td><td>6.011267</td><td>2.397895</td><td>5.497168</td><td>3.258097</td><td>3.806662</td><td>4.356709</td><td>3.583519</td><td>5.433722</td><td>3.218876</td><td>6.228511</td><td>4.997212</td><td>3.135494</td><td>7.63627</td><td>3.332205</td><td>2.772589</td><td>3.178054</td><td>4.276666</td><td>3.091042</td><td>1.94591</td><td>0.693147</td><td>2.639057</td><td>7.030857</td><td>4.025352</td><td>4.718499</td><td>5.370638</td><td>7.891331</td><td>5.880533</td><td>5.703782</td><td>4.836282</td><td>2.564949</td><td>5.46806</td><td>4.343805</td><td>5.743003</td><td>5.749393</td><td>3.295837</td><td>5.068904</td><td>3.637586</td></tr><tr><td>2019</td><td>9.555064</td><td>7.706163</td><td>7.941296</td><td>6.455199</td><td>4.418841</td><td>4.043051</td><td>null</td><td>3.806662</td><td>4.317488</td><td>1.386294</td><td>1.791759</td><td>4.382027</td><td>6.142037</td><td>6.659294</td><td>5.225747</td><td>2.995732</td><td>4.219508</td><td>4.127134</td><td>6.186209</td><td>6.12905</td><td>3.555348</td><td>6.530878</td><td>null</td><td>null</td><td>null</td><td>2.772589</td><td>8.90232</td><td>3.135494</td><td>2.70805</td><td>1.609438</td><td>null</td><td>null</td><td>null</td><td>5.627621</td><td>3.178054</td><td>4.927254</td><td>&hellip;</td><td>5.976351</td><td>2.302585</td><td>5.433722</td><td>3.258097</td><td>3.7612</td><td>4.330733</td><td>3.610918</td><td>5.379897</td><td>3.218876</td><td>6.186209</td><td>4.983607</td><td>2.772589</td><td>7.619724</td><td>3.258097</td><td>2.70805</td><td>3.135494</td><td>4.234107</td><td>3.044522</td><td>1.94591</td><td>0.693147</td><td>2.564949</td><td>7.001246</td><td>3.970292</td><td>4.65396</td><td>5.351858</td><td>7.86442</td><td>5.814131</td><td>5.652489</td><td>4.70953</td><td>2.197225</td><td>5.407172</td><td>4.276666</td><td>5.680173</td><td>5.7301</td><td>3.258097</td><td>5.030438</td><td>3.637586</td></tr><tr><td>2020</td><td>9.538348</td><td>7.688913</td><td>7.922261</td><td>6.448889</td><td>4.406719</td><td>4.060443</td><td>4.770685</td><td>3.73767</td><td>4.248495</td><td>1.386294</td><td>1.791759</td><td>4.317488</td><td>6.077642</td><td>6.588926</td><td>5.192957</td><td>3.044522</td><td>4.204693</td><td>4.043051</td><td>6.142037</td><td>5.940171</td><td>3.295837</td><td>6.499787</td><td>1.609438</td><td>3.044522</td><td>3.496508</td><td>2.639057</td><td>8.892337</td><td>3.044522</td><td>2.772589</td><td>1.609438</td><td>6.542472</td><td>4.276666</td><td>7.281386</td><td>5.57973</td><td>3.135494</td><td>4.859812</td><td>&hellip;</td><td>5.913503</td><td>2.302585</td><td>5.384495</td><td>3.218876</td><td>3.7612</td><td>4.204693</td><td>3.526361</td><td>5.273</td><td>3.218876</td><td>6.135565</td><td>4.969813</td><td>2.397895</td><td>7.611842</td><td>3.178054</td><td>2.564949</td><td>3.135494</td><td>4.174387</td><td>2.995732</td><td>1.94591</td><td>0.693147</td><td>2.564949</td><td>6.959399</td><td>3.912023</td><td>4.59512</td><td>5.313206</td><td>7.830426</td><td>5.746203</td><td>5.613128</td><td>4.672829</td><td>1.791759</td><td>5.361292</td><td>4.26268</td><td>5.572154</td><td>5.710427</td><td>3.178054</td><td>5.010635</td><td>3.637586</td></tr></tbody></table></div>"
      ],
      "text/plain": [
       "shape: (29, 106)\n",
       "┌──────┬──────────┬──────────┬──────────┬───┬──────────┬──────────┬──────────┬──────────┐\n",
       "│ year ┆ 62       ┆ 63       ┆ 64       ┆ … ┆ 219      ┆ 220      ┆ 224      ┆ 225      │\n",
       "│ ---  ┆ ---      ┆ ---      ┆ ---      ┆   ┆ ---      ┆ ---      ┆ ---      ┆ ---      │\n",
       "│ i64  ┆ f64      ┆ f64      ┆ f64      ┆   ┆ f64      ┆ f64      ┆ f64      ┆ f64      │\n",
       "╞══════╪══════════╪══════════╪══════════╪═══╪══════════╪══════════╪══════════╪══════════╡\n",
       "│ 1960 ┆ null     ┆ null     ┆ null     ┆ … ┆ null     ┆ null     ┆ 7.765569 ┆ 6.086775 │\n",
       "│ 1965 ┆ null     ┆ null     ┆ null     ┆ … ┆ null     ┆ null     ┆ 7.476472 ┆ 5.83773  │\n",
       "│ 1970 ┆ 9.958118 ┆ 8.429236 ┆ 8.576405 ┆ … ┆ 6.80017  ┆ 4.927254 ┆ 6.988413 ┆ 5.556828 │\n",
       "│ 1975 ┆ 9.900383 ┆ 8.261785 ┆ 8.527539 ┆ … ┆ 6.493754 ┆ 4.795791 ┆ 6.770789 ┆ 5.442418 │\n",
       "│ 1980 ┆ 9.908525 ┆ 8.194782 ┆ 8.547528 ┆ … ┆ 6.467699 ┆ 4.663439 ┆ 6.55108  ┆ 5.288267 │\n",
       "│ …    ┆ …        ┆ …        ┆ …        ┆ … ┆ …        ┆ …        ┆ …        ┆ …        │\n",
       "│ 2016 ┆ 9.592469 ┆ 7.739794 ┆ 7.980366 ┆ … ┆ 5.857933 ┆ 3.332205 ┆ 5.164786 ┆ 3.713572 │\n",
       "│ 2017 ┆ 9.585346 ┆ 7.707512 ┆ 7.965198 ┆ … ┆ 5.786897 ┆ 3.332205 ┆ 5.123964 ┆ 3.713572 │\n",
       "│ 2018 ┆ 9.570599 ┆ 7.712444 ┆ 7.96137  ┆ … ┆ 5.749393 ┆ 3.295837 ┆ 5.068904 ┆ 3.637586 │\n",
       "│ 2019 ┆ 9.555064 ┆ 7.706163 ┆ 7.941296 ┆ … ┆ 5.7301   ┆ 3.258097 ┆ 5.030438 ┆ 3.637586 │\n",
       "│ 2020 ┆ 9.538348 ┆ 7.688913 ┆ 7.922261 ┆ … ┆ 5.710427 ┆ 3.178054 ┆ 5.010635 ┆ 3.637586 │\n",
       "└──────┴──────────┴──────────┴──────────┴───┴──────────┴──────────┴──────────┴──────────┘"
      ]
     },
     "execution_count": 2,
     "metadata": {},
     "output_type": "execute_result"
    }
   ],
   "source": [
    "path = '../../data/raw/df.xlsx'\n",
    "df = pd.read_excel(path)\n",
    "df['log_pop'] = np.log(df['population'])\n",
    "df = df[['island_ids', 'year', 'log_pop']][df['treatment_group'] == 0]\n",
    "df = pl.from_pandas(df)\n",
    "pivot = df.pivot(index='year', columns='island_ids', values='log_pop')\n",
    "pivot.sort('year')"
   ]
  },
  {
   "cell_type": "code",
   "execution_count": 29,
   "metadata": {},
   "outputs": [],
   "source": [
    "pivot_pd = pivot.to_pandas()"
   ]
  },
  {
   "cell_type": "code",
   "execution_count": 30,
   "metadata": {},
   "outputs": [],
   "source": [
    "# pivot.to_excel('../../data/processed/scm_df_control_group.xlsx', index=False)"
   ]
  },
  {
   "cell_type": "markdown",
   "metadata": {},
   "source": [
    "## トリートメント群のデータフレームを作成"
   ]
  },
  {
   "cell_type": "code",
   "execution_count": 3,
   "metadata": {},
   "outputs": [
    {
     "name": "stderr",
     "output_type": "stream",
     "text": [
      "/tmp/ipykernel_309055/2331895314.py:6: DeprecationWarning: The argument `columns` for `DataFrame.pivot` is deprecated. It has been renamed to `on`.\n",
      "  pivot = df.pivot(index='year', columns='island_ids', values='log_pop')\n"
     ]
    },
    {
     "data": {
      "text/html": [
       "<div><style>\n",
       ".dataframe > thead > tr,\n",
       ".dataframe > tbody > tr {\n",
       "  text-align: right;\n",
       "  white-space: pre-wrap;\n",
       "}\n",
       "</style>\n",
       "<small>shape: (29, 54)</small><table border=\"1\" class=\"dataframe\"><thead><tr><th>year</th><th>66</th><th>67</th><th>68</th><th>70</th><th>72</th><th>88</th><th>89</th><th>91</th><th>92</th><th>94</th><th>95</th><th>96</th><th>103</th><th>104</th><th>106</th><th>108</th><th>109</th><th>111</th><th>112</th><th>113</th><th>116</th><th>117</th><th>118</th><th>125</th><th>130</th><th>132</th><th>138</th><th>139</th><th>143</th><th>144</th><th>145</th><th>146</th><th>153</th><th>155</th><th>156</th><th>157</th><th>160</th><th>171</th><th>172</th><th>173</th><th>187</th><th>188</th><th>189</th><th>192</th><th>193</th><th>195</th><th>197</th><th>202</th><th>204</th><th>216</th><th>221</th><th>223</th><th>226</th></tr><tr><td>i64</td><td>f64</td><td>f64</td><td>f64</td><td>f64</td><td>f64</td><td>f64</td><td>f64</td><td>f64</td><td>f64</td><td>f64</td><td>f64</td><td>f64</td><td>f64</td><td>f64</td><td>f64</td><td>f64</td><td>f64</td><td>f64</td><td>f64</td><td>f64</td><td>f64</td><td>f64</td><td>f64</td><td>f64</td><td>f64</td><td>f64</td><td>f64</td><td>f64</td><td>f64</td><td>f64</td><td>f64</td><td>f64</td><td>f64</td><td>f64</td><td>f64</td><td>f64</td><td>f64</td><td>f64</td><td>f64</td><td>f64</td><td>f64</td><td>f64</td><td>f64</td><td>f64</td><td>f64</td><td>f64</td><td>f64</td><td>f64</td><td>f64</td><td>f64</td><td>f64</td><td>f64</td><td>f64</td></tr></thead><tbody><tr><td>1960</td><td>null</td><td>null</td><td>null</td><td>null</td><td>null</td><td>null</td><td>null</td><td>null</td><td>null</td><td>null</td><td>null</td><td>null</td><td>null</td><td>null</td><td>null</td><td>null</td><td>null</td><td>null</td><td>null</td><td>null</td><td>null</td><td>null</td><td>null</td><td>null</td><td>null</td><td>null</td><td>8.309185</td><td>null</td><td>null</td><td>null</td><td>null</td><td>null</td><td>null</td><td>null</td><td>null</td><td>null</td><td>null</td><td>null</td><td>null</td><td>null</td><td>null</td><td>null</td><td>null</td><td>null</td><td>null</td><td>null</td><td>null</td><td>null</td><td>null</td><td>null</td><td>5.181784</td><td>7.098376</td><td>null</td></tr><tr><td>1965</td><td>null</td><td>null</td><td>null</td><td>null</td><td>null</td><td>null</td><td>null</td><td>null</td><td>null</td><td>null</td><td>null</td><td>null</td><td>null</td><td>null</td><td>null</td><td>null</td><td>null</td><td>null</td><td>null</td><td>null</td><td>null</td><td>null</td><td>null</td><td>null</td><td>null</td><td>null</td><td>8.276903</td><td>null</td><td>null</td><td>null</td><td>null</td><td>null</td><td>null</td><td>null</td><td>null</td><td>null</td><td>null</td><td>null</td><td>null</td><td>null</td><td>null</td><td>null</td><td>null</td><td>null</td><td>null</td><td>null</td><td>null</td><td>null</td><td>null</td><td>null</td><td>5.170484</td><td>7.078342</td><td>null</td></tr><tr><td>1970</td><td>8.405144</td><td>null</td><td>4.077537</td><td>6.956545</td><td>null</td><td>7.984463</td><td>7.909122</td><td>null</td><td>null</td><td>9.307467</td><td>8.765146</td><td>6.945051</td><td>5.361292</td><td>8.984192</td><td>null</td><td>8.62515</td><td>8.446771</td><td>9.4492</td><td>6.925595</td><td>null</td><td>null</td><td>10.710387</td><td>2.484907</td><td>10.484585</td><td>6.579251</td><td>null</td><td>8.150179</td><td>null</td><td>null</td><td>null</td><td>null</td><td>7.445418</td><td>null</td><td>null</td><td>null</td><td>null</td><td>null</td><td>6.196444</td><td>5.099866</td><td>6.620073</td><td>8.545197</td><td>7.077498</td><td>8.034955</td><td>9.606563</td><td>9.213136</td><td>9.415401</td><td>7.34601</td><td>4.343805</td><td>7.026427</td><td>7.855545</td><td>4.983607</td><td>6.971669</td><td>null</td></tr><tr><td>1975</td><td>8.42705</td><td>null</td><td>3.828641</td><td>6.729824</td><td>null</td><td>7.843456</td><td>7.784889</td><td>null</td><td>null</td><td>9.459464</td><td>8.767329</td><td>6.866933</td><td>4.969813</td><td>8.690138</td><td>8.300529</td><td>8.501267</td><td>8.41161</td><td>9.343734</td><td>6.725034</td><td>null</td><td>null</td><td>10.679987</td><td>1.791759</td><td>10.400316</td><td>6.261492</td><td>null</td><td>8.188689</td><td>null</td><td>null</td><td>null</td><td>10.71575</td><td>7.32185</td><td>null</td><td>null</td><td>null</td><td>null</td><td>null</td><td>6.008813</td><td>4.859812</td><td>6.36647</td><td>8.59193</td><td>7.044033</td><td>8.057061</td><td>9.508443</td><td>9.290537</td><td>9.372289</td><td>7.172425</td><td>4.304065</td><td>6.814543</td><td>7.780721</td><td>4.912655</td><td>6.981006</td><td>null</td></tr><tr><td>1980</td><td>8.301522</td><td>null</td><td>3.951244</td><td>6.660575</td><td>null</td><td>7.787797</td><td>7.694393</td><td>null</td><td>null</td><td>9.457903</td><td>8.779865</td><td>6.801283</td><td>4.969813</td><td>8.705994</td><td>8.141481</td><td>8.395252</td><td>8.316545</td><td>null</td><td>null</td><td>null</td><td>null</td><td>10.64285</td><td>null</td><td>10.335595</td><td>6.023448</td><td>null</td><td>7.955425</td><td>null</td><td>null</td><td>null</td><td>10.644305</td><td>7.226209</td><td>null</td><td>null</td><td>null</td><td>null</td><td>null</td><td>5.986452</td><td>4.934474</td><td>6.139885</td><td>8.521185</td><td>6.946014</td><td>8.05611</td><td>9.424564</td><td>9.249176</td><td>9.30928</td><td>7.060476</td><td>4.025352</td><td>6.682109</td><td>7.688455</td><td>4.890349</td><td>6.920672</td><td>6.641182</td></tr><tr><td>&hellip;</td><td>&hellip;</td><td>&hellip;</td><td>&hellip;</td><td>&hellip;</td><td>&hellip;</td><td>&hellip;</td><td>&hellip;</td><td>&hellip;</td><td>&hellip;</td><td>&hellip;</td><td>&hellip;</td><td>&hellip;</td><td>&hellip;</td><td>&hellip;</td><td>&hellip;</td><td>&hellip;</td><td>&hellip;</td><td>&hellip;</td><td>&hellip;</td><td>&hellip;</td><td>&hellip;</td><td>&hellip;</td><td>&hellip;</td><td>&hellip;</td><td>&hellip;</td><td>&hellip;</td><td>&hellip;</td><td>&hellip;</td><td>&hellip;</td><td>&hellip;</td><td>&hellip;</td><td>&hellip;</td><td>&hellip;</td><td>&hellip;</td><td>&hellip;</td><td>&hellip;</td><td>&hellip;</td><td>&hellip;</td><td>&hellip;</td><td>&hellip;</td><td>&hellip;</td><td>&hellip;</td><td>&hellip;</td><td>&hellip;</td><td>&hellip;</td><td>&hellip;</td><td>&hellip;</td><td>&hellip;</td><td>&hellip;</td><td>&hellip;</td><td>&hellip;</td><td>&hellip;</td><td>&hellip;</td></tr><tr><td>2016</td><td>null</td><td>null</td><td>2.302585</td><td>6.021023</td><td>null</td><td>null</td><td>null</td><td>null</td><td>null</td><td>null</td><td>null</td><td>null</td><td>2.890372</td><td>null</td><td>null</td><td>null</td><td>null</td><td>null</td><td>null</td><td>null</td><td>null</td><td>null</td><td>null</td><td>null</td><td>null</td><td>null</td><td>null</td><td>null</td><td>null</td><td>null</td><td>null</td><td>null</td><td>null</td><td>null</td><td>null</td><td>null</td><td>null</td><td>5.308268</td><td>4.454347</td><td>4.983607</td><td>7.91972</td><td>6.244167</td><td>7.398786</td><td>null</td><td>null</td><td>null</td><td>null</td><td>3.044522</td><td>5.407172</td><td>6.801283</td><td>null</td><td>null</td><td>null</td></tr><tr><td>2017</td><td>null</td><td>null</td><td>null</td><td>null</td><td>null</td><td>null</td><td>null</td><td>null</td><td>null</td><td>null</td><td>null</td><td>null</td><td>2.944439</td><td>null</td><td>null</td><td>null</td><td>null</td><td>null</td><td>null</td><td>null</td><td>null</td><td>null</td><td>null</td><td>null</td><td>null</td><td>null</td><td>null</td><td>null</td><td>null</td><td>null</td><td>null</td><td>null</td><td>null</td><td>null</td><td>null</td><td>null</td><td>null</td><td>5.313206</td><td>4.430817</td><td>5.056246</td><td>7.881937</td><td>6.230481</td><td>7.376508</td><td>null</td><td>null</td><td>null</td><td>null</td><td>2.944439</td><td>5.351858</td><td>6.777647</td><td>null</td><td>null</td><td>null</td></tr><tr><td>2018</td><td>null</td><td>null</td><td>null</td><td>null</td><td>null</td><td>null</td><td>null</td><td>null</td><td>null</td><td>null</td><td>null</td><td>null</td><td>2.890372</td><td>null</td><td>null</td><td>null</td><td>null</td><td>null</td><td>null</td><td>null</td><td>null</td><td>null</td><td>null</td><td>null</td><td>null</td><td>null</td><td>null</td><td>null</td><td>null</td><td>null</td><td>null</td><td>null</td><td>null</td><td>null</td><td>null</td><td>null</td><td>null</td><td>5.288267</td><td>4.369448</td><td>5.030438</td><td>7.885705</td><td>6.214608</td><td>7.354362</td><td>null</td><td>null</td><td>null</td><td>null</td><td>2.890372</td><td>5.298317</td><td>null</td><td>null</td><td>null</td><td>null</td></tr><tr><td>2019</td><td>null</td><td>null</td><td>null</td><td>null</td><td>null</td><td>null</td><td>null</td><td>null</td><td>null</td><td>null</td><td>null</td><td>null</td><td>2.833213</td><td>null</td><td>null</td><td>null</td><td>null</td><td>null</td><td>null</td><td>null</td><td>null</td><td>null</td><td>null</td><td>null</td><td>null</td><td>null</td><td>null</td><td>null</td><td>null</td><td>null</td><td>null</td><td>null</td><td>null</td><td>null</td><td>null</td><td>null</td><td>null</td><td>5.278115</td><td>4.394449</td><td>4.990433</td><td>7.872074</td><td>6.169611</td><td>7.327123</td><td>null</td><td>null</td><td>null</td><td>null</td><td>2.70805</td><td>5.187386</td><td>null</td><td>null</td><td>null</td><td>null</td></tr><tr><td>2020</td><td>8.240913</td><td>5.288267</td><td>2.397895</td><td>5.891644</td><td>5.897154</td><td>7.190676</td><td>6.82546</td><td>9.951992</td><td>6.180017</td><td>9.925004</td><td>9.03682</td><td>6.068426</td><td>2.890372</td><td>7.466228</td><td>6.82546</td><td>7.260523</td><td>7.160846</td><td>9.622847</td><td>5.225747</td><td>4.85203</td><td>7.496097</td><td>9.995337</td><td>1.791759</td><td>9.580316</td><td>4.564348</td><td>7.130099</td><td>6.934397</td><td>5.480639</td><td>6.99485</td><td>5.068904</td><td>10.069256</td><td>6.476972</td><td>7.363914</td><td>7.974533</td><td>8.335671</td><td>5.921578</td><td>5.303305</td><td>5.241747</td><td>4.382027</td><td>4.976734</td><td>7.835184</td><td>6.120297</td><td>7.286876</td><td>8.509766</td><td>8.65085</td><td>8.585786</td><td>5.627621</td><td>2.484907</td><td>5.17615</td><td>6.591674</td><td>4.043051</td><td>6.061457</td><td>5.4161</td></tr></tbody></table></div>"
      ],
      "text/plain": [
       "shape: (29, 54)\n",
       "┌──────┬──────────┬──────────┬──────────┬───┬──────────┬──────────┬──────────┬──────────┐\n",
       "│ year ┆ 66       ┆ 67       ┆ 68       ┆ … ┆ 216      ┆ 221      ┆ 223      ┆ 226      │\n",
       "│ ---  ┆ ---      ┆ ---      ┆ ---      ┆   ┆ ---      ┆ ---      ┆ ---      ┆ ---      │\n",
       "│ i64  ┆ f64      ┆ f64      ┆ f64      ┆   ┆ f64      ┆ f64      ┆ f64      ┆ f64      │\n",
       "╞══════╪══════════╪══════════╪══════════╪═══╪══════════╪══════════╪══════════╪══════════╡\n",
       "│ 1960 ┆ null     ┆ null     ┆ null     ┆ … ┆ null     ┆ 5.181784 ┆ 7.098376 ┆ null     │\n",
       "│ 1965 ┆ null     ┆ null     ┆ null     ┆ … ┆ null     ┆ 5.170484 ┆ 7.078342 ┆ null     │\n",
       "│ 1970 ┆ 8.405144 ┆ null     ┆ 4.077537 ┆ … ┆ 7.855545 ┆ 4.983607 ┆ 6.971669 ┆ null     │\n",
       "│ 1975 ┆ 8.42705  ┆ null     ┆ 3.828641 ┆ … ┆ 7.780721 ┆ 4.912655 ┆ 6.981006 ┆ null     │\n",
       "│ 1980 ┆ 8.301522 ┆ null     ┆ 3.951244 ┆ … ┆ 7.688455 ┆ 4.890349 ┆ 6.920672 ┆ 6.641182 │\n",
       "│ …    ┆ …        ┆ …        ┆ …        ┆ … ┆ …        ┆ …        ┆ …        ┆ …        │\n",
       "│ 2016 ┆ null     ┆ null     ┆ 2.302585 ┆ … ┆ 6.801283 ┆ null     ┆ null     ┆ null     │\n",
       "│ 2017 ┆ null     ┆ null     ┆ null     ┆ … ┆ 6.777647 ┆ null     ┆ null     ┆ null     │\n",
       "│ 2018 ┆ null     ┆ null     ┆ null     ┆ … ┆ null     ┆ null     ┆ null     ┆ null     │\n",
       "│ 2019 ┆ null     ┆ null     ┆ null     ┆ … ┆ null     ┆ null     ┆ null     ┆ null     │\n",
       "│ 2020 ┆ 8.240913 ┆ 5.288267 ┆ 2.397895 ┆ … ┆ 6.591674 ┆ 4.043051 ┆ 6.061457 ┆ 5.4161   │\n",
       "└──────┴──────────┴──────────┴──────────┴───┴──────────┴──────────┴──────────┴──────────┘"
      ]
     },
     "execution_count": 3,
     "metadata": {},
     "output_type": "execute_result"
    }
   ],
   "source": [
    "path = '../../data/raw/df.xlsx'\n",
    "df = pd.read_excel(path)\n",
    "df['log_pop'] = np.log(df['population'])\n",
    "df = df[['island_ids', 'year', 'log_pop']][df['treatment_group'] == 1]\n",
    "df = pl.from_pandas(df)\n",
    "pivot = df.pivot(index='year', columns='island_ids', values='log_pop')\n",
    "pivot.sort('year')"
   ]
  },
  {
   "cell_type": "code",
   "execution_count": 4,
   "metadata": {},
   "outputs": [],
   "source": [
    "pivot_pd = pivot.to_pandas()"
   ]
  },
  {
   "cell_type": "code",
   "execution_count": 6,
   "metadata": {},
   "outputs": [],
   "source": [
    "pivot_pd.to_excel('../../data/processed/scm_df_treatment_group.xlsx', index=False)"
   ]
  }
 ],
 "metadata": {
  "kernelspec": {
   "display_name": ".venv",
   "language": "python",
   "name": "python3"
  },
  "language_info": {
   "codemirror_mode": {
    "name": "ipython",
    "version": 3
   },
   "file_extension": ".py",
   "mimetype": "text/x-python",
   "name": "python",
   "nbconvert_exporter": "python",
   "pygments_lexer": "ipython3",
   "version": "3.12.6"
  }
 },
 "nbformat": 4,
 "nbformat_minor": 2
}
