{
 "cells": [
  {
   "cell_type": "markdown",
   "metadata": {},
   "source": [
    "# Fillter"
   ]
  },
  {
   "cell_type": "code",
   "execution_count": 1,
   "metadata": {},
   "outputs": [],
   "source": [
    "import pandas as pd\n",
    "import numpy as np\n",
    "import matplotlib.pyplot as plt\n",
    "import seaborn as sns\n",
    "from patsy import dmatrix"
   ]
  },
  {
   "cell_type": "code",
   "execution_count": 2,
   "metadata": {},
   "outputs": [],
   "source": [
    "filepath = '../../data/raw/df.xlsx'\n",
    "df = pd.read_excel(filepath)"
   ]
  },
  {
   "cell_type": "code",
   "execution_count": 3,
   "metadata": {},
   "outputs": [],
   "source": [
    "# 遠すぎる島を除外\n",
    "df = df[df['distance_m'] <= 1991]\n",
    "\n",
    "# 5年ごとのデータにする\n",
    "# df = df.query('year %5 == 0')\n",
    "\n",
    "# 人口対数値を追加\n",
    "df['log_pop'] = np.log(df['population'])\n",
    "\n",
    "# 既に介入を受けている島\n",
    "already_treated = df.groupby('island_ids').filter(lambda x: (x['after_treatment'] == 0).sum() == 0)['island_ids'].unique()\n",
    "df['is_already_treated'] = np.where(df['island_ids'].isin(already_treated), 1, 0)\n",
    "df.query('is_already_treated == 1')['bridge_year'].unique()\n",
    "df = df.query('is_already_treated == 0')\n",
    "\n",
    "# 個体時間固定効果を考慮した人口対数値\n",
    "df_ = df.copy()\n",
    "mean_log_pop_per_island = df_.groupby('island_ids')['log_pop'].transform('mean')\n",
    "mean_log_pop_per_year = df_.groupby('year')['log_pop'].transform('mean')\n",
    "mean_log_pop = df_['log_pop'].mean()\n",
    "df['log_pop_star'] = df['log_pop'] - mean_log_pop_per_island - mean_log_pop_per_year + mean_log_pop\n",
    "\n",
    "# # 間違っているかもしれない変換人口対数値\n",
    "# mean_log_pop_per_island = df_.groupby('island_ids')['log_pop'].transform('mean')\n",
    "# df_['log_pop_star_1'] = df_['log_pop'] - mean_log_pop_per_island\n",
    "# mean_log_pop_star_per_year \n",
    "\n",
    "\n",
    "# 経過年数を追加\n",
    "df['time_since_treatment'] = np.where(df['treatment_group'] == 1, df['year'] - df['bridge_year'], 0)\n",
    "\n",
    "# 既に介入を受けているもの\n",
    "# 同じisland_id内でafter_treatment == 0がないもの\n",
    "already_treated = df.groupby('island_ids').filter(lambda x: (x['after_treatment'] == 0).sum() == 0)\n",
    "\n",
    "# 観測期間が短い島を除外\n",
    "# missing_1975_islands = df[df['years'] == 1975]['island_ids'].unique()\n",
    "# all_islands = df['island_ids'].unique()\n",
    "# islands_without_1975 = [island for island in all_islands if island not in missing_1975_islands]\n",
    "# print(islands_without_1975)\n",
    "# df = df[~df['island_ids'].isin(islands_without_1975)]"
   ]
  },
  {
   "cell_type": "code",
   "execution_count": 4,
   "metadata": {},
   "outputs": [],
   "source": [
    "# 地域名，島名，県名，疑似介入年を削除\n",
    "df.drop(columns=['region_names', 'prefecture_names', 'island_names', 'pseudo_year', 'pseudo_bridge_year'], inplace=True)\n",
    "df = df[['island_ids'] + [col for col in df.columns if col != 'island_ids']]"
   ]
  },
  {
   "cell_type": "code",
   "execution_count": 5,
   "metadata": {},
   "outputs": [
    {
     "name": "stdout",
     "output_type": "stream",
     "text": [
      "<class 'pandas.core.frame.DataFrame'>\n",
      "Index: 1713 entries, 119 to 3419\n",
      "Data columns (total 18 columns):\n",
      " #   Column                    Non-Null Count  Dtype  \n",
      "---  ------                    --------------  -----  \n",
      " 0   island_ids                1713 non-null   int64  \n",
      " 1   year                      1713 non-null   int64  \n",
      " 2   region_codes              1713 non-null   object \n",
      " 3   prefecture_codes          1713 non-null   int64  \n",
      " 4   population                1615 non-null   float64\n",
      " 5   treatment_group           1713 non-null   int64  \n",
      " 6   treatment_group_mainland  1713 non-null   int64  \n",
      " 7   bridge_year               1713 non-null   int64  \n",
      " 8   after_treatment           1713 non-null   int64  \n",
      " 9   connect_mainland_year     1713 non-null   int64  \n",
      " 10  after_treatment_mainland  1713 non-null   int64  \n",
      " 11  income                    1317 non-null   float64\n",
      " 12  area_km2                  1713 non-null   float64\n",
      " 13  distance_m                1713 non-null   float64\n",
      " 14  log_pop                   1615 non-null   float64\n",
      " 15  is_already_treated        1713 non-null   int64  \n",
      " 16  log_pop_star              1615 non-null   float64\n",
      " 17  time_since_treatment      1713 non-null   int64  \n",
      "dtypes: float64(6), int64(11), object(1)\n",
      "memory usage: 254.3+ KB\n"
     ]
    }
   ],
   "source": [
    "df.info()"
   ]
  },
  {
   "cell_type": "markdown",
   "metadata": {},
   "source": [
    "## 保存"
   ]
  },
  {
   "cell_type": "code",
   "execution_count": 6,
   "metadata": {},
   "outputs": [],
   "source": [
    "df_filtered = df\n",
    "export_filepath = '../../data/processed/df_filtered.xlsx'\n",
    "df_filtered.to_excel(export_filepath, index=False)"
   ]
  }
 ],
 "metadata": {
  "kernelspec": {
   "display_name": "data-analysis",
   "language": "python",
   "name": "data-analysis"
  },
  "language_info": {
   "codemirror_mode": {
    "name": "ipython",
    "version": 3
   },
   "file_extension": ".py",
   "mimetype": "text/x-python",
   "name": "python",
   "nbconvert_exporter": "python",
   "pygments_lexer": "ipython3",
   "version": "3.12.6"
  }
 },
 "nbformat": 4,
 "nbformat_minor": 2
}
