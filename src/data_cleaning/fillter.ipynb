{
 "cells": [
  {
   "cell_type": "markdown",
   "metadata": {},
   "source": [
    "# Fillter"
   ]
  },
  {
   "cell_type": "code",
   "execution_count": 1,
   "metadata": {},
   "outputs": [],
   "source": [
    "import pandas as pd\n",
    "import numpy as np\n",
    "import matplotlib.pyplot as plt\n",
    "import seaborn as sns\n",
    "from patsy import dmatrix"
   ]
  },
  {
   "cell_type": "code",
   "execution_count": 2,
   "metadata": {},
   "outputs": [],
   "source": [
    "filepath = '../../data/raw/df.xlsx'\n",
    "df = pd.read_excel(filepath)"
   ]
  },
  {
   "cell_type": "code",
   "execution_count": 3,
   "metadata": {},
   "outputs": [],
   "source": [
    "df = df.dropna(subset='population')\n",
    "\n",
    "# 遠すぎる島を除外\n",
    "df = df[df['distance_m'] <= 1991]\n",
    "\n",
    "# 5年ごとのデータにする\n",
    "df = df.query('year %5 == 0')\n",
    "\n",
    "# 人口対数値を追加\n",
    "df['log_pop'] = np.log(df['population'])\n",
    "\n",
    "# 既に介入を受けている島\n",
    "already_treated = df.groupby('island_ids').filter(lambda x: (x['after_treatment'] == 0).sum() == 0)['island_ids'].unique()\n",
    "df['is_already_treated'] = np.where(df['island_ids'].isin(already_treated), 1, 0)\n",
    "df.query('is_already_treated == 1')['bridge_year'].unique()\n",
    "df = df.query('is_already_treated == 0')\n",
    "\n",
    "# 個体時間固定効果を考慮した人口対数値\n",
    "# df_ = df.copy()\n",
    "# mean_log_pop_per_island = df_.groupby('island_ids')['log_pop'].transform('mean')\n",
    "# mean_log_pop_per_year = df_.groupby('year')['log_pop'].transform('mean')\n",
    "# mean_log_pop = df_['log_pop'].mean()\n",
    "# df['log_pop_star'] = df['log_pop'] - mean_log_pop_per_island - mean_log_pop_per_year + mean_log_pop\n",
    "\n",
    "# # 間違っているかもしれない変換人口対数値\n",
    "# mean_log_pop_per_island = df_.groupby('island_ids')['log_pop'].transform('mean')\n",
    "# df_['log_pop_star_1'] = df_['log_pop'] - mean_log_pop_per_island\n",
    "# mean_log_pop_star_per_year \n",
    "\n",
    "\n",
    "# 経過年数を追加\n",
    "df['time_since_treatment'] = np.where(df['treatment_group'] == 1, df['year'] - df['bridge_year'], 0)\n",
    "\n",
    "# 既に介入を受けているもの\n",
    "# 同じisland_id内でafter_treatment == 0がないもの\n",
    "already_treated = df.groupby('island_ids').filter(lambda x: (x['after_treatment'] == 0).sum() == 0)\n",
    "\n",
    "# 変化率\n",
    "df['log_pop_diff'] = df.groupby('island_ids')['log_pop'].diff()\n",
    "df['log_pop_diff'] = df['log_pop_diff'].fillna(0)\n",
    "df['log_pop_diff_cumsum'] = df.groupby('island_ids')['log_pop_diff'].cumsum()\n",
    "df['pop_rate_of_change'] = (np.exp(df['log_pop_diff_cumsum']) - 1) * 100"
   ]
  },
  {
   "cell_type": "code",
   "execution_count": 4,
   "metadata": {},
   "outputs": [
    {
     "name": "stdout",
     "output_type": "stream",
     "text": [
      "<class 'pandas.core.frame.DataFrame'>\n",
      "Index: 794 entries, 124 to 3419\n",
      "Data columns (total 23 columns):\n",
      " #   Column                    Non-Null Count  Dtype  \n",
      "---  ------                    --------------  -----  \n",
      " 0   island_names              794 non-null    object \n",
      " 1   year                      794 non-null    int64  \n",
      " 2   island_ids                794 non-null    int64  \n",
      " 3   region_codes              794 non-null    object \n",
      " 4   region_names              794 non-null    object \n",
      " 5   prefecture_codes          794 non-null    int64  \n",
      " 6   population                794 non-null    float64\n",
      " 7   treatment_group           794 non-null    int64  \n",
      " 8   treatment_group_mainland  794 non-null    int64  \n",
      " 9   bridge_year               794 non-null    int64  \n",
      " 10  after_treatment           794 non-null    int64  \n",
      " 11  connect_mainland_year     794 non-null    int64  \n",
      " 12  after_treatment_mainland  794 non-null    int64  \n",
      " 13  income                    484 non-null    float64\n",
      " 14  prefecture_names          794 non-null    object \n",
      " 15  area_km2                  794 non-null    float64\n",
      " 16  distance_m                794 non-null    float64\n",
      " 17  log_pop                   794 non-null    float64\n",
      " 18  is_already_treated        794 non-null    int64  \n",
      " 19  time_since_treatment      794 non-null    int64  \n",
      " 20  log_pop_diff              794 non-null    float64\n",
      " 21  log_pop_diff_cumsum       794 non-null    float64\n",
      " 22  pop_rate_of_change        794 non-null    float64\n",
      "dtypes: float64(8), int64(11), object(4)\n",
      "memory usage: 148.9+ KB\n"
     ]
    }
   ],
   "source": [
    "df.info()"
   ]
  },
  {
   "cell_type": "markdown",
   "metadata": {},
   "source": [
    "## 保存"
   ]
  },
  {
   "cell_type": "code",
   "execution_count": 5,
   "metadata": {},
   "outputs": [],
   "source": [
    "df_filtered = df\n",
    "export_filepath = '../../data/processed/df_filtered.xlsx'\n",
    "df_filtered.to_excel(export_filepath, index=False)"
   ]
  }
 ],
 "metadata": {
  "kernelspec": {
   "display_name": "data-analysis",
   "language": "python",
   "name": "data-analysis"
  },
  "language_info": {
   "codemirror_mode": {
    "name": "ipython",
    "version": 3
   },
   "file_extension": ".py",
   "mimetype": "text/x-python",
   "name": "python",
   "nbconvert_exporter": "python",
   "pygments_lexer": "ipython3",
   "version": "3.12.6"
  }
 },
 "nbformat": 4,
 "nbformat_minor": 2
}
