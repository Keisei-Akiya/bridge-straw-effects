{
 "cells": [
  {
   "cell_type": "markdown",
   "metadata": {},
   "source": [
    "# Fillter"
   ]
  },
  {
   "cell_type": "code",
   "execution_count": 64,
   "metadata": {},
   "outputs": [],
   "source": [
    "import pandas as pd\n",
    "import numpy as np"
   ]
  },
  {
   "cell_type": "code",
   "execution_count": 67,
   "metadata": {},
   "outputs": [],
   "source": [
    "filepath = '../../data/raw/df.xlsx'\n",
    "df = pd.read_excel(filepath)\n",
    "# 5年ごとにする\n",
    "df = df[df['years'] % 5 == 0]\n",
    "# 遠すぎる島を除外\n",
    "df = df[df['distance_m'] <= 1991]\n",
    "# 人口変動率を追加\n",
    "df['population_change_rate'] = df.groupby('island_ids')['populations'].pct_change(fill_method=None) * 100\n",
    "# 経過年数を追加\n",
    "df['passage_of_year'] = np.where(df['treatment_group'] == 1, df['years'] - df['year_bridges_opened'], 0)"
   ]
  },
  {
   "cell_type": "code",
   "execution_count": 68,
   "metadata": {},
   "outputs": [],
   "source": [
    "# 同じisland_id内でafter_treatment == 0がないものを出力\n",
    "already_treated = df.groupby('island_ids').filter(lambda x: (x['after_treated'] == 0).sum() == 0)\n",
    "df = df[~df['island_ids'].isin(already_treated['island_ids'])]"
   ]
  },
  {
   "cell_type": "code",
   "execution_count": 69,
   "metadata": {},
   "outputs": [],
   "source": [
    "df_filtered = df\n",
    "export_filepath = '../../data/processed/df_filtered.xlsx'\n",
    "df_filtered.to_excel(export_filepath, index=False)"
   ]
  }
 ],
 "metadata": {
  "kernelspec": {
   "display_name": ".venv",
   "language": "python",
   "name": "python3"
  },
  "language_info": {
   "codemirror_mode": {
    "name": "ipython",
    "version": 3
   },
   "file_extension": ".py",
   "mimetype": "text/x-python",
   "name": "python",
   "nbconvert_exporter": "python",
   "pygments_lexer": "ipython3",
   "version": "3.10.15"
  }
 },
 "nbformat": 4,
 "nbformat_minor": 2
}
